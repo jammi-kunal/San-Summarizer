{
 "cells": [
  {
   "attachments": {},
   "cell_type": "markdown",
   "id": "15b55834",
   "metadata": {},
   "source": [
    "# This file is for the cleaning of the 2.3GB dataset. The dataset is given in the Data folder. Extract the files and use. This is the cleaning and creation process of the dataset. Provided for reference."
   ]
  },
  {
   "cell_type": "code",
   "execution_count": 39,
   "id": "c5598249",
   "metadata": {},
   "outputs": [],
   "source": [
    "from datasets import load_dataset\n",
    "import glob\n",
    "import string\n",
    "import re\n",
    "import os\n",
    "import shutil"
   ]
  },
  {
   "cell_type": "code",
   "execution_count": 40,
   "id": "3034bed4",
   "metadata": {},
   "outputs": [
    {
     "name": "stderr",
     "output_type": "stream",
     "text": [
      "Found cached dataset oscar (/home/msc2/.cache/huggingface/datasets/oscar/unshuffled_deduplicated_sa/1.0.0/84838bd49d2295f62008383b05620571535451d84545037bb94d6f3501651df2)\n"
     ]
    },
    {
     "data": {
      "application/vnd.jupyter.widget-view+json": {
       "model_id": "4f3032f1c5cb4319b1fbae8dc86af141",
       "version_major": 2,
       "version_minor": 0
      },
      "text/plain": [
       "  0%|          | 0/1 [00:00<?, ?it/s]"
      ]
     },
     "metadata": {},
     "output_type": "display_data"
    }
   ],
   "source": [
    "dataset = load_dataset('oscar', 'unshuffled_deduplicated_sa')"
   ]
  },
  {
   "cell_type": "code",
   "execution_count": 41,
   "id": "70e89b6d",
   "metadata": {},
   "outputs": [],
   "source": [
    "data_path1 = f'/media/msc2/A6982E8F982E5DD5/SEM3/Project/Abstract/Project/Parthi/scraped_data/Raw_data/'\n",
    "data_path2 = f'/home/msc2/Project/Sanskrit_Data/ROBERTA/content/supervised.txt'"
   ]
  },
  {
   "cell_type": "code",
   "execution_count": 42,
   "id": "93092e69",
   "metadata": {},
   "outputs": [],
   "source": [
    "data = ''"
   ]
  },
  {
   "cell_type": "code",
   "execution_count": 43,
   "id": "d15c1d0a",
   "metadata": {},
   "outputs": [],
   "source": [
    "#count = []\n",
    "# total unique tokens in data.\n",
    "for i in dataset['train']['text']:\n",
    "    #count += i.split(' ')\n",
    "    data += i+'/n'"
   ]
  },
  {
   "cell_type": "code",
   "execution_count": 44,
   "id": "88454d7d",
   "metadata": {},
   "outputs": [],
   "source": [
    "count = []\n",
    "for file in glob.glob(data_path1+'*'):\n",
    "    with open(file, 'r') as f:\n",
    "        x = f.read()\n",
    "        data += x+'/n'\n",
    "        count += x.split(' ')\n",
    "        f.close()"
   ]
  },
  {
   "cell_type": "code",
   "execution_count": 45,
   "id": "5b3847f2",
   "metadata": {},
   "outputs": [],
   "source": [
    "with open(data_path2, 'r') as f:\n",
    "    x = f.read()\n",
    "    data += x+'/n'\n",
    "    count += x.split(' ')\n",
    "    f.close()"
   ]
  },
  {
   "cell_type": "code",
   "execution_count": 46,
   "id": "ca20c096",
   "metadata": {},
   "outputs": [
    {
     "data": {
      "text/plain": [
       "920020"
      ]
     },
     "execution_count": 46,
     "metadata": {},
     "output_type": "execute_result"
    }
   ],
   "source": [
    "len(count) # all tokens (individual words) ~ thirty three million"
   ]
  },
  {
   "cell_type": "code",
   "execution_count": 47,
   "id": "19674c46",
   "metadata": {},
   "outputs": [
    {
     "data": {
      "text/plain": [
       "920020"
      ]
     },
     "execution_count": 47,
     "metadata": {},
     "output_type": "execute_result"
    }
   ],
   "source": [
    "len(count)"
   ]
  },
  {
   "cell_type": "code",
   "execution_count": 55,
   "id": "56c6e1ca",
   "metadata": {},
   "outputs": [
    {
     "data": {
      "text/plain": [
       "319365"
      ]
     },
     "execution_count": 55,
     "metadata": {},
     "output_type": "execute_result"
    }
   ],
   "source": [
    "len(set(count)) # unique tokens (individual words) ~ five million"
   ]
  },
  {
   "cell_type": "code",
   "execution_count": 56,
   "id": "b7ee147c",
   "metadata": {},
   "outputs": [
    {
     "data": {
      "text/plain": [
       "319365"
      ]
     },
     "execution_count": 56,
     "metadata": {},
     "output_type": "execute_result"
    }
   ],
   "source": [
    "len(set(count))"
   ]
  },
  {
   "cell_type": "code",
   "execution_count": 84,
   "id": "510c75e5",
   "metadata": {},
   "outputs": [],
   "source": [
    "tmp = data[938000:939000]"
   ]
  },
  {
   "cell_type": "code",
   "execution_count": 85,
   "id": "becbeb00",
   "metadata": {},
   "outputs": [
    {
     "data": {
      "text/plain": [
       "'२॥/n↑ United Nations Development Programme. (2011). Table 1 – Human Development Index and its components. Human Development Report 2010 – The Real Wealth of Nations: Pathways to Human Development. Palgrave Macmillan. ISBN 978-0-230-28445-6 90101./nThe wind smells like winter! ❄️❄️❄️ #saariselkä #saariselkamtb #saariselkämtb #saariselkamtbstages #fromwhereiride #visitfinland #onlyinlapland #epicrides #marathonmtb/nकामशास्त्रं संस्कृतस्य प्रसिद्धग्रन्थेषु अन्यतमम् । कामशास्त्रं प्रजापतेः एव आगतम् । अत्र प्रमाणमेवमस्ति\\nअत्र त्रिवर्गो नाम धर्मार्थकामाः । एषु त्रिषु कामस्यैव प्राधान्यम् । कामं विना सृष्टिरेव न भवति । \"स एकाकी न रमते । स द्वितीयमैच्छत्,बहु स्यां प्रजायेयेति, इच्छामात्रं प्रभोस्सृष्टिः\" इत्याद्युपनिषत्सूक्तयोऽपि कामस्यैव प्राधान्यं सूचयन्ति । धर्माविरुद्धावेव अर्थकामौ सेवेतेति ज्ञापयितुं धर्मस्य प्राधान्यं दत्तम् ।\\nकामसूत्राणि वात्स्यायननाम्ना प्रसिद्धानि । सः न कर्ता । मल्लनागाचार्य इति कश्चित् विद्वान् वत्सराजस्य पुत्रान् संस्कृतवानिति कारणतः तस्येव वात्स्यायन इति नामागतमित'"
      ]
     },
     "execution_count": 85,
     "metadata": {},
     "output_type": "execute_result"
    }
   ],
   "source": [
    "tmp"
   ]
  },
  {
   "cell_type": "code",
   "execution_count": 104,
   "id": "cae89ab9",
   "metadata": {},
   "outputs": [
    {
     "data": {
      "text/plain": [
       "'२। कामशास्त्रं संस्कृतस्य प्रसिद्धग्रन्थेषु अन्यतमम् । कामशास्त्रं प्रजापतेः एव आगतम् । अत्र प्रमाणमेवमस्ति\\nअत्र त्रिवर्गो नाम धर्मार्थकामाः । एषु त्रिषु कामस्यैव प्राधान्यम् । कामं विना सृष्टिरेव न भवति । स एकाकी न रमते । स द्वितीयमैच्छत्बहु स्यां प्रजायेयेति इच्छामात्रं प्रभोस्सृष्टिः इत्याद्युपनिषत्सूक्तयोऽपि कामस्यैव प्राधान्यं सूचयन्ति । धर्माविरुद्धावेव अर्थकामौ सेवेतेति ज्ञापयितुं धर्मस्य प्राधान्यं दत्तम् ।\\nकामसूत्राणि वात्स्यायननाम्ना प्रसिद्धानि । सः न कर्ता । मल्लनागाचार्य इति कश्चित् विद्वान् वत्सराजस्य पुत्रान् संस्कृतवानिति कारणतः तस्येव वात्स्यायन इति नामागतमित'"
      ]
     },
     "execution_count": 104,
     "metadata": {},
     "output_type": "execute_result"
    }
   ],
   "source": [
    "clean(tmp)"
   ]
  },
  {
   "cell_type": "code",
   "execution_count": 106,
   "id": "26701846",
   "metadata": {},
   "outputs": [],
   "source": [
    "def specific_clean(x, char):\n",
    "    \"\"\"Selective cleaning method.\n",
    "    \n",
    "    Args:\n",
    "        x (str): input dirty string\n",
    "        char (str): character or regex to remove from the string\n",
    "        \n",
    "    Returns:\n",
    "        x (str): cleaned string\n",
    "    \"\"\"\n",
    "    x = re.sub(char, '', x)\n",
    "    return x\n",
    "\n",
    "def clean(x):\n",
    "    \"\"\"General cleaning method.\n",
    "    \n",
    "    Args:\n",
    "        x (str): input dirty string\n",
    "    \n",
    "    Returns:\n",
    "        x (str): cleaned string\n",
    "    \"\"\"\n",
    "    x = re.sub(f\"[a-zA-z0-9{string.punctuation}]+\",\"\",x) # removes any english characters and english numerals.\n",
    "    x = re.sub(' +',' ',x) # replaces extra spaces with a single space\n",
    "    x = re.sub('[॥.*?॥]|[॥]', '।', x) # replaces ॥ text ॥ or॥ by a ।\n",
    "    x = re.sub('[\\n] +', '\\n', x) # replaces more than one newlines by a single newline\n",
    "    x = re.sub('[\\n.]+', '\\n', x)\n",
    "    x = re.sub('।+', '।', x) # replaces repitition of । by a single । \n",
    "    x = re.sub('\\n+ +', '\\n', x)\n",
    "    x = re.sub('\\n+', '\\n', x)\n",
    "    x = re.sub('[||.*?||]', '', x) # removes || text ||\n",
    "    return x"
   ]
  },
  {
   "attachments": {},
   "cell_type": "markdown",
   "id": "7ef7d38a",
   "metadata": {},
   "source": [
    "---\n",
    "\n",
    "### NEW DATA"
   ]
  },
  {
   "cell_type": "code",
   "execution_count": 3,
   "id": "559292b1",
   "metadata": {},
   "outputs": [],
   "source": [
    "new_data_path = '/home/msc2/Project/Sanskrit_Data/DistilBERT/newdata/raw_etexts-master/'"
   ]
  },
  {
   "cell_type": "code",
   "execution_count": 4,
   "id": "842a52fb",
   "metadata": {},
   "outputs": [],
   "source": [
    "ndata = glob.glob(new_data_path+'*')"
   ]
  },
  {
   "cell_type": "code",
   "execution_count": 5,
   "id": "b426cce0",
   "metadata": {},
   "outputs": [
    {
     "data": {
      "text/plain": [
       "['/home/msc2/Project/Sanskrit_Data/DistilBERT/newdata/raw_etexts-master/mixed',\n",
       " '/home/msc2/Project/Sanskrit_Data/DistilBERT/newdata/raw_etexts-master/vedAntam',\n",
       " '/home/msc2/Project/Sanskrit_Data/DistilBERT/newdata/raw_etexts-master/AgamAH',\n",
       " '/home/msc2/Project/Sanskrit_Data/DistilBERT/newdata/raw_etexts-master/kAvyam',\n",
       " '/home/msc2/Project/Sanskrit_Data/DistilBERT/newdata/raw_etexts-master/mImAMsA',\n",
       " '/home/msc2/Project/Sanskrit_Data/DistilBERT/newdata/raw_etexts-master/vaisheShikam',\n",
       " '/home/msc2/Project/Sanskrit_Data/DistilBERT/newdata/raw_etexts-master/vedaH',\n",
       " '/home/msc2/Project/Sanskrit_Data/DistilBERT/newdata/raw_etexts-master/jyotiSham',\n",
       " '/home/msc2/Project/Sanskrit_Data/DistilBERT/newdata/raw_etexts-master/nyAya-shAstram',\n",
       " '/home/msc2/Project/Sanskrit_Data/DistilBERT/newdata/raw_etexts-master/kalpaH',\n",
       " '/home/msc2/Project/Sanskrit_Data/DistilBERT/newdata/raw_etexts-master/purANam',\n",
       " '/home/msc2/Project/Sanskrit_Data/DistilBERT/newdata/raw_etexts-master/koshaH',\n",
       " '/home/msc2/Project/Sanskrit_Data/DistilBERT/newdata/raw_etexts-master/kalAH',\n",
       " '/home/msc2/Project/Sanskrit_Data/DistilBERT/newdata/raw_etexts-master/shixA',\n",
       " '/home/msc2/Project/Sanskrit_Data/DistilBERT/newdata/raw_etexts-master/AyurvedaH',\n",
       " '/home/msc2/Project/Sanskrit_Data/DistilBERT/newdata/raw_etexts-master/yogaH',\n",
       " '/home/msc2/Project/Sanskrit_Data/DistilBERT/newdata/raw_etexts-master/vyAkaraNam']"
      ]
     },
     "execution_count": 5,
     "metadata": {},
     "output_type": "execute_result"
    }
   ],
   "source": [
    "ndata"
   ]
  },
  {
   "cell_type": "code",
   "execution_count": 6,
   "id": "2c1883ae",
   "metadata": {},
   "outputs": [],
   "source": [
    "walk = list(os.walk('/home/msc2/Project/Sanskrit_Data/DistilBERT/newdata/raw_etexts-master/jyotiSham/'))"
   ]
  },
  {
   "cell_type": "code",
   "execution_count": 7,
   "id": "b3ed6b4b",
   "metadata": {},
   "outputs": [],
   "source": [
    "dest_dir = '/home/msc2/Project/Sanskrit_Data/DistilBERT/all_files/'"
   ]
  },
  {
   "cell_type": "code",
   "execution_count": 11,
   "id": "f7b52672",
   "metadata": {},
   "outputs": [],
   "source": [
    "def copy_files(parent_folder_path, files_inside):\n",
    "    try:\n",
    "        for file in files_inside:\n",
    "            if file.endswith('.md') or file.endswith('.txt'):\n",
    "                if parent_folder_path[-1] == '/':\n",
    "                    shutil.copy(parent_folder_path+file, dest_dir+file)\n",
    "                else:\n",
    "                    shutil.copy(parent_folder_path+'/'+file, dest_dir+file)\n",
    "        return True\n",
    "    except:\n",
    "        return False"
   ]
  },
  {
   "cell_type": "code",
   "execution_count": 12,
   "id": "606b8fc7",
   "metadata": {},
   "outputs": [],
   "source": [
    "def make_file(folder):\n",
    "    walk = list(os.walk(folder))\n",
    "    for path,subs,files in walk:\n",
    "        copy_files(path, files)"
   ]
  },
  {
   "cell_type": "code",
   "execution_count": 13,
   "id": "96c6f6cb",
   "metadata": {},
   "outputs": [],
   "source": [
    "for sub_folders in ndata:\n",
    "    make_file(sub_folders)"
   ]
  },
  {
   "cell_type": "code",
   "execution_count": 7,
   "id": "e30e4834",
   "metadata": {},
   "outputs": [],
   "source": [
    "def remove_empty_folders(path_abs):\n",
    "    walk = list(os.walk(path_abs))\n",
    "    for path, _, _ in walk[::-1]:\n",
    "        if len(os.listdir(path)) == 0:\n",
    "            os.rmdir(path)"
   ]
  },
  {
   "cell_type": "code",
   "execution_count": 20,
   "id": "724d7a9c",
   "metadata": {},
   "outputs": [],
   "source": [
    "remove_empty_folders(new_data_path)"
   ]
  },
  {
   "cell_type": "code",
   "execution_count": 17,
   "id": "dff0b33d",
   "metadata": {},
   "outputs": [
    {
     "data": {
      "text/plain": [
       "6657"
      ]
     },
     "execution_count": 17,
     "metadata": {},
     "output_type": "execute_result"
    }
   ],
   "source": [
    "new_data_files = glob.glob(dest_dir+'*')\n",
    "len(new_data_files)"
   ]
  },
  {
   "cell_type": "code",
   "execution_count": 59,
   "id": "afc483e7",
   "metadata": {},
   "outputs": [],
   "source": [
    "def clean_write_file_selective(file):\n",
    "    try:\n",
    "        with open(file, 'r+') as f:\n",
    "            txt = f.read()\n",
    "            clean_txt = selective_clean(txt)\n",
    "            f.seek(0)\n",
    "            f.write(clean_txt)\n",
    "            f.truncate()\n",
    "            f.close()\n",
    "        return True\n",
    "    except:\n",
    "        return False\n",
    "\n",
    "def clean_write_file(file):\n",
    "    try:\n",
    "        with open(file, 'r+') as f:\n",
    "            txt = f.read()\n",
    "            clean_txt = clean(txt)\n",
    "            f.seek(0)\n",
    "            f.write(clean_txt)\n",
    "            f.truncate()\n",
    "            f.close()\n",
    "        return True\n",
    "    except:\n",
    "        return False"
   ]
  },
  {
   "cell_type": "code",
   "execution_count": 60,
   "id": "dcc9aa82",
   "metadata": {
    "scrolled": true
   },
   "outputs": [
    {
     "name": "stdout",
     "output_type": "stream",
     "text": [
      "/home/msc2/Project/Sanskrit_Data/DistilBERT/all_files/MBTN_bhavachandrika_1.txt\n",
      "/home/msc2/Project/Sanskrit_Data/DistilBERT/all_files/chidgagana.2.txt\n",
      "/home/msc2/Project/Sanskrit_Data/DistilBERT/all_files/chidgaana.txt\n"
     ]
    }
   ],
   "source": [
    "for file in new_data_files:\n",
    "    flag = clean_write_file_selective(file)\n",
    "    if flag == False:\n",
    "        print(file)"
   ]
  },
  {
   "cell_type": "code",
   "execution_count": 61,
   "id": "302c520d",
   "metadata": {},
   "outputs": [],
   "source": [
    "def change_xtsn_to_txt(path):\n",
    "    for file in glob.glob(dest_dir+'*'):\n",
    "        try:\n",
    "            filename = file.split('/')[-1].split('.')[0]\n",
    "            os.rename(file, path+filename+'.txt')\n",
    "        except:\n",
    "            print(file)"
   ]
  },
  {
   "cell_type": "code",
   "execution_count": 62,
   "id": "1f2e468e",
   "metadata": {},
   "outputs": [],
   "source": [
    "change_xtsn_to_txt(dest_dir)"
   ]
  },
  {
   "attachments": {},
   "cell_type": "markdown",
   "id": "68494e3d",
   "metadata": {},
   "source": [
    "---\n",
    "### SAVING"
   ]
  },
  {
   "cell_type": "code",
   "execution_count": 37,
   "id": "57497148",
   "metadata": {},
   "outputs": [],
   "source": [
    "with open('/home/msc2/Project/Sanskrit_Data/raw_data_2.txt', 'a+') as f:\n",
    "    f.write(data)\n",
    "    f.close()"
   ]
  },
  {
   "cell_type": "code",
   "execution_count": 20,
   "id": "8ff8dac5",
   "metadata": {},
   "outputs": [],
   "source": [
    "lines = data.split('/n')"
   ]
  },
  {
   "cell_type": "code",
   "execution_count": 57,
   "id": "2ce9ff76",
   "metadata": {},
   "outputs": [],
   "source": [
    "def selective_clean(x):\n",
    "    x = re.sub(f'[।०१२३४५६७८९+।]', '।',x)\n",
    "    x = re.sub('। +', '', x)\n",
    "    x = re.sub(' +', ' ',x)\n",
    "    return x"
   ]
  },
  {
   "cell_type": "code",
   "execution_count": 86,
   "id": "4687fa26",
   "metadata": {},
   "outputs": [],
   "source": [
    "def clean(x):\n",
    "    x= re.sub(f\"[a-zA-z0-9{string.punctuation}]+\",\"\",x)\n",
    "    x = re.sub(' +',' ',x)\n",
    "    x = re.sub('[॥.*?॥]|[॥]', '।', x)\n",
    "    x = re.sub('[\\n] +', '\\n', x)\n",
    "    x = re.sub('[\\n.]+', '\\n', x)\n",
    "    #x = re.sub('[āĀīĪūŪṛṚṝḷḶḹṅṄñÑṭṬḍḌṇṆśŚṣṢṃḥēōḻṟṉḵṯ]+', '', x)\n",
    "    x = re.sub('।+', '।', x)\n",
    "    x = re.sub('\\n+ +', '\\n', x)\n",
    "    x = re.sub('\\n+', '\\n', x)\n",
    "    x = re.sub('[||.*?||]', '', x)\n",
    "    return x"
   ]
  },
  {
   "cell_type": "code",
   "execution_count": 67,
   "id": "410c0502",
   "metadata": {},
   "outputs": [],
   "source": [
    "clean_data = list(map(clean, lines))"
   ]
  },
  {
   "cell_type": "code",
   "execution_count": 210,
   "id": "f94092b9",
   "metadata": {},
   "outputs": [],
   "source": [
    "def move_files(src_path, dest_path):\n",
    "    for file in glob.glob(src_path+'*'):\n",
    "        try:\n",
    "            filename = file.split('/')[-1]\n",
    "            shutil.move(file, dest_path+filename)\n",
    "        except:\n",
    "            print(file)"
   ]
  },
  {
   "cell_type": "code",
   "execution_count": 211,
   "id": "37edc6af",
   "metadata": {},
   "outputs": [],
   "source": [
    "move_files(dest_dir, '/home/msc2/Project/Sanskrit_Data/DistilBERT/text1k/')"
   ]
  },
  {
   "cell_type": "code",
   "execution_count": 64,
   "id": "7e409de4",
   "metadata": {},
   "outputs": [],
   "source": [
    "text1k = '/home/msc2/Project/Sanskrit_Data/DistilBERT/text_files/'"
   ]
  },
  {
   "cell_type": "code",
   "execution_count": 68,
   "id": "2dd70536",
   "metadata": {},
   "outputs": [],
   "source": [
    "def rec_add(list_of_words, global_set):\n",
    "    for word in list_of_words:\n",
    "        global_set.add(word)\n",
    "    return global_set\n",
    "\n",
    "def data_stats(path):\n",
    "    words = []\n",
    "    unique_words = set()\n",
    "    for file in glob.glob(path+'*'):\n",
    "        try:\n",
    "            with open(file, 'r') as f:\n",
    "                tmp = f.read()\n",
    "                split_file = tmp.split(' ')\n",
    "                words.append(len(split_file))\n",
    "                unique_words = rec_add(split_file, unique_words)\n",
    "        except:\n",
    "            print(file)\n",
    "            continue\n",
    "    print(f'Total Words in Vocabulary: {sum(words)}')\n",
    "    print(f'Unique Words in Vocabulary: {len(unique_words)}')\n",
    "    return words, unique_words"
   ]
  },
  {
   "cell_type": "code",
   "execution_count": 69,
   "id": "72919c19",
   "metadata": {},
   "outputs": [
    {
     "name": "stdout",
     "output_type": "stream",
     "text": [
      "/home/msc2/Project/Sanskrit_Data/DistilBERT/text_files/5085.txt\n",
      "/home/msc2/Project/Sanskrit_Data/DistilBERT/text_files/4519.txt\n",
      "/home/msc2/Project/Sanskrit_Data/DistilBERT/text_files/6191.txt\n",
      "Total Words in Vocabulary: 82736540\n",
      "Unique Words in Vocabulary: 17707064\n"
     ]
    }
   ],
   "source": [
    "words, unique = data_stats(text1k)"
   ]
  },
  {
   "cell_type": "code",
   "execution_count": 235,
   "id": "49a9a002",
   "metadata": {},
   "outputs": [
    {
     "data": {
      "text/plain": [
       "'/home/msc2/Project/Sanskrit_Data/DistilBERT/text1k/'"
      ]
     },
     "execution_count": 235,
     "metadata": {},
     "output_type": "execute_result"
    }
   ],
   "source": [
    "for file in glob.glob(text1k+'*'):\n",
    "    if file.split()"
   ]
  },
  {
   "cell_type": "code",
   "execution_count": 247,
   "id": "6514698d",
   "metadata": {},
   "outputs": [],
   "source": [
    "def delete_from_to(src, dest):\n",
    "    dest_glob_list = os.listdir(dest)\n",
    "    for file in glob.glob(src+'*'):\n",
    "        try:\n",
    "            filename = file.split('/')[-1].split('.')[0]+'.txt'\n",
    "            if filename in dest_glob_list:\n",
    "                os.remove(dest+filename)\n",
    "            else:\n",
    "                print(filename)\n",
    "        except FileNotFoundError:\n",
    "            continue"
   ]
  },
  {
   "cell_type": "code",
   "execution_count": 248,
   "id": "561612c2",
   "metadata": {},
   "outputs": [
    {
     "name": "stdout",
     "output_type": "stream",
     "text": [
      "ekadasamukham.txt\n",
      "tatavodyota.txt\n",
      "tevaram_4_part_2_verses_488-1070.txt\n",
      "002_lankApurIvarNanam.txt\n",
      "tikapatthana_of_the_abhidhamma_pitaka_part_ii_plain_text_version.txt\n",
      "040_sagara-suta-vinAshaH.txt\n",
      "029_An_Indra.txt\n",
      "shiva-02-k3-18.txt\n",
      "kalisantarana.txt\n",
      "shiva-02-k2-11.txt\n",
      "manu-smrti.txt\n",
      "bana_kadambari_purvabhaga_varnana_84-122.txt\n",
      "118.txt\n",
      "sadacharadeepika_5.txt\n",
      "077_nikumbhena_yuddhabhUmipraveshaH.txt\n",
      "harivamsh01-54.txt\n",
      "KavyamalaVol_24-KavyapradipaOfGovinda1933.txt\n",
      "bhagavadgita_4_with_chommentaries.txt\n",
      "shiva-02-k3-32.txt\n",
      "parajika.txt\n",
      "bhagavadgita_with_four_chommentaries.txt\n",
      "173.txt\n",
      "ksemendra_darpadalana_plain_text.txt\n",
      "griffith_missing.txt\n",
      "adhyaya-03-16.txt\n",
      "revakhanda_o.txt\n",
      "14_sUktam_-_51.txt\n",
      "216.txt\n",
      "vivaraNam.txt\n",
      "sUrya-shatakam.txt\n",
      "shiva-02-k4-09.txt\n",
      "4_Loukikavishayatavadaha_s.txt\n",
      "tatvaprakashika_138.txt\n",
      "02_2_shrIgaNapatimantrAxarAvaliH.txt\n",
      "154_TippaNayaH.txt\n",
      "151_An_Mitra_und_Varuna.txt\n",
      "digha-nikaya_2_annotated_version.txt\n",
      "chandogyopanishaad.txt\n",
      "140_An_Agni.txt\n",
      "123_TippaNayaH.txt\n",
      "114_An_Rudra.txt\n",
      "tantrAkhyAyika_1.txt\n",
      "074_An_Soma.txt\n",
      "383.txt\n",
      "53_53_shrImahAdeva_gadyam.txt\n",
      "270_TippaNayaH.txt\n",
      "10_sUktam_-_10.txt\n",
      "tatvaprakashika_60.txt\n",
      "aryadeva_charyamelavanapradipa.txt\n",
      "rigarthoddhara_srinivasatirtha_31.txt\n",
      "vyala_shiksha.txt\n",
      "angirasasmrti_plain_text_version.txt\n",
      "KavyamalaVol_56-NeminirvanaOfVagbhata1936.txt\n",
      "tulsi_shabda_kosh_part_01_0093-0115.txt\n",
      "41_42_shrIsUryashatakam.txt\n",
      "vadavali (4).txt\n",
      "53.txt\n",
      "28_29_shrIpanchalingastotram.txt\n",
      "mAlavIkAgnimitram.txt\n",
      "vinayavastu_15_sayanasanavastu.txt\n",
      "tatvaprakashika_34.txt\n",
      "052_Fortsetzung_des_Gesprchs.txt\n",
      "53_sUktam_-_149.txt\n",
      "astadasasahasrika_prajnaparamita_parivartas_70_chontd_-_82.txt\n",
      "RIG_TIPPANI_ramachandra_sayana_3.txt\n",
      "262_TippaNayaH.txt\n",
      "intro-shaiva.txt\n",
      "096_sugrIveNa_virUpAxavadhaH.txt\n",
      "175_An_Indra.txt\n",
      "aranya_shiksha.txt\n",
      "tatvaprakashika_47.txt\n",
      "362.txt\n",
      "venkatanatha_vedantadesika_nyayaparisuddhi_adhyaya_52.txt\n",
      "tatvaprakashika_125.txt\n",
      "062_An_alle_Gtter_oder_die_Angiras.txt\n",
      "tatvaprakashika_vivruti_pandurangi_16.txt\n",
      "arunakirinatar_15th_ch_tiruppukal_part_4_verses_1001-1326.txt\n",
      "048_An_Vayu.txt\n",
      "01_1_shrInAmamauktikamAlA.txt\n",
      "tripuratapani.txt\n",
      "20_20_shrIranganAyikAstotram.txt\n",
      "abhinavagupta_bhairavastava.txt\n",
      "067_An_Mitra_und_Varuna.txt\n",
      "vimalamitra_abhidharmadipa_with_auto-chommentary_vibhasaprabhavrtti.txt\n",
      "tatvaprakashika_176.txt\n",
      "247_TippaNayaH.txt\n",
      "145.txt\n",
      "052_sItAvilApaH.txt\n",
      "rgveda.txt\n",
      "09_10_shrIgaNeshashatakam.txt\n",
      "garuda-purana_part_3.txt\n",
      "amarasimha_namalinganusasana_amarakosa_kanda_3.txt\n",
      "theragatha_plain_text_version_without_notes.txt\n",
      "yamuna_stotraratna_plain_text.txt\n",
      "badarayana_brahmasutra_adhyaya_2_with_samkara.txt\n",
      "MBTNirnya.txt\n",
      "027_rAmAyAstrapradAnam.txt\n",
      "004_rAmeNa_lankAprasthAne_muhUrtaniyojanam.txt\n",
      "tatvaprakashika_77.txt\n",
      "231.txt\n",
      "021_An_Agni.txt\n",
      "04_sUktam_-_4.txt\n",
      "053_rAvaNena_vajradaMShTrapreShaNam.txt\n",
      "brihadbhagavatamritam.txt\n",
      "052_An_Soma.txt\n",
      "katyayana-smrti_plain_text.txt\n",
      "tatvaprakashika_vivruti_pandurangi_27.txt\n",
      "080_mArganirmANam.txt\n",
      "kautilya_arthasastra.txt\n",
      "harivamsh01-42.txt\n",
      "yogasataka.txt\n",
      "rigbhashya_tika_sukta_10.txt\n",
      "022_rAvaNena_antasamayasUchanA.txt\n",
      "09.txt\n",
      "81_sUktam_-_81.txt\n",
      "44_sUktam_-_139.txt\n",
      "gautama_nyayasutra_with_tika.txt\n",
      "jayarasi_tattvopaplavasimha.txt\n",
      "KavyamalaVol_68-Ravanarjuniya-BhattaBhima1900.txt\n",
      "12_sUktam_-_46.txt\n",
      "036_umAmAhAtmyam.txt\n",
      "071_An_Savitri.txt\n",
      "97.txt\n",
      "bhagavatam-4_skandha1-part-1to10ad.txt\n",
      "036.txt\n",
      "tattvamimamsa.txt\n",
      "RIG_TIPPANI-3AD.txt\n",
      "82_TippaNayaH.txt\n",
      "AR6.txt\n",
      "vasishtha_smriti.txt\n",
      "mandukya-upanisad.txt\n",
      "059.txt\n",
      "nAradIya-purANam.txt\n",
      "08_tRtIyAdhyAyasyAShTamaH_pAdaH.txt\n",
      "013_Aprilied.txt\n",
      "003_An_Indra.txt\n",
      "S-AVRUTTYASHIKARANAM.txt\n",
      "171_TippaNayaH.txt\n",
      "kumarakuruparar_pantaramummanikkovai.txt\n",
      "shiva-01-04.txt\n",
      "49_nAsAroganidAnam.txt\n",
      "319.txt\n",
      "073_An_Indra.txt\n",
      "072_An_Agni.txt\n",
      "06_3,6.txt\n",
      "rasahrudayatantram.txt\n",
      "078_An_die_Asvin.txt\n",
      "034_dasharathamUrchChA.txt\n",
      "tatvaprakashika_5.txt\n",
      "shiva-02-k5-10.txt\n",
      "072_An_Indra_und_Soma.txt\n",
      "264.txt\n",
      "Yohi_Bhashya.txt\n",
      "saraswati.txt\n",
      "rigbhashya_tika_sukta_32_4.txt\n",
      "rastrapalasutra_plain_text.txt\n",
      "harivamsh01-14.txt\n",
      "tiruchchirrampalakkovaiyar_of_manikkavachakar.txt\n",
      "40_TippaNayaH.txt\n",
      "017_vibhIShaNena_rAmadarshanam.txt\n",
      "dhvajagrasutra_transliteration.txt\n",
      "106_An_Soma.txt\n",
      "151.txt\n",
      "udanavarga.txt\n",
      "linga_purana.txt\n",
      "05_aShTamAdhyAyasya_chaturthaH_pAdaH.txt\n",
      "kst.txt\n",
      "02_adhyAyaH_02.txt\n",
      "nirvana_dashakam.txt\n",
      "43_sUktam_-_43.txt\n",
      "047_marudutpattiH.txt\n",
      "038_hanumatA_sItAchUDAmaNiyAchanA.txt\n",
      "52.txt\n",
      "svara_panchashat.txt\n",
      "bhagavadgeeta_1tika_bhavadeepa_tippani_5.txt\n",
      "samantapasadika_buddhaghosa-s_chommentary_on_the_vinaya_pitaka_vol_ii_annotated_version.txt\n",
      "03_3_shrIShaDAnanastutiH.txt\n",
      "mahasubhasitasamgraha.txt\n",
      "02_sUchI.txt\n",
      "037.txt\n",
      "070.txt\n",
      "024_rAmaM_prati_kausalyopadeshaH.txt\n",
      "018_rAmeNa_vAlivadhasamarthanam.txt\n",
      "238.txt\n",
      "adhyaya-05-21.txt\n",
      "071.txt\n",
      "004_rAmAya_dasharathasyopadeshaH.txt\n",
      "bhagavata-purana_2.txt\n",
      "tantrAlokaH_viveka-vyAkhyA-sahitaH-2.txt\n",
      "145_An_Agni.txt\n",
      "salikanathamisra_prakaranapanchika_3.txt\n",
      "111_mandodarishokaH.txt\n",
      "saritcorpus.txt\n",
      "nagarjuna_bhavasamkrantiparikatha.txt\n",
      "jagannatha_pranabharana_with_auto-chommentary.txt\n",
      "057_An_alle_Gtter.txt\n",
      "jataka_i_ekanipata_annotated_version.txt\n",
      "kurinjchipattu_of_kapilar.txt\n",
      "harivamsh01-47.txt\n",
      "ChAndogyamantra-prakaraNam.txt\n",
      "011_kaikeyyAH_varayAchanA.txt\n",
      "24_TippaNayaH.txt\n",
      "bhrgu-samhita.txt\n",
      "163.txt\n",
      "23_adhyAyaH_23.txt\n",
      "78_sUktam_-_78.txt\n",
      "119_rAmasya_daNDakAraNyapraveshaH.txt\n",
      "079.txt\n",
      "shiva-02-k3-42.txt\n",
      "KavyamalaVol_21-GathaSaptasatiOfSatavahana1911.txt\n",
      "035_An_die_Asvin.txt\n",
      "shiva-02-k5-59.txt\n",
      "04_dvitIyAdhyAyasya_chaturthaH_pAdaH.txt\n",
      "078_An_Soma.txt\n",
      "tikapatthana_of_the_abhidhamma_pitaka_part_i_plain_text_version.txt\n",
      "geetatatparya.txt\n",
      "Ekavali.txt\n",
      "06_adhyAyaH_06.txt\n",
      "vasishtha_dhanur_veda.txt\n",
      "vamsha_brahmana.txt\n",
      "apishali_shiksha.txt\n",
      "bonda_lakshanam.txt\n",
      "banarasidasa_ardhakathanaka.txt\n",
      "buddhaghosa_visuddhimagga_annotated_version.txt\n",
      "17_vAtaraktanidAnam.txt\n",
      "paththirakiriyar-s_meynjanap_pulampal_siddar-s_series.txt\n",
      "ativirarama_pantiyan_1539-1610_verriverkai.txt\n",
      "jnanasambhu_sivapujastava.txt\n",
      "061_An_Sarasvati.txt\n",
      "cakrapanidatta-ayurvedadipika.txt\n",
      "028_vanavAsaduHkhavarNanam.txt\n",
      "KavyamalaVol_35-AlankarasarvasvaOfRajanakaRuyyaka1893.txt\n",
      "185_An_die_Aditi.txt\n",
      "115.txt\n",
      "014_rAmAnayanAya_sumantrapreShaNam.txt\n",
      "BSB_tatvaprakashika2.txt\n",
      "016_sItAM_dRShTvA_hanumAnnirvedaH.txt\n",
      "harShacharitam.txt\n",
      "visnudharma_pada_index.txt\n",
      "041.txt\n",
      "badarayana_brahmasutra_adhyaya_2_with_govindananda-s_ratnaprabhavyakhya.txt\n",
      "thiruvarutpa_ahaval_vadivudai_manikka_malai_of_ramalinga_adikal.txt\n",
      "shiva-02-k2-36.txt\n",
      "32_33_shrIagastyeshalingAShTakam.txt\n",
      "natarajapathu.txt\n",
      "visvanatha_kaviraja_sahityadarpana_with_2_chomm_parichCheda_5.txt\n",
      "buddhavamsa_annotated_version.txt\n",
      "268.txt\n",
      "tatvaprakashika_vivruti_pandurangi_17.txt\n",
      "012_agastyadarshanam.txt\n",
      "bhtlingk_and_roth_groes_petersburger_WrterbuCh.txt\n",
      "adhyaya-04-08.txt\n",
      "susena_ayurvedamahodadhau_annapanavidhi.txt\n",
      "rigbhashya_tika_sukta_1_a.txt\n",
      "124_TippaNayaH.txt\n",
      "68_TippaNayaH.txt\n",
      "KavyamalaVol_08-DharmasarmabhyudayamOfHarichandra1933.txt\n",
      "033_sItA-saramAsaMvAdaH.txt\n",
      "126_sUktam_-_126.txt\n",
      "097_An_Agni.txt\n",
      "13_13_shrIaruNAchalAShTakam.txt\n",
      "rigarthoddhara_srinivasatirtha_11.txt\n",
      "09_9_shrIdadhivAmanastotram.txt\n",
      "03_srotaH.txt\n",
      "gobhila_grihya_sutra.txt\n",
      "KavyamalaVol_75-JayantavijayaOfAbhayadeva.txt\n",
      "varahamihira_brhatsamhita.txt\n",
      "shiva-01-02.txt\n",
      "072_sItAprAptyupAyakathanam.txt\n",
      "53_TippaNayaH.txt\n",
      "51_51_shrIbilhaNastavaH.txt\n",
      "tatvaprakashika_2.txt\n",
      "satapatha-brahmana_5.txt\n",
      "shiva-01-05.txt\n",
      "91_sUktam_-_91.txt\n",
      "sira-upanisad_atharvasira-upanisad.txt\n",
      "138_An_Pusan.txt\n",
      "053_rAma-laxmaNasaMvAdaH.txt\n",
      "065_An_Agni.txt\n",
      "shiva-02-k2-43.txt\n",
      "RIG_TIPPANI-ad-1_3.txt\n",
      "002_An_Agni.txt\n",
      "116.txt\n",
      "bhasa_svapnavasavadatta.txt\n",
      "adhyaya-02-04.txt\n",
      "anguttara-nikaya_5_plain_text_version.txt\n",
      "adhyaya-01-02.txt\n",
      "129.txt\n",
      "160.txt\n",
      "66.txt\n",
      "patthana_2.txt\n",
      "bhagavatam-10_skandha1-part-1to10 ad.txt\n",
      "21_21_shrIrAghavastotram.txt\n",
      "karruvazikkiramam_a_chollechtion_of_poems_by_s_vilvaretinam.txt\n",
      "ratnakarasanti_bhramaharanama_hevajrasadhana.txt\n",
      "074_An_Agni.txt\n",
      "visnu-purana.txt\n",
      "mokavachal_-_a_chollechtion_of_short_stories_by_ranjchakumar.txt\n",
      "tatvaprakashika_58.txt\n",
      "tatvaprakashika_90.txt\n",
      "005_rAmeNa_sItAsmaraNam.txt\n",
      "nyayamrita_1_parichheda (15).txt\n",
      "027_trijaTAsvapnaH.txt\n",
      "theragatha_pts_layout_annotated.txt\n",
      "098_An_Agni_Viasvanara.txt\n",
      "234_TippaNayaH.txt\n",
      "agamasastra_3.txt\n",
      "070_dasharathavaMshakathanam.txt\n",
      "tatvaprakashika_vivruti_pandurangi_3.txt\n",
      "dhyanachandra_gosvami_radhakrsnastakaliyalilasmaranakramapaddhati.txt\n",
      "178_An_Indra.txt\n",
      "16_trayodashaprashnaH.txt\n",
      "048_shokamagnA-ayodhyA.txt\n",
      "002_Aprilied.txt\n",
      "tatvaprakashika_14.txt\n",
      "muththollayiram.txt\n",
      "KavyamalaVol_26-DasavataracharitamOfKshemendra1891.txt\n",
      "ksemendra_bharatamanjari_11.txt\n",
      "adhyaya-01-16.txt\n",
      "vatamalai_nikantu.txt\n",
      "02.txt\n",
      "26_26_shrItyAgarAjastavaH.txt\n",
      "brhaspati-smrti_vyavaharakanda.txt\n",
      "anguttara-nikaya_4_plain_text_version.txt\n",
      "satapatha-brahmana_8.txt\n",
      "040_An_Soma.txt\n",
      "020_An_Indra.txt\n",
      "bhiksuni-karmavachana.txt\n",
      "142.txt\n",
      "042_bhagIratha-yatnaH.txt\n",
      "satyasutra_transliteration.txt\n",
      "shiva-02-k5-33.txt\n",
      "RIG_TIPPANI_ramachandra_sayana_7.txt\n",
      "tatvaprakashika_30.txt\n",
      "128_sUktam_-_128.txt\n",
      "032_hanumantaM_vIxya_sItAyAH_bhayam.txt\n",
      "067.txt\n",
      "92.txt\n",
      "shRngAra-shatakam.txt\n",
      "adhyaya-05-35.txt\n",
      "023_khareNotpAtadarshanam.txt\n",
      "shiva-02-k2-27.txt\n",
      "svarasarabhutavarnakrama_shiksha.txt\n",
      "057_rAvaNa-prahastasaMvAdaH.txt\n",
      "pasupatasutra_analytich.txt\n",
      "146_An_Aranyani.txt\n",
      "salikanathamisra_prakaranapanchika_9.txt\n",
      "nyayavarttikatatparyatika.txt\n",
      "124_An_verschiedene_Gtter.txt\n",
      "015_indrajid-vibhIShaNasaMvAdaH.txt\n",
      "182_TippaNayaH.txt\n",
      "dharmasamuchchaya.txt\n",
      "durveka_misra_hetubindutikaloka.txt\n",
      "ratnAvalI.txt\n",
      "063_An_Soma.txt\n",
      "Ravanabaith.txt\n",
      "intro-samanya.txt\n",
      "26.txt\n",
      "asvaghosa_saundarananda.txt\n",
      "harsadeva_naganandanataka.txt\n",
      "nagesa_paribhasendusekhara.txt\n",
      "RIG_TIPPANI-ad-1_12.txt\n",
      "214.txt\n",
      "145_Gegen_die_Nebenbuhlerin.txt\n",
      "40_adhyAyaH_40.txt\n",
      "vatsyayana_kamasutram.txt\n",
      "RIG_TIPPANI-ad-1_11.txt\n",
      "095_mandAkinIsaundaryam-adhikApAtaH.txt\n",
      "udayana_nyayavarttikatatparyaparisuddhi_adhyaya_11.txt\n",
      "harivamsh01-23.txt\n",
      "054_bharadvAjAshramagamanam.txt\n",
      "034_Das_Lied_des_Spielers.txt\n",
      "salikanathamisra_prakaranapanchika_8.txt\n",
      "agni-purANam.txt\n",
      "abirami_amman_pathikam_by_abirami_bhutter.txt\n",
      "tevaram_1_part_ii_verses_722-1469.txt\n",
      "tatvaprakashika_62.txt\n",
      "pradyumnAbhyudayaH_iast.txt\n",
      "kesava_kausikapaddhati.txt\n",
      "nyayamrita_1_parichheda (6).txt\n",
      "tatvaprakashika_102.txt\n",
      "009_vibhIShaNanItiH.txt\n",
      "rgveda_-_khila.txt\n",
      "tatvaprakashika_vivruti_pandurangi_22.txt\n",
      "RIG_TIPPANI_ramachandra_sayana_5.txt\n",
      "011_An_Soma.txt\n",
      "shiva-02-k3-53.txt\n",
      "084_An_die_Erde.txt\n",
      "harivamsa_chonstituted_text_with_star_passages_with_pada_markers.txt\n",
      "006.txt\n",
      "ariyappatatavarkal_ninaivaka_by_a_jesurajah.txt\n",
      "096_An_Agni_den_Schtzespender.txt\n",
      "tatvaprakashika_54.txt\n",
      "049_An_Indra_und_Brihaspati.txt\n",
      "kiranatantra_Chapters_1-6.txt\n",
      "visnu-purana_pada_index.txt\n",
      "harivamsa_chonstituted_text_with_star_passages_plain_text_version.txt\n",
      "theivappaadalkal_of_ch_subramaniya_bharathiyar.txt\n",
      "157_TippaNayaH.txt\n",
      "74.txt\n",
      "026_rAvaNasya_kapinAyakavivaraNashravaNechChA.txt\n",
      "001_An_Soma.txt\n",
      "samantapasadika_buddhaghosa-s_chommentary_on_the_vinaya_pitaka_vol_iv_plain_text_version.txt\n",
      "041_An_alle_Gtter.txt\n",
      "nyayamrita_1_parichheda (9).txt\n",
      "mahasitavati_vidyarajni.txt\n",
      "shiva-02-k1-14.txt\n",
      "suttanipata_plain_text_version.txt\n",
      "053_An_Pusan.txt\n",
      "055_An_alle_Gtter.txt\n",
      "020_sItA-rAvaNasaMvAdaH.txt\n",
      "rigbhashya_tika_sukta_8.txt\n",
      "Dhyanbindu.txt\n",
      "minatchichuntaram_pillai_tirichirapuram_pirapantat_tirattu_part_3.txt\n",
      "RIG_TIPPANI-ad-1_20.txt\n",
      "sitatapatra.txt\n",
      "mammata_kavyaprakasa_karikavali.txt\n",
      "shiva-02-k2-01.txt\n",
      "27_27_shrIpAdasaptatiH.txt\n",
      "273_TippaNayaH.txt\n",
      "ajitasenavyakarana.txt\n",
      "bhagavadgeeta_tika_keshava_tippani_1.txt\n",
      "20_sUktam_-_20.txt\n",
      "285.txt\n",
      "pazaya_ramayanam.txt\n",
      "simanandadiksita_samkhyatattvavivechana.txt\n",
      "205_TippaNayaH.txt\n",
      "chandrasutra_plain_text.txt\n",
      "tatvodyota_satika.txt\n",
      "shiva-01-09.txt\n",
      "01_dvitIyo_bhedAdhyAyaH_prathamaH_pAdaH.txt\n",
      "231_TippaNayaH.txt\n",
      "dukapatthana_of_the_abhidhamma_pitaka_plain_text_version.txt\n",
      "kathavatthu_2.txt\n",
      "07_7_shrIrudramangalAshaMsanam.txt\n",
      "016_rAvaNena_vibhIShaNavachananirAkaraNam.txt\n",
      "rgveda_5.txt\n",
      "062_sampAtinA_svakathAnirUpaNam.txt\n",
      "BSB_BHAVADEEPA__4_AD_RAGHAVENDRAtirtha.txt\n",
      "parivasikavastu_of_the_vinayavastvagama_of_the_mulasarvastivadin.txt\n",
      "RIG_TIPPANI-ad-1_21.txt\n",
      "014_An_Indra.txt\n",
      "069_ayomukhyAH_karNAdiChedaH.txt\n",
      "057_trishankor_yajanaprArthanA.txt\n",
      "069_An_Indra_und_Vishnu.txt\n",
      "badarayana_brahmasutra_adhyaya_2_with_vachaspati-s_bhamati.txt\n",
      "RIG_TIPPANI_ramachandra_sayana_18.txt\n",
      "066_rAma-hanumatsaMvAdaH.txt\n",
      "shiva-01-14.txt\n",
      "155_Gegen_eine_Hexe.txt\n",
      "tatvaprakashika_79.txt\n",
      "02_2_shrImAtRstavaH.txt\n",
      "nalayira_tivviyap_pirapantam_2032-2790.txt\n",
      "hayagrivi_shiksha.txt\n",
      "037_An_Indra.txt\n",
      "075_An_Soma.txt\n",
      "108_An_Soma.txt\n",
      "141_An_die_Allgtter.txt\n",
      "svapna-vAsavadattam.txt\n",
      "KavyamalaVol_54-DhananjayavijayaOfKanchanacharya1911.txt\n",
      "sumadhva-vijaya.txt\n",
      "025_tATakAvadhapreraNA.txt\n",
      "jaimini_mimamsasutra.txt\n",
      "122_An_alle_Gtter.txt\n",
      "KavyamalaVol_73-SurathotsavamOfSomeswaradeva1902.txt\n",
      "amoghanandini_shiksha.txt\n",
      "006_rAvaNa-tanmantrisaMvAdaH.txt\n",
      "tulsi_shabda_kosh_part_01_0024-0046.txt\n",
      "rgveda-samhita_padapatha_text_mandala_2.txt\n",
      "ksemendra_bharatamanjari_14.txt\n",
      "019_vanavAsapratijnA.txt\n",
      "55_sUtikAroganidAm.txt\n",
      "13_adhyAyaH_13.txt\n",
      "patisambhidamagga_i_mahavagga_iv-X_ii_yuganandhavagga_iii_pannanavagga_annotated_version.txt\n",
      "chakrapaninatha_bhavopaharastotra_-_pada_index.txt\n",
      "44_visphoTanidAnam.txt\n",
      "nyayamrita-vyakhayana-vijayayati.txt\n",
      "dhammapada.txt\n",
      "vasistadharmasutra.txt\n",
      "vamana-purana_saromahatmya.txt\n",
      "119_sUktam_-_119.txt\n",
      "intro-sanyasa.txt\n",
      "abhinavagupta_malinislokavarttika_kanda_1.txt\n",
      "tevaram_tirumurai_5_part_2_verses_510_-1016.txt\n",
      "upayahrdaya.txt\n",
      "shiva-02-k4-16.txt\n",
      "tatvaprakashika_126.txt\n",
      "shiva-02-k3-17.txt\n",
      "017_An_Agni.txt\n",
      "044_kausalyAsAntvanam.txt\n",
      "svarashtaka_shiksha.txt\n",
      "tithinirnaya.txt\n",
      "adhyaya-01-15.txt\n",
      "tulsi_shabda_kosh_part_01_0208-0230.txt\n",
      "baudhayana-dharmasutra.txt\n",
      "66_TippaNayaH.txt\n",
      "008.txt\n",
      "tulsi_shabda_kosh_part_02_0451-0475.txt\n",
      "020_tArAvilApaH.txt\n",
      "yamasmrti_south_indian_rechension.txt\n",
      "240.txt\n",
      "Pindalakshanam.txt\n",
      "Naradabaith_Vyakhya.txt\n",
      "dipankarasrijnana_mahayanapathasadhanasamgraha.txt\n",
      "tatvadeepika.txt\n",
      "169.txt\n",
      "059_dasharathavilApaH.txt\n",
      "009_An_die_Gewsser.txt\n",
      "sivamahimnastava.txt\n",
      "045_sItAdurvachanAt-laxmaNanirgamanam.txt\n",
      "simhabhupala_rasarnavasudhakara_only_karikas.txt\n",
      "krsnadasa_bhavanasarasamgraha_lila.txt\n",
      "073_sugrIvAsthAnamArgadarshanam.txt\n",
      "bhagavadgeeta_3tika.txt\n",
      "367.txt\n",
      "abhinavagupta_malinislokavarttika_kanda_2.txt\n",
      "arunakirinatar_tiruppukal_part_1.txt\n",
      "shiva-02-k1-16.txt\n",
      "shiva-02-k1-09.txt\n",
      "dharma-sUtrANi.txt\n",
      "038_rAmaguNavarNanam.txt\n",
      "129_sUktam_-_129.txt\n",
      "168.txt\n",
      "094_An_Indra_und_Agni.txt\n",
      "031.txt\n",
      "07_chaturthaprashnaH.txt\n",
      "shiva-02-k3-37.txt\n",
      "shiva-02-k5-01.txt\n",
      "087_An_Soma.txt\n",
      "100_An_alle_Gtter.txt\n",
      "arthavinischayasutra.txt\n",
      "khandadeva_bhattadipika_12.txt\n",
      "82_sUktam_-_82.txt\n",
      "29.txt\n",
      "patanjali_vyakaranamahabhasya.txt\n",
      "utpaladeva_isvarapratyabhijnakarika_teXt_With_pada_markers.txt\n",
      "kurma-purana_part_2.txt\n",
      "vaikhanasa-dharmasutra.txt\n",
      "046_An_Soma.txt\n",
      "jataka_3.txt\n",
      "120_indreNa_varadAnam.txt\n",
      "rigarthoddhara_srinivasatirtha_33.txt\n",
      "adhyaya-04-11.txt\n",
      "sagaranagarajapariprchCha_nama_mahayanasutra.txt\n",
      "astadasasahasrika_prajnaparamita_parivartas_55_-_70_.txt\n",
      "156_TippaNayaH.txt\n",
      "341.txt\n",
      "bramhasutra_bhavapradeepa.txt\n",
      "tatvaprakashika_49.txt\n",
      "bhattanarayana_venisamhara.txt\n",
      "harivamsh01-38.txt\n",
      "aingurunuru_of_kudalur_kizhar.txt\n",
      "44_44_shrIaparAdhastavaH.txt\n",
      "rgveda-samhita_padapatha_text_mandala_7.txt\n",
      "shiva-02-k3-13.txt\n",
      "009_rAja-sUta-saMvAdaH.txt\n",
      "vijnanabhairava.txt\n",
      "028_An_Indra_und_Soma.txt\n",
      "chaNDI-shatakam.txt\n",
      "bhagavata-purana_10.txt\n",
      "KavyamalaVol_72-KathakautukamOfSrivara1901.txt\n",
      "158.txt\n",
      "maNi-kaNA_sandhi-split.txt\n",
      "utpaladeva_isvarapratyabhijnakarika_with_vrtti_pada_indeX.txt\n",
      "033_hanumati_sItAvishvAsaH.txt\n",
      "083.txt\n",
      "102_nivApAnjalidAnam.txt\n",
      "tattvachintAmaNI.txt\n",
      "bharata_natyasastra.txt\n",
      "mahapratisaravidyavidhi.txt\n",
      "samantapasadika_buddhaghosa-s_chommentary_on_the_vinaya_pitaka_vol_v_annotated_version.txt\n",
      "sardhatrisatikalottaragama.txt\n",
      "022_An_die_Asvin.txt\n",
      "118_sUktam_-_118.txt\n",
      "abhijJNAna-shAkuntalam.txt\n",
      "30_31_shrIgaNeshapUrvashatakam.txt\n",
      "009_An_Indra.txt\n",
      "Vaidyanatha_Baith.txt\n",
      "sattarkadeepavali.txt\n",
      "148.txt\n",
      "vamana_purana.txt\n",
      "padmagupta_alias_parimala_navasahasankacharita_pada_index.txt\n",
      "60_sUktam_-_18.txt\n",
      "037_vibhIShaNena_guptacharapreShaNam.txt\n",
      "047_rAvaNena_svaishvaryakathanam.txt\n",
      "037_mArIchakRtarAvaNabodhaH.txt\n",
      "mahaparinirvanasutra.txt\n",
      "09_9_shrIgovindastavarAjaH.txt\n",
      "02_2_shrIrAmakarmanAmAShTAviMshatyuttarashatastotram.txt\n",
      "060_rAvaNena_kumbhakarNaM_bodhayituM_prayatnaH.txt\n",
      "tulsi_shabda_kosh_part_02_0526-0550.txt\n",
      "laukika-nyAya-ratnAkaraH_vedAnta-prakaraNAtmakaHv3.txt\n",
      "chittalaichchattanar_ch_500_manimekalai.txt\n",
      "sarvatathagatatattvasamgraha.txt\n",
      "isvarakrsna_samkhyakarika_with_samkara_arya.txt\n",
      "034_An_die_Asvin.txt\n",
      "kadambari_bhAnuchandra-TIkA_ocr.txt\n",
      "harivamsh01-08.txt\n",
      "69.txt\n",
      "shiva-02-k5-45.txt\n",
      "adhyaya-05-17.txt\n",
      "19.txt\n",
      "125_An_die_Vac_die_Rede.txt\n",
      "KavyamalaVol_93-PandavacharitamMahakavyamOfMuralidaharadev1911.txt\n",
      "dantyosthavidhi.txt\n",
      "05_5_shrIvipurasundarIstotram.txt\n",
      "shiva-00-06.txt\n",
      "151_TippaNayaH.txt\n",
      "03.txt\n",
      "106_An_die_Asvin.txt\n",
      "kumara_kuruparar-s_meenakshiammai_pillai_thamiz.txt\n",
      "paratrimsika.txt\n",
      "dighanikaya_1.txt\n",
      "nagnajit_chitralaksana_text_with_pada_markers.txt\n",
      "037_Gtterturnus.txt\n",
      "dighanikaya_2.txt\n",
      "089_An_Indra.txt\n",
      "vasubandhu_madhyantavibhagakarikabhasya.txt\n",
      "20_20_shrIrAmaprapattishatakam.txt\n",
      "parthasarathi_misra_sastradipika.txt\n",
      "116_An_Indra.txt\n",
      "KavyamalaVol_19-SuryasatakamOfMayura1954.txt\n",
      "40_40_shrIkAlahastIshvarAShTakam.txt\n",
      "haTha-yoga-pradIpikA.txt\n",
      "katakopanishat.txt\n",
      "024_sItA-rAxasIsaMvAdaH.txt\n",
      "113_An_Usas.txt\n",
      "gItagovindam.txt\n",
      "shiva-02-k3-25.txt\n",
      "sadacharadeepika_1.txt\n",
      "padmagupta_alias_parimala_navasahasankacharita_analytich_text_version.txt\n",
      "harivamsh02-17.txt\n",
      "100_An_Indra_und_die_Vak.txt\n",
      "017.txt\n",
      "the_Works_of_auvaiyar_10th_-_12th_chent.txt\n",
      "126_hanumatA_rAmAgamanasandeshaH.txt\n",
      "45_TippaNayaH.txt\n",
      "v1.txt\n",
      "v2.txt\n",
      "90_sUktam_-_90.txt\n",
      "13_13_shrI_akhilANDanAyikAdaNDakaH.txt\n",
      "udayana_nyayavarttikatatparyaparisuddhi_adhyaya_12.txt\n",
      "aparimitayuhsutra.txt\n",
      "lomasiya_shiksha.txt\n",
      "018_An_Soma.txt\n",
      "skandapuranam_1.txt\n",
      "073_An_Agni.txt\n",
      "kulasekhara_mukundamala.txt\n",
      "006_rAmasya_raxovadhapratijnA.txt\n",
      "21.txt\n",
      "62_TippaNayaH.txt\n",
      "manava_shulba_sutra.txt\n",
      "vadavali.txt\n",
      "harivamsh01-39.txt\n",
      "manusmrti.txt\n",
      "monier-Williams_english_and_sanskrit_dichtionary.txt\n",
      "shiva-02-k2-32.txt\n",
      "harivamsa_chumulative_pada_index.txt\n",
      "bhagavatam-8_skandha.txt\n",
      "valmiki_ramayana_6_yuddhakanda.txt\n",
      "adhyaya-03-13.txt\n",
      "brahmabindu-upanisad.txt\n",
      "harivamsh01-53.txt\n",
      "ardhantyam.txt\n",
      "samanyanirukti.txt\n",
      "badarayana_brahmasutra_adhyaya_4_with_govindananda-s_ratnaprabhavyakhya.txt\n",
      "lagadha_rgvedavedangajyotisa.txt\n",
      "sattarkadeepavali.txt\n",
      "badarayana_brahmasutra_adhyaya_2_with_samkara.txt\n",
      "sattarkadeepavali.txt\n",
      "sattarkadeepavali.txt\n",
      "sattarkadeepavali.txt\n",
      "sattarkadeepavali.txt\n"
     ]
    },
    {
     "name": "stdout",
     "output_type": "stream",
     "text": [
      "sattarkadeepavali.txt\n",
      "sattarkadeepavali.txt\n",
      "vadavali.txt\n",
      "bhagavadgeeta_3tika.txt\n",
      "bhagavadgeeta_3tika.txt\n",
      "sattarkadeepavali.txt\n",
      "sattarkadeepavali.txt\n",
      "sattarkadeepavali.txt\n",
      "sattarkadeepavali.txt\n",
      "sattarkadeepavali.txt\n",
      "sattarkadeepavali.txt\n",
      "sattarkadeepavali.txt\n",
      "sattarkadeepavali.txt\n",
      "sattarkadeepavali.txt\n",
      "sattarkadeepavali.txt\n",
      "sattarkadeepavali.txt\n"
     ]
    }
   ],
   "source": [
    "delete_from_to(dest_dir, text1k)"
   ]
  }
 ],
 "metadata": {
  "kernelspec": {
   "display_name": "Python 3 (ipykernel)",
   "language": "python",
   "name": "python3"
  },
  "language_info": {
   "codemirror_mode": {
    "name": "ipython",
    "version": 3
   },
   "file_extension": ".py",
   "mimetype": "text/x-python",
   "name": "python",
   "nbconvert_exporter": "python",
   "pygments_lexer": "ipython3",
   "version": "3.8.10"
  }
 },
 "nbformat": 4,
 "nbformat_minor": 5
}
