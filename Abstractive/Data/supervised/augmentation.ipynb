{
 "cells": [
  {
   "cell_type": "code",
   "execution_count": 1,
   "id": "b912b075",
   "metadata": {},
   "outputs": [
    {
     "name": "stderr",
     "output_type": "stream",
     "text": [
      "/home/msc2/Jupyter/jupyterenv/lib/python3.8/site-packages/transformers/generation_utils.py:24: FutureWarning: Importing `GenerationMixin` from `src/transformers/generation_utils.py` is deprecated and will be removed in Transformers v5. Import as `from transformers import GenerationMixin` instead.\n",
      "  warnings.warn(\n",
      "/home/msc2/Jupyter/jupyterenv/lib/python3.8/site-packages/transformers/generation_tf_utils.py:24: FutureWarning: Importing `TFGenerationMixin` from `src/transformers/generation_tf_utils.py` is deprecated and will be removed in Transformers v5. Import as `from transformers import TFGenerationMixin` instead.\n",
      "  warnings.warn(\n",
      "2023-04-17 10:05:08.351287: W tensorflow/stream_executor/platform/default/dso_loader.cc:64] Could not load dynamic library 'libcuda.so.1'; dlerror: libcuda.so.1: cannot open shared object file: No such file or directory\n",
      "2023-04-17 10:05:08.351362: W tensorflow/stream_executor/cuda/cuda_driver.cc:269] failed call to cuInit: UNKNOWN ERROR (303)\n"
     ]
    }
   ],
   "source": [
    "import random\n",
    "import itertools\n",
    "import re\n",
    "import pandas as pd\n",
    "from transformers import *\n",
    "import torch"
   ]
  },
  {
   "cell_type": "code",
   "execution_count": 4,
   "id": "bbb3e786",
   "metadata": {},
   "outputs": [],
   "source": [
    "train_df = pd.read_csv('./train.csv')"
   ]
  },
  {
   "cell_type": "code",
   "execution_count": 5,
   "id": "74e423ea",
   "metadata": {},
   "outputs": [],
   "source": [
    "tmp_df = train_df.head()"
   ]
  },
  {
   "cell_type": "code",
   "execution_count": null,
   "id": "1e12d71f",
   "metadata": {
    "scrolled": true
   },
   "outputs": [],
   "source": [
    "# model = BertModel.from_pretrained('/media/msc2/A6982E8F982E5DD5/SEM3/Project/Models/bert-trained/', output_attentions = True)\n",
    "# tokenizer = BertTokenizer.from_pretrained('/media/msc2/A6982E8F982E5DD5/SEM3/Project/Models/bert-trained/')"
   ]
  },
  {
   "cell_type": "code",
   "execution_count": 7,
   "id": "9b3a4110",
   "metadata": {},
   "outputs": [],
   "source": [
    "def get_indices(sents, samples):\n",
    "    indices = []\n",
    "    for sample in samples:\n",
    "        indices.append(sents.index(sample))\n",
    "    return indices\n",
    "\n",
    "def set_indices(sents, samples, indices):\n",
    "    for idx in range(len(samples)):\n",
    "        sents[indices[idx]] = samples[idx]\n",
    "    return sents\n",
    "\n",
    "def generate_perms_summary(summ, num_shuffles = 10):\n",
    "    '''for summaries'''\n",
    "    sentences = set()\n",
    "    sents = re.split('।', summ)\n",
    "    if len(sents)>1:\n",
    "        sents = sents[:-1]\n",
    "    for _ in range(num_shuffles):\n",
    "        tmp_sents = []\n",
    "        for sent in sents:\n",
    "            words = re.split('\\s+', sent)\n",
    "            tmp_sents.append(' '.join(random.sample(words, len(words))))\n",
    "        final_sents = ' । '.join(tmp_sents)+' । '     \n",
    "        sentences.add(final_sents)\n",
    "    return sentences\n",
    "\n",
    "def generate_perms_text(text, num_shuffles = 10, sent_frac = 0.6):\n",
    "    '''for multiline sentences'''\n",
    "    sentences = set()\n",
    "    sents = re.split('।', text)\n",
    "    if len(sents) > 1:\n",
    "        sents = sents[:-1]\n",
    "    for _ in range(num_shuffles):\n",
    "        tmp_sample_sent_list = []\n",
    "        sample_sents = random.sample(sents, int(sent_frac * (len(sents))))\n",
    "        sample_indices = get_indices(sents, sample_sents)\n",
    "        for sent in sample_sents:\n",
    "            words = re.split('\\s+', sent)\n",
    "            tmp_sample_sent_list.append(' '.join(random.sample(words, len(words))))\n",
    "        tmp_sent_list = set_indices(sents, tmp_sample_sent_list, sample_indices)\n",
    "        sentences.add(' । '.join(tmp_sent_list))\n",
    "    return sentences"
   ]
  },
  {
   "cell_type": "code",
   "execution_count": 8,
   "id": "8ff07596",
   "metadata": {},
   "outputs": [],
   "source": [
    "def stats(df, label = None):\n",
    "    print(f'{label} : {df.shape}')\n",
    "    for col in df.columns:\n",
    "        print(f'Null in {col}: {df[col].isna().sum()}')\n",
    "        print(f'Duplicates in {col}: {df.duplicated(subset = [col]).sum()}')\n",
    "    return\n",
    "\n",
    "def is_dup(col):\n",
    "    flag = False\n",
    "    l = []\n",
    "    for idx in range(len(col)-1):\n",
    "        if col.loc[idx] == col.loc[idx+1]:\n",
    "            l.append(idx)\n",
    "            flag = True\n",
    "    return flag, l"
   ]
  },
  {
   "cell_type": "code",
   "execution_count": 9,
   "id": "a8e2c02f",
   "metadata": {},
   "outputs": [],
   "source": [
    "def apply_perms(row, num_shuffles, sent_frac = 0.6):\n",
    "    perms = list(generate_perms_text(row['text'], num_shuffles = num_shuffles, sent_frac = sent_frac))\n",
    "    labels = list(generate_perms_summary(row['summary'], num_shuffles = num_shuffles))\n",
    "    return pd.DataFrame(list(zip(perms, labels)),columns =['text', 'summary'])"
   ]
  },
  {
   "cell_type": "code",
   "execution_count": 10,
   "id": "52aeaa33",
   "metadata": {},
   "outputs": [],
   "source": [
    "def generate_subset(df, percent = 0.2, num_shuffles = 3, sent_frac = 0.6):\n",
    "    subset = df.sample(frac = percent)\n",
    "    permutations_df = pd.DataFrame(columns = ['text', 'summary'])\n",
    "    for row in subset.iterrows():\n",
    "        tmp_df = apply_perms(row[1], num_shuffles, sent_frac = sent_frac)\n",
    "        permutations_df = pd.concat([permutations_df, tmp_df], ignore_index = True)\n",
    "    aug_df = pd.concat([df, permutations_df], ignore_index = True).sample(frac = 1, ignore_index = True)\n",
    "    return aug_df"
   ]
  },
  {
   "cell_type": "code",
   "execution_count": 13,
   "id": "432e4120",
   "metadata": {},
   "outputs": [],
   "source": [
    "aug_tmp_df = generate_subset(tmp_df, percent = 1, num_shuffles = 1, sent_frac = 0.6)"
   ]
  },
  {
   "cell_type": "code",
   "execution_count": 14,
   "id": "75a31b99",
   "metadata": {},
   "outputs": [
    {
     "data": {
      "text/html": [
       "<div>\n",
       "<style scoped>\n",
       "    .dataframe tbody tr th:only-of-type {\n",
       "        vertical-align: middle;\n",
       "    }\n",
       "\n",
       "    .dataframe tbody tr th {\n",
       "        vertical-align: top;\n",
       "    }\n",
       "\n",
       "    .dataframe thead th {\n",
       "        text-align: right;\n",
       "    }\n",
       "</style>\n",
       "<table border=\"1\" class=\"dataframe\">\n",
       "  <thead>\n",
       "    <tr style=\"text-align: right;\">\n",
       "      <th></th>\n",
       "      <th>text</th>\n",
       "      <th>summary</th>\n",
       "    </tr>\n",
       "  </thead>\n",
       "  <tbody>\n",
       "    <tr>\n",
       "      <th>0</th>\n",
       "      <td>तेहान्  गते सतम्बरमासे इति संसदीयसत्येशोधनासमि...</td>\n",
       "      <td>बालेषु विषानिलाक्रमणम् ।</td>\n",
       "    </tr>\n",
       "    <tr>\n",
       "      <th>1</th>\n",
       "      <td>• डा० विडि हेगडे, मैसूरु पाकिस्ताने कुटिला राज...</td>\n",
       "      <td>इमरान् खानं कुटिला राजनीति वरयते  ।</td>\n",
       "    </tr>\n",
       "    <tr>\n",
       "      <th>2</th>\n",
       "      <td>• डा० विडि हेगडे, मैसूरु पाकिस्ताने कुटिला राज...</td>\n",
       "      <td>कुटिला राजनीति इमरान् खानं वरयते</td>\n",
       "    </tr>\n",
       "    <tr>\n",
       "      <th>3</th>\n",
       "      <td>अतिरूक्षस्य प्रलयदुरन्तस्य पश्चात् केरलानां प्...</td>\n",
       "      <td>केरले राज्यस्तरीयः कायिकोत्सवः समारब्धः।</td>\n",
       "    </tr>\n",
       "    <tr>\n",
       "      <th>4</th>\n",
       "      <td>तेहान्  गते सतम्बरमासे इति संसदीयसत्येशोधनासमि...</td>\n",
       "      <td>बालेषु विषानिलाक्रमणम्</td>\n",
       "    </tr>\n",
       "    <tr>\n",
       "      <th>5</th>\n",
       "      <td>सूरतविमानस्थानकात् राजस्थानं प्रति गन्तुकामाना...</td>\n",
       "      <td>फरवरीमासात् सूरतनगरात् अतिरिक्तविमानसेवा स्थिर...</td>\n",
       "    </tr>\n",
       "    <tr>\n",
       "      <th>6</th>\n",
       "      <td>- ७०,३१,३७७ अभवन् जनाः विश्वे कोविड् अद्यावधि ...</td>\n",
       "      <td>सप्ततिलक्षं कोविड्रोगिणः मरणानि आविश्वं , चतुर...</td>\n",
       "    </tr>\n",
       "    <tr>\n",
       "      <th>7</th>\n",
       "      <td>सूरतविमानस्थानकात् राजस्थानं प्रति गन्तुकामाना...</td>\n",
       "      <td>स्थिरीकृता अतिरिक्तविमानसेवा सूरतनगरात् फरवरीम...</td>\n",
       "    </tr>\n",
       "    <tr>\n",
       "      <th>8</th>\n",
       "      <td>प्रथमः सार्वजनीनसङ्गमः प्रलयदुरन्तस्य केरलानां...</td>\n",
       "      <td>राज्यस्तरीयः समारब्धः कायिकोत्सवः केरले ।</td>\n",
       "    </tr>\n",
       "    <tr>\n",
       "      <th>9</th>\n",
       "      <td>विश्वे अद्यावधि ७०,३१,३७७ जनाः कोविड् - १९रोगब...</td>\n",
       "      <td>आविश्वं कोविड्रोगिणः सप्ततिलक्षं , मरणानि चतुर...</td>\n",
       "    </tr>\n",
       "  </tbody>\n",
       "</table>\n",
       "</div>"
      ],
      "text/plain": [
       "                                                text  \\\n",
       "0  तेहान्  गते सतम्बरमासे इति संसदीयसत्येशोधनासमि...   \n",
       "1  • डा० विडि हेगडे, मैसूरु पाकिस्ताने कुटिला राज...   \n",
       "2  • डा० विडि हेगडे, मैसूरु पाकिस्ताने कुटिला राज...   \n",
       "3  अतिरूक्षस्य प्रलयदुरन्तस्य पश्चात् केरलानां प्...   \n",
       "4  तेहान्  गते सतम्बरमासे इति संसदीयसत्येशोधनासमि...   \n",
       "5  सूरतविमानस्थानकात् राजस्थानं प्रति गन्तुकामाना...   \n",
       "6  - ७०,३१,३७७ अभवन् जनाः विश्वे कोविड् अद्यावधि ...   \n",
       "7  सूरतविमानस्थानकात् राजस्थानं प्रति गन्तुकामाना...   \n",
       "8  प्रथमः सार्वजनीनसङ्गमः प्रलयदुरन्तस्य केरलानां...   \n",
       "9  विश्वे अद्यावधि ७०,३१,३७७ जनाः कोविड् - १९रोगब...   \n",
       "\n",
       "                                             summary  \n",
       "0                          बालेषु विषानिलाक्रमणम् ।   \n",
       "1               इमरान् खानं कुटिला राजनीति वरयते  ।   \n",
       "2                  कुटिला राजनीति इमरान् खानं वरयते   \n",
       "3           केरले राज्यस्तरीयः कायिकोत्सवः समारब्धः।  \n",
       "4                            बालेषु विषानिलाक्रमणम्   \n",
       "5  फरवरीमासात् सूरतनगरात् अतिरिक्तविमानसेवा स्थिर...  \n",
       "6  सप्ततिलक्षं कोविड्रोगिणः मरणानि आविश्वं , चतुर...  \n",
       "7  स्थिरीकृता अतिरिक्तविमानसेवा सूरतनगरात् फरवरीम...  \n",
       "8         राज्यस्तरीयः समारब्धः कायिकोत्सवः केरले ।   \n",
       "9  आविश्वं कोविड्रोगिणः सप्ततिलक्षं , मरणानि चतुर...  "
      ]
     },
     "execution_count": 14,
     "metadata": {},
     "output_type": "execute_result"
    }
   ],
   "source": [
    "aug_tmp_df"
   ]
  },
  {
   "cell_type": "code",
   "execution_count": 17,
   "id": "d9443cd5",
   "metadata": {},
   "outputs": [],
   "source": [
    "before_aug = aug_tmp_df['text'][0]"
   ]
  },
  {
   "cell_type": "code",
   "execution_count": 18,
   "id": "ad671b73",
   "metadata": {},
   "outputs": [],
   "source": [
    "after_aug = aug_tmp_df['text'][4]"
   ]
  },
  {
   "cell_type": "code",
   "execution_count": 19,
   "id": "47ef37d6",
   "metadata": {},
   "outputs": [
    {
     "data": {
      "text/plain": [
       "'तेहान्  गते सतम्बरमासे इति संसदीयसत्येशोधनासमितेः बस्वसंहिता उल्लंघितेति बद्धा सती सदस्यः महम्मद हसन् असफारि  । प्राकटयत्   ।  पचसहस्रं छात्राः बाधिताः विषानिलप्रयोगेण ।  शालावधी एव एवं सुगुप्तरीत्या कृतकार्येण छात्राः कारागृहे एव महसा अमिनि मृता । समजनयत् आदेशं इरानुप्रान्ते प्रकाशिता प्रकरणं प्राणापाय जाता वार्ता  हिजाविरोधिप्रतिभटना आतङ्ककारिणी इदानीं इति तत् श्वासोच्छ्वाससमस्या, ।  महिला बहिरंगतया शिरोभ्रमणं, इत्यादिभिः पीडिताः । २५% एतेषु बुर्खादहनं  कहर इस्लाम् चिकित्सां गत्वा प्रशासनाय सम्प्रदायस्य वैद्यालयान् मनं, हिजाब, कृत्वा छत्राः प्राप्नुवन् ।  पथ्याह्वानं प्रादुः । व्यक्तीकृतम् तनेपथ्ये  विश्वस्तरे खण्डनं विद्यालयेषु विश्वस्तरे एतद्विषये प्रतिभटनाकार्यभूतेषु । प्रति विद्यालयानाम् खोमेनिः उपरि एतादृशविरोधिछात्रान् कृतं वर्तते आयातुल्ला स्वीकरणीयाः असूचयत् इति उग्रक्रमाः २३०  अपसाधिनः धार्मिकनायकः निग्रहीतुं विषानिलस्य आक्रमणं'"
      ]
     },
     "execution_count": 19,
     "metadata": {},
     "output_type": "execute_result"
    }
   ],
   "source": [
    "before_aug"
   ]
  },
  {
   "cell_type": "code",
   "execution_count": 20,
   "id": "9000d5d1",
   "metadata": {},
   "outputs": [
    {
     "data": {
      "text/plain": [
       "'तेहान्  गते सतम्बरमासे इति संसदीयसत्येशोधनासमितेः बस्वसंहिता उल्लंघितेति बद्धा सती सदस्यः महम्मद हसन् असफारि । प्राकटयत् । विषानिलप्रयोगेण पचसहस्रं छात्राः बाधिताः। शालावधी एव एवं सुगुप्तरीत्या कृतकार्येण छात्राः कारागृहे एव महसा अमिनि मृता। तत् प्रकरणं इदानीं इरानुप्रान्ते प्राणापाय समजनयत् इति आतङ्ककारिणी वार्ता प्रकाशिता आदेशं हिजाविरोधिप्रतिभटना श्वासोच्छ्वाससमस्या, जाता। महिला बहिरंगतया शिरोभ्रमणं, इत्यादिभिः पीडिताः। हिजाब, बुर्खादहनं कृत्वा कहर एतेषु २५% छत्राः वैद्यालयान् इस्लाम् सम्प्रदायस्य प्रशासनाय गत्वा मनं, चिकित्सां प्राप्नुवन्। पथ्याह्वानं प्रादुः। तनेपथ्ये एतद्विषये विश्वस्तरे विश्वस्तरे खण्डनं प्रतिभटनाकार्यभूतेषु विद्यालयेषु व्यक्तीकृतम्। अपसाधिनः प्रति एतादृशविरोधिछात्रान् निग्रहीतुं उग्रक्रमाः स्वीकरणीयाः इति २३० विद्यालयानाम् उपरि धार्मिकनायकः आयातुल्ला खोमेनिः विषानिलस्य आक्रमणं कृतं वर्तते असूचयत्।'"
      ]
     },
     "execution_count": 20,
     "metadata": {},
     "output_type": "execute_result"
    }
   ],
   "source": [
    "after_aug"
   ]
  },
  {
   "cell_type": "code",
   "execution_count": 512,
   "id": "529b7ae3",
   "metadata": {},
   "outputs": [],
   "source": [
    "aug_df = generate_subset(train_df, 0.5, 1, 0.6)"
   ]
  },
  {
   "cell_type": "code",
   "execution_count": 514,
   "id": "217204a0",
   "metadata": {},
   "outputs": [
    {
     "name": "stdout",
     "output_type": "stream",
     "text": [
      "None : (15779, 2)\n",
      "Null in text: 0\n",
      "Duplicates in text: 652\n",
      "Null in summary: 0\n",
      "Duplicates in summary: 0\n"
     ]
    }
   ],
   "source": [
    "stats(aug_df)"
   ]
  },
  {
   "cell_type": "code",
   "execution_count": 528,
   "id": "ff0a7ad5",
   "metadata": {},
   "outputs": [
    {
     "data": {
      "text/plain": [
       "0"
      ]
     },
     "execution_count": 528,
     "metadata": {},
     "output_type": "execute_result"
    }
   ],
   "source": [
    "len(is_dup(aug_df['text'])[1])"
   ]
  },
  {
   "cell_type": "code",
   "execution_count": 527,
   "id": "d431a94b",
   "metadata": {},
   "outputs": [
    {
     "data": {
      "text/plain": [
       "(15779, 2)"
      ]
     },
     "execution_count": 527,
     "metadata": {},
     "output_type": "execute_result"
    }
   ],
   "source": [
    "aug_df.shape"
   ]
  },
  {
   "cell_type": "code",
   "execution_count": 526,
   "id": "827a3b1d",
   "metadata": {},
   "outputs": [],
   "source": [
    "aug_df.to_csv('./augmented_train_data.csv', index = False)"
   ]
  },
  {
   "cell_type": "code",
   "execution_count": 536,
   "id": "7a37176e",
   "metadata": {},
   "outputs": [
    {
     "name": "stdout",
     "output_type": "stream",
     "text": [
      "None : (15779, 2)\n",
      "Null in text: 0\n",
      "Duplicates in text: 652\n",
      "Null in summary: 0\n",
      "Duplicates in summary: 0\n"
     ]
    }
   ],
   "source": [
    "t_df = pd.read_csv('./augmented_train_data.csv')\n",
    "stats(t_df)"
   ]
  },
  {
   "cell_type": "code",
   "execution_count": 537,
   "id": "abb053ff",
   "metadata": {},
   "outputs": [
    {
     "name": "stdout",
     "output_type": "stream",
     "text": [
      "None : (1500, 2)\n",
      "Null in text: 0\n",
      "Duplicates in text: 0\n",
      "Null in summary: 0\n",
      "Duplicates in summary: 0\n"
     ]
    }
   ],
   "source": [
    "val_df = pd.read_csv('./val.csv')\n",
    "stats(val_df)"
   ]
  },
  {
   "cell_type": "code",
   "execution_count": 538,
   "id": "de953253",
   "metadata": {},
   "outputs": [
    {
     "name": "stdout",
     "output_type": "stream",
     "text": [
      "None : (245, 2)\n",
      "Null in text: 0\n",
      "Duplicates in text: 0\n",
      "Null in summary: 0\n",
      "Duplicates in summary: 0\n"
     ]
    }
   ],
   "source": [
    "test_df = pd.read_csv('./test.csv')\n",
    "stats(test_df)"
   ]
  },
  {
   "cell_type": "code",
   "execution_count": 543,
   "id": "07f2d232",
   "metadata": {},
   "outputs": [],
   "source": [
    "import nltk"
   ]
  }
 ],
 "metadata": {
  "kernelspec": {
   "display_name": "Python 3 (ipykernel)",
   "language": "python",
   "name": "python3"
  },
  "language_info": {
   "codemirror_mode": {
    "name": "ipython",
    "version": 3
   },
   "file_extension": ".py",
   "mimetype": "text/x-python",
   "name": "python",
   "nbconvert_exporter": "python",
   "pygments_lexer": "ipython3",
   "version": "3.8.10"
  }
 },
 "nbformat": 4,
 "nbformat_minor": 5
}
