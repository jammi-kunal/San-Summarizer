{
 "cells": [
  {
   "cell_type": "code",
   "execution_count": 1,
   "id": "2754139b",
   "metadata": {},
   "outputs": [],
   "source": [
    "import pandas as pd\n",
    "import numpy as np\n",
    "import re\n",
    "import glob"
   ]
  },
  {
   "cell_type": "code",
   "execution_count": 3,
   "id": "a1c58887",
   "metadata": {},
   "outputs": [],
   "source": [
    "data1 = pd.read_csv('../../latest/original.csv')\n",
    "data2 = pd.read_csv('../../latest/sudharma.csv')\n",
    "data3 = pd.read_csv('../../latest/navavani.csv')"
   ]
  },
  {
   "cell_type": "code",
   "execution_count": 4,
   "id": "6a6e91ff",
   "metadata": {},
   "outputs": [
    {
     "name": "stdout",
     "output_type": "stream",
     "text": [
      "text       0\n",
      "summary    0\n",
      "dtype: int64\n",
      "text       38\n",
      "summary     0\n",
      "dtype: int64\n",
      "text       0\n",
      "summary    0\n",
      "dtype: int64\n"
     ]
    }
   ],
   "source": [
    "print(data1.isna().sum())\n",
    "print(data2.isna().sum())\n",
    "print(data3.isna().sum())"
   ]
  },
  {
   "cell_type": "code",
   "execution_count": 5,
   "id": "7b215812",
   "metadata": {
    "scrolled": true
   },
   "outputs": [
    {
     "name": "stdout",
     "output_type": "stream",
     "text": [
      "3\n",
      "0\n",
      "0\n"
     ]
    }
   ],
   "source": [
    "print(data1.duplicated().sum())\n",
    "print(data2.duplicated().sum())\n",
    "print(data3.duplicated().sum())"
   ]
  },
  {
   "cell_type": "code",
   "execution_count": 6,
   "id": "5dc55cee",
   "metadata": {},
   "outputs": [
    {
     "data": {
      "text/plain": [
       "(6515, 2)"
      ]
     },
     "execution_count": 6,
     "metadata": {},
     "output_type": "execute_result"
    }
   ],
   "source": [
    "data1.shape"
   ]
  },
  {
   "cell_type": "code",
   "execution_count": 7,
   "id": "5cc3e1ee",
   "metadata": {},
   "outputs": [
    {
     "data": {
      "text/plain": [
       "(6002, 2)"
      ]
     },
     "execution_count": 7,
     "metadata": {},
     "output_type": "execute_result"
    }
   ],
   "source": [
    "data2.shape"
   ]
  },
  {
   "cell_type": "code",
   "execution_count": 8,
   "id": "dbcadfed",
   "metadata": {},
   "outputs": [
    {
     "data": {
      "text/plain": [
       "(1224, 2)"
      ]
     },
     "execution_count": 8,
     "metadata": {},
     "output_type": "execute_result"
    }
   ],
   "source": [
    "data3.shape"
   ]
  },
  {
   "cell_type": "code",
   "execution_count": 9,
   "id": "2f4ebdde",
   "metadata": {},
   "outputs": [
    {
     "data": {
      "text/plain": [
       "13741"
      ]
     },
     "execution_count": 9,
     "metadata": {},
     "output_type": "execute_result"
    }
   ],
   "source": [
    "len(data1)+len(data2)+len(data3)"
   ]
  },
  {
   "cell_type": "code",
   "execution_count": 16,
   "id": "ac19df5d",
   "metadata": {},
   "outputs": [
    {
     "data": {
      "text/html": [
       "<div>\n",
       "<style scoped>\n",
       "    .dataframe tbody tr th:only-of-type {\n",
       "        vertical-align: middle;\n",
       "    }\n",
       "\n",
       "    .dataframe tbody tr th {\n",
       "        vertical-align: top;\n",
       "    }\n",
       "\n",
       "    .dataframe thead th {\n",
       "        text-align: right;\n",
       "    }\n",
       "</style>\n",
       "<table border=\"1\" class=\"dataframe\">\n",
       "  <thead>\n",
       "    <tr style=\"text-align: right;\">\n",
       "      <th></th>\n",
       "      <th>text</th>\n",
       "      <th>summary</th>\n",
       "    </tr>\n",
       "  </thead>\n",
       "  <tbody>\n",
       "    <tr>\n",
       "      <th>2</th>\n",
       "      <td>जम्मूकश्मीर सुरक्षाबलैः तैयब्बा क्रूरकर्मनिरतस...</td>\n",
       "      <td>संक्षिप्तवार्ताः</td>\n",
       "    </tr>\n",
       "    <tr>\n",
       "      <th>192</th>\n",
       "      <td>केन्द्रीयमार्गनिर्माणविभागेन\\nविश्वविक्रमः स्थ...</td>\n",
       "      <td>संक्षिप्तवार्ताः</td>\n",
       "    </tr>\n",
       "    <tr>\n",
       "      <th>636</th>\n",
       "      <td>कोशी-मिथीलानगरयोः मध्ये रेलसेवा पुनः प्रारब्धा</td>\n",
       "      <td>संक्षिप्तवार्ताः</td>\n",
       "    </tr>\n",
       "    <tr>\n",
       "      <th>669</th>\n",
       "      <td>इराकदेशस्य प्रधानमन्त्री मुस्तफा अल-कदीमी ईरान...</td>\n",
       "      <td>संक्षिप्तवार्ताः</td>\n",
       "    </tr>\n",
       "    <tr>\n",
       "      <th>920</th>\n",
       "      <td>ज्ञानवापी विवादोपरि भागवतस्य वक्तव्यम्</td>\n",
       "      <td>संक्षिप्तवार्ताः</td>\n",
       "    </tr>\n",
       "    <tr>\n",
       "      <th>937</th>\n",
       "      <td>हिन्दूराष्ट्रे सर्वधर्मसमन्वयः आवश्यकः</td>\n",
       "      <td>संक्षिप्तवार्ताः</td>\n",
       "    </tr>\n",
       "    <tr>\n",
       "      <th>1052</th>\n",
       "      <td>आरसीपी सिंहस्य यथायोग्यं मान्यं पूर्वमेव प्रदत...</td>\n",
       "      <td>संक्षिप्तवार्ताः</td>\n",
       "    </tr>\n",
       "    <tr>\n",
       "      <th>1617</th>\n",
       "      <td>शपथग्रहणसमारोहस्थले प्राक्तनमन्त्री कुपितः</td>\n",
       "      <td>संक्षिप्तवार्ताः</td>\n",
       "    </tr>\n",
       "    <tr>\n",
       "      <th>1716</th>\n",
       "      <td>प्रधानमन्त्रिणा नरेन्द्रमोदिना सर्वेषु विभागेष...</td>\n",
       "      <td>संक्षिप्तवार्ताः</td>\n",
       "    </tr>\n",
       "    <tr>\n",
       "      <th>1911</th>\n",
       "      <td>श्रीलंकायां तमिलनागरिकाः उपकृताः स्युः</td>\n",
       "      <td>संक्षिप्तवार्ताः</td>\n",
       "    </tr>\n",
       "    <tr>\n",
       "      <th>2515</th>\n",
       "      <td>विवादितप्रश्नमाधृत्य छात्रेषु असन्तोषः</td>\n",
       "      <td>संक्षिप्तवार्ताः</td>\n",
       "    </tr>\n",
       "    <tr>\n",
       "      <th>3100</th>\n",
       "      <td>हरियाणाराज्यं खलिस्तानी-प्रदेशरुपेण स्वीकरणीयः</td>\n",
       "      <td>संक्षिप्तवार्ताः</td>\n",
       "    </tr>\n",
       "    <tr>\n",
       "      <th>3848</th>\n",
       "      <td>सिंहदेव-बंसलयो नेतृत्वे राज्यसभायैः निर्वाचनं ...</td>\n",
       "      <td>संक्षिप्तवार्ताः</td>\n",
       "    </tr>\n",
       "    <tr>\n",
       "      <th>3922</th>\n",
       "      <td>प्रवर्त्तननिदेशालयः कदाचित् स्मारकीस्थलोपरि कट...</td>\n",
       "      <td>संक्षिप्तवार्ताः</td>\n",
       "    </tr>\n",
       "    <tr>\n",
       "      <th>4180</th>\n",
       "      <td>पूर्व-मध्य रेल विभागेन बिहार प्रदेशात दूरगामिन...</td>\n",
       "      <td>संक्षिप्तवार्ताः</td>\n",
       "    </tr>\n",
       "    <tr>\n",
       "      <th>4373</th>\n",
       "      <td>महिलाकर्मिणां कृते समयः निर्धारितः</td>\n",
       "      <td>संक्षिप्तवार्ताः</td>\n",
       "    </tr>\n",
       "    <tr>\n",
       "      <th>4452</th>\n",
       "      <td>उद्धव ठाकरे मुख्यमंत्रिणं ‘एकनाथ शिंदे’ शिवसेन...</td>\n",
       "      <td>संक्षिप्तवार्ताः</td>\n",
       "    </tr>\n",
       "    <tr>\n",
       "      <th>4926</th>\n",
       "      <td>अजय कोठीयालः आपसंगठनं त्यक्तवान्</td>\n",
       "      <td>संक्षिप्तवार्ताः</td>\n",
       "    </tr>\n",
       "    <tr>\n",
       "      <th>5970</th>\n",
       "      <td>वैश्विक महामारी-संक्रमणे चीने वुहानस्य हुआनन-स...</td>\n",
       "      <td>संक्षिप्तवार्ताः</td>\n",
       "    </tr>\n",
       "    <tr>\n",
       "      <th>6231</th>\n",
       "      <td>प्रधानमन्त्री नरेन्द्र मोदी सविशेष उक्तवान् यत...</td>\n",
       "      <td>संक्षिप्तवार्ताः</td>\n",
       "    </tr>\n",
       "    <tr>\n",
       "      <th>6366</th>\n",
       "      <td>जम्मूक्षेत्रे हिजबूलसदस्यः अधिगृहीतः</td>\n",
       "      <td>संक्षिप्तवार्ताः</td>\n",
       "    </tr>\n",
       "  </tbody>\n",
       "</table>\n",
       "</div>"
      ],
      "text/plain": [
       "                                                   text           summary\n",
       "2     जम्मूकश्मीर सुरक्षाबलैः तैयब्बा क्रूरकर्मनिरतस...  संक्षिप्तवार्ताः\n",
       "192   केन्द्रीयमार्गनिर्माणविभागेन\\nविश्वविक्रमः स्थ...  संक्षिप्तवार्ताः\n",
       "636      कोशी-मिथीलानगरयोः मध्ये रेलसेवा पुनः प्रारब्धा  संक्षिप्तवार्ताः\n",
       "669   इराकदेशस्य प्रधानमन्त्री मुस्तफा अल-कदीमी ईरान...  संक्षिप्तवार्ताः\n",
       "920              ज्ञानवापी विवादोपरि भागवतस्य वक्तव्यम्  संक्षिप्तवार्ताः\n",
       "937              हिन्दूराष्ट्रे सर्वधर्मसमन्वयः आवश्यकः  संक्षिप्तवार्ताः\n",
       "1052  आरसीपी सिंहस्य यथायोग्यं मान्यं पूर्वमेव प्रदत...  संक्षिप्तवार्ताः\n",
       "1617         शपथग्रहणसमारोहस्थले प्राक्तनमन्त्री कुपितः  संक्षिप्तवार्ताः\n",
       "1716  प्रधानमन्त्रिणा नरेन्द्रमोदिना सर्वेषु विभागेष...  संक्षिप्तवार्ताः\n",
       "1911             श्रीलंकायां तमिलनागरिकाः उपकृताः स्युः  संक्षिप्तवार्ताः\n",
       "2515             विवादितप्रश्नमाधृत्य छात्रेषु असन्तोषः  संक्षिप्तवार्ताः\n",
       "3100     हरियाणाराज्यं खलिस्तानी-प्रदेशरुपेण स्वीकरणीयः  संक्षिप्तवार्ताः\n",
       "3848  सिंहदेव-बंसलयो नेतृत्वे राज्यसभायैः निर्वाचनं ...  संक्षिप्तवार्ताः\n",
       "3922  प्रवर्त्तननिदेशालयः कदाचित् स्मारकीस्थलोपरि कट...  संक्षिप्तवार्ताः\n",
       "4180  पूर्व-मध्य रेल विभागेन बिहार प्रदेशात दूरगामिन...  संक्षिप्तवार्ताः\n",
       "4373                 महिलाकर्मिणां कृते समयः निर्धारितः  संक्षिप्तवार्ताः\n",
       "4452  उद्धव ठाकरे मुख्यमंत्रिणं ‘एकनाथ शिंदे’ शिवसेन...  संक्षिप्तवार्ताः\n",
       "4926                   अजय कोठीयालः आपसंगठनं त्यक्तवान्  संक्षिप्तवार्ताः\n",
       "5970  वैश्विक महामारी-संक्रमणे चीने वुहानस्य हुआनन-स...  संक्षिप्तवार्ताः\n",
       "6231  प्रधानमन्त्री नरेन्द्र मोदी सविशेष उक्तवान् यत...  संक्षिप्तवार्ताः\n",
       "6366               जम्मूक्षेत्रे हिजबूलसदस्यः अधिगृहीतः  संक्षिप्तवार्ताः"
      ]
     },
     "execution_count": 16,
     "metadata": {},
     "output_type": "execute_result"
    }
   ],
   "source": [
    "data1[data1['summary'] == 'संक्षिप्तवार्ताः']"
   ]
  },
  {
   "cell_type": "code",
   "execution_count": 10,
   "id": "76191079",
   "metadata": {},
   "outputs": [
    {
     "data": {
      "text/html": [
       "<div>\n",
       "<style scoped>\n",
       "    .dataframe tbody tr th:only-of-type {\n",
       "        vertical-align: middle;\n",
       "    }\n",
       "\n",
       "    .dataframe tbody tr th {\n",
       "        vertical-align: top;\n",
       "    }\n",
       "\n",
       "    .dataframe thead th {\n",
       "        text-align: right;\n",
       "    }\n",
       "</style>\n",
       "<table border=\"1\" class=\"dataframe\">\n",
       "  <thead>\n",
       "    <tr style=\"text-align: right;\">\n",
       "      <th></th>\n",
       "      <th>text</th>\n",
       "      <th>summary</th>\n",
       "    </tr>\n",
       "  </thead>\n",
       "  <tbody>\n",
       "    <tr>\n",
       "      <th>0</th>\n",
       "      <td>व्याकरणात् संस्कृतभाषायां संस्कार आयाति। द्विस...</td>\n",
       "      <td>संस्कृत</td>\n",
       "    </tr>\n",
       "    <tr>\n",
       "      <th>1</th>\n",
       "      <td>मारिया विश्वस्तरीय१८स्थाने अस्ति। मारिया “यूएस...</td>\n",
       "      <td>प्रक्षिप्त-कन्दुकक्रीडायै मारिया अग्रिम क्रीडा...</td>\n",
       "    </tr>\n",
       "    <tr>\n",
       "      <th>2</th>\n",
       "      <td>जम्मूकश्मीर सुरक्षाबलैः तैयब्बा क्रूरकर्मनिरतस...</td>\n",
       "      <td>संक्षिप्तवार्ताः</td>\n",
       "    </tr>\n",
       "    <tr>\n",
       "      <th>3</th>\n",
       "      <td>जनुवरि प्रथमदिनाङ्कतः आरभ्य पलास्तिक कूप्यां व...</td>\n",
       "      <td>पलास्तिककूपीजलं त्यजामः, आरोग्यं संरक्षामः</td>\n",
       "    </tr>\n",
       "    <tr>\n",
       "      <th>4</th>\n",
       "      <td>गीतस्वरैश्चित्तहरैस्तदीयैः प्रत्यक्षमेनां शृणु...</td>\n",
       "      <td>गानदेवी-लता मंगेस्कर</td>\n",
       "    </tr>\n",
       "  </tbody>\n",
       "</table>\n",
       "</div>"
      ],
      "text/plain": [
       "                                                text  \\\n",
       "0  व्याकरणात् संस्कृतभाषायां संस्कार आयाति। द्विस...   \n",
       "1  मारिया विश्वस्तरीय१८स्थाने अस्ति। मारिया “यूएस...   \n",
       "2  जम्मूकश्मीर सुरक्षाबलैः तैयब्बा क्रूरकर्मनिरतस...   \n",
       "3  जनुवरि प्रथमदिनाङ्कतः आरभ्य पलास्तिक कूप्यां व...   \n",
       "4  गीतस्वरैश्चित्तहरैस्तदीयैः प्रत्यक्षमेनां शृणु...   \n",
       "\n",
       "                                             summary  \n",
       "0                                            संस्कृत  \n",
       "1  प्रक्षिप्त-कन्दुकक्रीडायै मारिया अग्रिम क्रीडा...  \n",
       "2                                   संक्षिप्तवार्ताः  \n",
       "3         पलास्तिककूपीजलं त्यजामः, आरोग्यं संरक्षामः  \n",
       "4                               गानदेवी-लता मंगेस्कर  "
      ]
     },
     "execution_count": 10,
     "metadata": {},
     "output_type": "execute_result"
    }
   ],
   "source": [
    "data1.head()"
   ]
  },
  {
   "cell_type": "code",
   "execution_count": 11,
   "id": "48e08192",
   "metadata": {},
   "outputs": [
    {
     "data": {
      "text/html": [
       "<div>\n",
       "<style scoped>\n",
       "    .dataframe tbody tr th:only-of-type {\n",
       "        vertical-align: middle;\n",
       "    }\n",
       "\n",
       "    .dataframe tbody tr th {\n",
       "        vertical-align: top;\n",
       "    }\n",
       "\n",
       "    .dataframe thead th {\n",
       "        text-align: right;\n",
       "    }\n",
       "</style>\n",
       "<table border=\"1\" class=\"dataframe\">\n",
       "  <thead>\n",
       "    <tr style=\"text-align: right;\">\n",
       "      <th></th>\n",
       "      <th>text</th>\n",
       "      <th>summary</th>\n",
       "    </tr>\n",
       "  </thead>\n",
       "  <tbody>\n",
       "    <tr>\n",
       "      <th>0</th>\n",
       "      <td>बीजिङ्ग - भारते मार्चमासस्य कार्यं चिकीर्षति ।...</td>\n",
       "      <td>चीनाविदेशाङ्गमन्त्री जी-२० शृङ्गसभायाम्</td>\n",
       "    </tr>\n",
       "    <tr>\n",
       "      <th>1</th>\n",
       "      <td>इन्दोर दिस्त असतेयः विश न मास्ति मध्यदेशस्य कु...</td>\n",
       "      <td>विश्वेभ्यः हार</td>\n",
       "    </tr>\n",
       "    <tr>\n",
       "      <th>2</th>\n",
       "      <td>डा. विश्वास म भरद्वाज - यवक्रीत - रैभ्यादीनां ...</td>\n",
       "      <td>महाभारतान्तर्गताः काश्चन उपकथाः</td>\n",
       "    </tr>\n",
       "    <tr>\n",
       "      <th>3</th>\n",
       "      <td>सेवाभ निर्माणीयम् स्वामिनोऽनुवन्। भानुवासरे आय...</td>\n",
       "      <td>सुवर्णपुष्पाभिवृष्टिः सेवाभ</td>\n",
       "    </tr>\n",
       "    <tr>\n",
       "      <th>4</th>\n",
       "      <td>इति एकस्मिन्ार्य कार्यक्र अमर एकदा प्रधान श्री...</td>\n",
       "      <td>विपक्षा एवं हासयन्ति स्म ! सुकले प्रधानम प्रधानम</td>\n",
       "    </tr>\n",
       "  </tbody>\n",
       "</table>\n",
       "</div>"
      ],
      "text/plain": [
       "                                                text  \\\n",
       "0  बीजिङ्ग - भारते मार्चमासस्य कार्यं चिकीर्षति ।...   \n",
       "1  इन्दोर दिस्त असतेयः विश न मास्ति मध्यदेशस्य कु...   \n",
       "2  डा. विश्वास म भरद्वाज - यवक्रीत - रैभ्यादीनां ...   \n",
       "3  सेवाभ निर्माणीयम् स्वामिनोऽनुवन्। भानुवासरे आय...   \n",
       "4  इति एकस्मिन्ार्य कार्यक्र अमर एकदा प्रधान श्री...   \n",
       "\n",
       "                                             summary  \n",
       "0           चीनाविदेशाङ्गमन्त्री जी-२० शृङ्गसभायाम्   \n",
       "1                                    विश्वेभ्यः हार   \n",
       "2                   महाभारतान्तर्गताः काश्चन उपकथाः   \n",
       "3                       सुवर्णपुष्पाभिवृष्टिः सेवाभ   \n",
       "4  विपक्षा एवं हासयन्ति स्म ! सुकले प्रधानम प्रधानम   "
      ]
     },
     "execution_count": 11,
     "metadata": {},
     "output_type": "execute_result"
    }
   ],
   "source": [
    "data2.head()"
   ]
  },
  {
   "cell_type": "code",
   "execution_count": 20,
   "id": "3952db0f",
   "metadata": {},
   "outputs": [],
   "source": [
    "data = pd.concat([data1, data2, data3], ignore_index = True)"
   ]
  },
  {
   "cell_type": "code",
   "execution_count": 21,
   "id": "68971f69",
   "metadata": {},
   "outputs": [
    {
     "data": {
      "text/plain": [
       "(13741, 2)"
      ]
     },
     "execution_count": 21,
     "metadata": {},
     "output_type": "execute_result"
    }
   ],
   "source": [
    "data.shape"
   ]
  },
  {
   "cell_type": "code",
   "execution_count": 22,
   "id": "a033e3bc",
   "metadata": {},
   "outputs": [
    {
     "name": "stdout",
     "output_type": "stream",
     "text": [
      "text       38\n",
      "summary     0\n",
      "dtype: int64\n",
      "3\n"
     ]
    }
   ],
   "source": [
    "print(data.isna().sum())\n",
    "print(data.duplicated().sum())"
   ]
  },
  {
   "cell_type": "code",
   "execution_count": 23,
   "id": "03cf4c55",
   "metadata": {},
   "outputs": [],
   "source": [
    "data.drop_duplicates(inplace = True)"
   ]
  },
  {
   "cell_type": "code",
   "execution_count": 24,
   "id": "6b098297",
   "metadata": {},
   "outputs": [
    {
     "data": {
      "text/plain": [
       "(13738, 2)"
      ]
     },
     "execution_count": 24,
     "metadata": {},
     "output_type": "execute_result"
    }
   ],
   "source": [
    "data.shape"
   ]
  },
  {
   "cell_type": "code",
   "execution_count": 25,
   "id": "710e3bb5",
   "metadata": {},
   "outputs": [],
   "source": [
    "data.dropna(inplace = True)"
   ]
  },
  {
   "cell_type": "code",
   "execution_count": 26,
   "id": "57241b28",
   "metadata": {},
   "outputs": [
    {
     "data": {
      "text/plain": [
       "(13700, 2)"
      ]
     },
     "execution_count": 26,
     "metadata": {},
     "output_type": "execute_result"
    }
   ],
   "source": [
    "data.shape"
   ]
  },
  {
   "cell_type": "code",
   "execution_count": 27,
   "id": "463dd98f",
   "metadata": {},
   "outputs": [],
   "source": [
    "def basic_clean(df):\n",
    "    \"\"\"Basic Cleaning function\n",
    "    \n",
    "    Args:\n",
    "        df (DataFrame): a dataframe column to clean\n",
    "        \n",
    "    Returns:\n",
    "        df (DataFrame): cleaned dataframe\n",
    "    \"\"\"\n",
    "    #df = df.apply(lambda x : re.sub(\"॥.+॥\",\"।\",x)) #removing endingwords of sentence eg. '॥ ३-२०॥'\n",
    "    df = df.apply(lambda x : re.sub(\"[a-zA-Z_]\",\"\",x)) #removing english chars\n",
    "    df = df.apply(lambda x: re.sub(\" {2,}\",\"\",x)) #removing extra space between the words in a sentence\n",
    "    df = df.apply(lambda x: re.sub(r'\\([^()]*\\)', '',x)) \n",
    "    df = df.apply(lambda x: re.sub(\"[./:]\",\"\",x))\n",
    "    df = df.apply(lambda x: re.sub(\"(\\n)+\",\"\\n\",x)) #removing more than one next line character\n",
    "    return df\n",
    "\n",
    "def remove_char(cha, st): # helper function for selective_clean\n",
    "    before, sep, after = st.partition(cha)\n",
    "    if len(after)>0:\n",
    "        return after\n",
    "    return before\n",
    "\n",
    "def selective_clean(cha, df):\n",
    "    \"\"\"Remove a specific character from the dataframe. Used for selective cleaning.\"\"\"\n",
    "    df = df.apply(lambda x: remove_char(cha, x)) # remove text before a specific character\n",
    "    return df"
   ]
  },
  {
   "cell_type": "code",
   "execution_count": 28,
   "id": "aa9787dd",
   "metadata": {},
   "outputs": [
    {
     "data": {
      "text/html": [
       "<div>\n",
       "<style scoped>\n",
       "    .dataframe tbody tr th:only-of-type {\n",
       "        vertical-align: middle;\n",
       "    }\n",
       "\n",
       "    .dataframe tbody tr th {\n",
       "        vertical-align: top;\n",
       "    }\n",
       "\n",
       "    .dataframe thead th {\n",
       "        text-align: right;\n",
       "    }\n",
       "</style>\n",
       "<table border=\"1\" class=\"dataframe\">\n",
       "  <thead>\n",
       "    <tr style=\"text-align: right;\">\n",
       "      <th></th>\n",
       "      <th>text</th>\n",
       "      <th>summary</th>\n",
       "    </tr>\n",
       "  </thead>\n",
       "  <tbody>\n",
       "    <tr>\n",
       "      <th>0</th>\n",
       "      <td>व्याकरणात् संस्कृतभाषायां संस्कार आयाति। द्विस...</td>\n",
       "      <td>संस्कृत</td>\n",
       "    </tr>\n",
       "    <tr>\n",
       "      <th>1</th>\n",
       "      <td>मारिया विश्वस्तरीय१८स्थाने अस्ति। मारिया “यूएस...</td>\n",
       "      <td>प्रक्षिप्त-कन्दुकक्रीडायै मारिया अग्रिम क्रीडा...</td>\n",
       "    </tr>\n",
       "    <tr>\n",
       "      <th>2</th>\n",
       "      <td>जम्मूकश्मीर सुरक्षाबलैः तैयब्बा क्रूरकर्मनिरतस...</td>\n",
       "      <td>संक्षिप्तवार्ताः</td>\n",
       "    </tr>\n",
       "    <tr>\n",
       "      <th>3</th>\n",
       "      <td>जनुवरि प्रथमदिनाङ्कतः आरभ्य पलास्तिक कूप्यां व...</td>\n",
       "      <td>पलास्तिककूपीजलं त्यजामः, आरोग्यं संरक्षामः</td>\n",
       "    </tr>\n",
       "    <tr>\n",
       "      <th>4</th>\n",
       "      <td>गीतस्वरैश्चित्तहरैस्तदीयैः प्रत्यक्षमेनां शृणु...</td>\n",
       "      <td>गानदेवी-लता मंगेस्कर</td>\n",
       "    </tr>\n",
       "  </tbody>\n",
       "</table>\n",
       "</div>"
      ],
      "text/plain": [
       "                                                text  \\\n",
       "0  व्याकरणात् संस्कृतभाषायां संस्कार आयाति। द्विस...   \n",
       "1  मारिया विश्वस्तरीय१८स्थाने अस्ति। मारिया “यूएस...   \n",
       "2  जम्मूकश्मीर सुरक्षाबलैः तैयब्बा क्रूरकर्मनिरतस...   \n",
       "3  जनुवरि प्रथमदिनाङ्कतः आरभ्य पलास्तिक कूप्यां व...   \n",
       "4  गीतस्वरैश्चित्तहरैस्तदीयैः प्रत्यक्षमेनां शृणु...   \n",
       "\n",
       "                                             summary  \n",
       "0                                            संस्कृत  \n",
       "1  प्रक्षिप्त-कन्दुकक्रीडायै मारिया अग्रिम क्रीडा...  \n",
       "2                                   संक्षिप्तवार्ताः  \n",
       "3         पलास्तिककूपीजलं त्यजामः, आरोग्यं संरक्षामः  \n",
       "4                               गानदेवी-लता मंगेस्कर  "
      ]
     },
     "execution_count": 28,
     "metadata": {},
     "output_type": "execute_result"
    }
   ],
   "source": [
    "data.head()"
   ]
  },
  {
   "cell_type": "code",
   "execution_count": 29,
   "id": "6361a80d",
   "metadata": {},
   "outputs": [],
   "source": [
    "import copy\n",
    "ndata1 = copy.deepcopy(data)"
   ]
  },
  {
   "cell_type": "code",
   "execution_count": 30,
   "id": "a90f2a10",
   "metadata": {},
   "outputs": [],
   "source": [
    "ndata1['text'] = basic_clean(ndata1['text'])\n",
    "ndata1['summary'] = basic_clean(ndata1['summary'])"
   ]
  },
  {
   "cell_type": "code",
   "execution_count": 31,
   "id": "b14386c5",
   "metadata": {
    "scrolled": true
   },
   "outputs": [
    {
     "data": {
      "text/html": [
       "<div>\n",
       "<style scoped>\n",
       "    .dataframe tbody tr th:only-of-type {\n",
       "        vertical-align: middle;\n",
       "    }\n",
       "\n",
       "    .dataframe tbody tr th {\n",
       "        vertical-align: top;\n",
       "    }\n",
       "\n",
       "    .dataframe thead th {\n",
       "        text-align: right;\n",
       "    }\n",
       "</style>\n",
       "<table border=\"1\" class=\"dataframe\">\n",
       "  <thead>\n",
       "    <tr style=\"text-align: right;\">\n",
       "      <th></th>\n",
       "      <th>text</th>\n",
       "      <th>summary</th>\n",
       "    </tr>\n",
       "  </thead>\n",
       "  <tbody>\n",
       "    <tr>\n",
       "      <th>0</th>\n",
       "      <td>व्याकरणात् संस्कृतभाषायां संस्कार आयाति। द्विस...</td>\n",
       "      <td>संस्कृत</td>\n",
       "    </tr>\n",
       "    <tr>\n",
       "      <th>1</th>\n",
       "      <td>मारिया विश्वस्तरीय१८स्थाने अस्ति। मारिया “यूएस...</td>\n",
       "      <td>प्रक्षिप्त-कन्दुकक्रीडायै मारिया अग्रिम क्रीडा...</td>\n",
       "    </tr>\n",
       "    <tr>\n",
       "      <th>2</th>\n",
       "      <td>जम्मूकश्मीर सुरक्षाबलैः तैयब्बा क्रूरकर्मनिरतस...</td>\n",
       "      <td>संक्षिप्तवार्ताः</td>\n",
       "    </tr>\n",
       "    <tr>\n",
       "      <th>3</th>\n",
       "      <td>जनुवरि प्रथमदिनाङ्कतः आरभ्य पलास्तिक कूप्यां व...</td>\n",
       "      <td>पलास्तिककूपीजलं त्यजामः, आरोग्यं संरक्षामः</td>\n",
       "    </tr>\n",
       "    <tr>\n",
       "      <th>4</th>\n",
       "      <td>गीतस्वरैश्चित्तहरैस्तदीयैः प्रत्यक्षमेनां शृणु...</td>\n",
       "      <td>गानदेवी-लता मंगेस्कर</td>\n",
       "    </tr>\n",
       "  </tbody>\n",
       "</table>\n",
       "</div>"
      ],
      "text/plain": [
       "                                                text  \\\n",
       "0  व्याकरणात् संस्कृतभाषायां संस्कार आयाति। द्विस...   \n",
       "1  मारिया विश्वस्तरीय१८स्थाने अस्ति। मारिया “यूएस...   \n",
       "2  जम्मूकश्मीर सुरक्षाबलैः तैयब्बा क्रूरकर्मनिरतस...   \n",
       "3  जनुवरि प्रथमदिनाङ्कतः आरभ्य पलास्तिक कूप्यां व...   \n",
       "4  गीतस्वरैश्चित्तहरैस्तदीयैः प्रत्यक्षमेनां शृणु...   \n",
       "\n",
       "                                             summary  \n",
       "0                                            संस्कृत  \n",
       "1  प्रक्षिप्त-कन्दुकक्रीडायै मारिया अग्रिम क्रीडा...  \n",
       "2                                   संक्षिप्तवार्ताः  \n",
       "3         पलास्तिककूपीजलं त्यजामः, आरोग्यं संरक्षामः  \n",
       "4                               गानदेवी-लता मंगेस्कर  "
      ]
     },
     "execution_count": 31,
     "metadata": {},
     "output_type": "execute_result"
    }
   ],
   "source": [
    "ndata1.head()"
   ]
  },
  {
   "cell_type": "code",
   "execution_count": 35,
   "id": "552b5086",
   "metadata": {},
   "outputs": [
    {
     "data": {
      "text/plain": [
       "text                \n",
       "summary    सुभाषितम्\n",
       "Name: 12493, dtype: object"
      ]
     },
     "execution_count": 35,
     "metadata": {},
     "output_type": "execute_result"
    }
   ],
   "source": [
    "ndata1.loc[12493]"
   ]
  },
  {
   "cell_type": "code",
   "execution_count": 40,
   "id": "7df2b465",
   "metadata": {},
   "outputs": [
    {
     "data": {
      "text/plain": [
       "41"
      ]
     },
     "execution_count": 40,
     "metadata": {},
     "output_type": "execute_result"
    }
   ],
   "source": [
    "ndata1.duplicated(subset = ['text', 'summary']).sum()"
   ]
  },
  {
   "cell_type": "code",
   "execution_count": 41,
   "id": "39b02833",
   "metadata": {},
   "outputs": [],
   "source": [
    "df = ndata1.drop_duplicates()"
   ]
  },
  {
   "cell_type": "code",
   "execution_count": 42,
   "id": "2712ec6d",
   "metadata": {},
   "outputs": [
    {
     "data": {
      "text/plain": [
       "text       0\n",
       "summary    0\n",
       "dtype: int64"
      ]
     },
     "execution_count": 42,
     "metadata": {},
     "output_type": "execute_result"
    }
   ],
   "source": [
    "df.isna().sum()"
   ]
  },
  {
   "cell_type": "code",
   "execution_count": 43,
   "id": "89ac675f",
   "metadata": {},
   "outputs": [
    {
     "data": {
      "text/plain": [
       "0"
      ]
     },
     "execution_count": 43,
     "metadata": {},
     "output_type": "execute_result"
    }
   ],
   "source": [
    "df.duplicated().sum()"
   ]
  },
  {
   "cell_type": "code",
   "execution_count": 44,
   "id": "1f7c9c78",
   "metadata": {},
   "outputs": [
    {
     "data": {
      "text/plain": [
       "text       0\n",
       "summary    0\n",
       "dtype: int64"
      ]
     },
     "execution_count": 44,
     "metadata": {},
     "output_type": "execute_result"
    }
   ],
   "source": [
    "df.isna().sum()"
   ]
  },
  {
   "cell_type": "code",
   "execution_count": 47,
   "id": "a8d56402",
   "metadata": {},
   "outputs": [
    {
     "data": {
      "text/plain": [
       "(13659, 2)"
      ]
     },
     "execution_count": 47,
     "metadata": {},
     "output_type": "execute_result"
    }
   ],
   "source": [
    "df.shape"
   ]
  },
  {
   "cell_type": "code",
   "execution_count": 70,
   "id": "a076419a",
   "metadata": {},
   "outputs": [],
   "source": [
    "duplicates_text = df[df['text'].duplicated()]"
   ]
  },
  {
   "cell_type": "code",
   "execution_count": 71,
   "id": "b9577ec6",
   "metadata": {},
   "outputs": [],
   "source": [
    "duplicates_summary = df[df['summary'].duplicated()]"
   ]
  },
  {
   "cell_type": "code",
   "execution_count": 74,
   "id": "18a74894",
   "metadata": {},
   "outputs": [],
   "source": [
    "total_indices = set(df[df['summary'].duplicated()].index).union(set(df[df['text'].duplicated()].index))"
   ]
  },
  {
   "cell_type": "code",
   "execution_count": 61,
   "id": "9ce4be48",
   "metadata": {},
   "outputs": [
    {
     "data": {
      "text/plain": [
       "873"
      ]
     },
     "execution_count": 61,
     "metadata": {},
     "output_type": "execute_result"
    }
   ],
   "source": [
    "846+44-17"
   ]
  },
  {
   "cell_type": "code",
   "execution_count": 62,
   "id": "4db47f3e",
   "metadata": {},
   "outputs": [
    {
     "data": {
      "text/plain": [
       "12786"
      ]
     },
     "execution_count": 62,
     "metadata": {},
     "output_type": "execute_result"
    }
   ],
   "source": [
    "13659-873"
   ]
  },
  {
   "cell_type": "code",
   "execution_count": 65,
   "id": "da180400",
   "metadata": {},
   "outputs": [
    {
     "data": {
      "text/plain": [
       "11286"
      ]
     },
     "execution_count": 65,
     "metadata": {},
     "output_type": "execute_result"
    }
   ],
   "source": [
    "12786 - 1000 - 500"
   ]
  },
  {
   "cell_type": "code",
   "execution_count": 75,
   "id": "de82db78",
   "metadata": {},
   "outputs": [],
   "source": [
    "clean_df = df.drop(index = total_indices)"
   ]
  },
  {
   "cell_type": "code",
   "execution_count": 84,
   "id": "607f0041",
   "metadata": {},
   "outputs": [
    {
     "data": {
      "text/plain": [
       "(12786, 2)"
      ]
     },
     "execution_count": 84,
     "metadata": {},
     "output_type": "execute_result"
    }
   ],
   "source": [
    "clean_df.shape"
   ]
  },
  {
   "cell_type": "code",
   "execution_count": 86,
   "id": "cd52a921",
   "metadata": {},
   "outputs": [],
   "source": [
    "clean_df_idx_reset = clean_df.reset_index(drop = True)"
   ]
  },
  {
   "cell_type": "code",
   "execution_count": 87,
   "id": "7bb3b59c",
   "metadata": {},
   "outputs": [],
   "source": [
    "clean_df_idx_reset.to_csv('../for_BERT/uclean_data/pre_short_sentences_removal.csv', index = False)"
   ]
  },
  {
   "cell_type": "markdown",
   "id": "47cb7908",
   "metadata": {},
   "source": [
    "<h1>FIRST SAVE----------------------------------------------------------------------------------------------</h1>"
   ]
  },
  {
   "cell_type": "code",
   "execution_count": 171,
   "id": "fe169978",
   "metadata": {},
   "outputs": [],
   "source": [
    "def find_indices(sub_df, thresh):\n",
    "    \"\"\"Find the indices of rows which have a text lesser than 'threshold' words.\n",
    "    \n",
    "    Args:\n",
    "        sub_df (DataFrame): the dataframe to check\n",
    "        thresh (int): no of words threshold\n",
    "        \n",
    "    Returns:\n",
    "        idxs (set): a set of indices of rows which have words lesser than the thresh\n",
    "    \"\"\"\n",
    "    idxs = set()\n",
    "    for idx, row in sub_df.iterrows():\n",
    "        # splits a sentence based on newline and space to check if the length is lesser than the threshold\n",
    "        if len(re.split('\\s+', row['text'])) <=thresh:\n",
    "            idxs.add(idx)\n",
    "    return idxs"
   ]
  },
  {
   "cell_type": "code",
   "execution_count": 172,
   "id": "f78ab3a9",
   "metadata": {},
   "outputs": [],
   "source": [
    "x = find_indices(clean_df_idx_reset, 6)"
   ]
  },
  {
   "cell_type": "code",
   "execution_count": 173,
   "id": "c77f28d7",
   "metadata": {},
   "outputs": [
    {
     "data": {
      "text/plain": [
       "521"
      ]
     },
     "execution_count": 173,
     "metadata": {},
     "output_type": "execute_result"
    }
   ],
   "source": [
    "len(x)"
   ]
  },
  {
   "cell_type": "code",
   "execution_count": 174,
   "id": "843421b7",
   "metadata": {},
   "outputs": [],
   "source": [
    "uclean_df = clean_df_idx_reset.drop(index = x).reset_index(drop = True)"
   ]
  },
  {
   "cell_type": "code",
   "execution_count": 175,
   "id": "cd6cb2b9",
   "metadata": {
    "scrolled": false
   },
   "outputs": [
    {
     "data": {
      "text/html": [
       "<div>\n",
       "<style scoped>\n",
       "    .dataframe tbody tr th:only-of-type {\n",
       "        vertical-align: middle;\n",
       "    }\n",
       "\n",
       "    .dataframe tbody tr th {\n",
       "        vertical-align: top;\n",
       "    }\n",
       "\n",
       "    .dataframe thead th {\n",
       "        text-align: right;\n",
       "    }\n",
       "</style>\n",
       "<table border=\"1\" class=\"dataframe\">\n",
       "  <thead>\n",
       "    <tr style=\"text-align: right;\">\n",
       "      <th></th>\n",
       "      <th>text</th>\n",
       "      <th>summary</th>\n",
       "    </tr>\n",
       "  </thead>\n",
       "  <tbody>\n",
       "    <tr>\n",
       "      <th>0</th>\n",
       "      <td>व्याकरणात् संस्कृतभाषायां संस्कार आयाति। द्विस...</td>\n",
       "      <td>संस्कृत</td>\n",
       "    </tr>\n",
       "    <tr>\n",
       "      <th>1</th>\n",
       "      <td>मारिया विश्वस्तरीय१८स्थाने अस्ति। मारिया “यूएस...</td>\n",
       "      <td>प्रक्षिप्त-कन्दुकक्रीडायै मारिया अग्रिम क्रीडा...</td>\n",
       "    </tr>\n",
       "    <tr>\n",
       "      <th>2</th>\n",
       "      <td>जम्मूकश्मीर सुरक्षाबलैः तैयब्बा क्रूरकर्मनिरतस...</td>\n",
       "      <td>संक्षिप्तवार्ताः</td>\n",
       "    </tr>\n",
       "    <tr>\n",
       "      <th>3</th>\n",
       "      <td>जनुवरि प्रथमदिनाङ्कतः आरभ्य पलास्तिक कूप्यां व...</td>\n",
       "      <td>पलास्तिककूपीजलं त्यजामः, आरोग्यं संरक्षामः</td>\n",
       "    </tr>\n",
       "    <tr>\n",
       "      <th>4</th>\n",
       "      <td>गीतस्वरैश्चित्तहरैस्तदीयैः प्रत्यक्षमेनां शृणु...</td>\n",
       "      <td>गानदेवी-लता मंगेस्कर</td>\n",
       "    </tr>\n",
       "    <tr>\n",
       "      <th>...</th>\n",
       "      <td>...</td>\n",
       "      <td>...</td>\n",
       "    </tr>\n",
       "    <tr>\n",
       "      <th>12260</th>\n",
       "      <td>नवदिल्ली – उपराष्ट्रपतित्वेन निर्वाचितः वेङ्कय...</td>\n",
       "      <td>उपराष्ट्रपतेः शपथवचनं शुक्रवासरे।</td>\n",
       "    </tr>\n",
       "    <tr>\n",
       "      <th>12261</th>\n",
       "      <td>नवदिल्ली – भारते पचनवायुकोशानां कृते दीयमानं व...</td>\n",
       "      <td>पचनवायोः वित्तानुकूल्यं स्थगयति।</td>\n",
       "    </tr>\n",
       "    <tr>\n",
       "      <th>12262</th>\n",
       "      <td>नवदिल्ली – विद्यालयेषु अष्टमकक्ष्यापर्यन्तं प्...</td>\n",
       "      <td>विद्यालयेषु इतः परं असमर्थानामवतीर्णता।</td>\n",
       "    </tr>\n",
       "    <tr>\n",
       "      <th>12263</th>\n",
       "      <td>पियु चित्रा\\nकोच्ची – विविश्वकुशलस्पर्धायां भा...</td>\n",
       "      <td>पि यु चित्रा विश्वस्पर्धात बहिष्कृता।</td>\n",
       "    </tr>\n",
       "    <tr>\n",
       "      <th>12264</th>\n",
       "      <td>इस्लामबाद्\\nपाकिस्थानस्य प्रधानमन्त्री नवास षर...</td>\n",
       "      <td>नवास् षरीफः स्थानभ्रष्टः।</td>\n",
       "    </tr>\n",
       "  </tbody>\n",
       "</table>\n",
       "<p>12265 rows × 2 columns</p>\n",
       "</div>"
      ],
      "text/plain": [
       "                                                    text  \\\n",
       "0      व्याकरणात् संस्कृतभाषायां संस्कार आयाति। द्विस...   \n",
       "1      मारिया विश्वस्तरीय१८स्थाने अस्ति। मारिया “यूएस...   \n",
       "2      जम्मूकश्मीर सुरक्षाबलैः तैयब्बा क्रूरकर्मनिरतस...   \n",
       "3      जनुवरि प्रथमदिनाङ्कतः आरभ्य पलास्तिक कूप्यां व...   \n",
       "4      गीतस्वरैश्चित्तहरैस्तदीयैः प्रत्यक्षमेनां शृणु...   \n",
       "...                                                  ...   \n",
       "12260  नवदिल्ली – उपराष्ट्रपतित्वेन निर्वाचितः वेङ्कय...   \n",
       "12261  नवदिल्ली – भारते पचनवायुकोशानां कृते दीयमानं व...   \n",
       "12262  नवदिल्ली – विद्यालयेषु अष्टमकक्ष्यापर्यन्तं प्...   \n",
       "12263  पियु चित्रा\\nकोच्ची – विविश्वकुशलस्पर्धायां भा...   \n",
       "12264  इस्लामबाद्\\nपाकिस्थानस्य प्रधानमन्त्री नवास षर...   \n",
       "\n",
       "                                                 summary  \n",
       "0                                                संस्कृत  \n",
       "1      प्रक्षिप्त-कन्दुकक्रीडायै मारिया अग्रिम क्रीडा...  \n",
       "2                                       संक्षिप्तवार्ताः  \n",
       "3             पलास्तिककूपीजलं त्यजामः, आरोग्यं संरक्षामः  \n",
       "4                                   गानदेवी-लता मंगेस्कर  \n",
       "...                                                  ...  \n",
       "12260                  उपराष्ट्रपतेः शपथवचनं शुक्रवासरे।  \n",
       "12261                   पचनवायोः वित्तानुकूल्यं स्थगयति।  \n",
       "12262            विद्यालयेषु इतः परं असमर्थानामवतीर्णता।  \n",
       "12263              पि यु चित्रा विश्वस्पर्धात बहिष्कृता।  \n",
       "12264                          नवास् षरीफः स्थानभ्रष्टः।  \n",
       "\n",
       "[12265 rows x 2 columns]"
      ]
     },
     "execution_count": 175,
     "metadata": {},
     "output_type": "execute_result"
    }
   ],
   "source": [
    "uclean_df"
   ]
  },
  {
   "cell_type": "code",
   "execution_count": 176,
   "id": "b06b9900",
   "metadata": {},
   "outputs": [],
   "source": [
    "uclean_df.to_csv('../for_BERT/uclean_data/df_removed_6len_words.csv', index = False)"
   ]
  },
  {
   "cell_type": "markdown",
   "id": "7e994a62",
   "metadata": {},
   "source": [
    "<h1>CLEAN SAVE--------------------------------------------------------------------------------------------</h1><h3> 12265 rows </h3> "
   ]
  },
  {
   "cell_type": "code",
   "execution_count": 178,
   "id": "c147d9a6",
   "metadata": {},
   "outputs": [],
   "source": [
    "from sklearn.model_selection import train_test_split"
   ]
  },
  {
   "cell_type": "code",
   "execution_count": 179,
   "id": "4fd3ccbd",
   "metadata": {},
   "outputs": [],
   "source": [
    "y = uclean_df['summary']\n",
    "X = uclean_df['text']"
   ]
  },
  {
   "cell_type": "code",
   "execution_count": 230,
   "id": "9e1a6c8d",
   "metadata": {},
   "outputs": [],
   "source": [
    "def calc_dims(X_shape, val_perc, test_perc):\n",
    "    train_first = X_shape - val_perc\n",
    "    train_val = 100 - (train_first*100/X_shape)\n",
    "    val_first = val_perc - test_perc\n",
    "    val_val = 100 - (val_first*100/val_perc)\n",
    "    return train_val, val_val"
   ]
  },
  {
   "cell_type": "code",
   "execution_count": 285,
   "id": "1e5a0a66",
   "metadata": {},
   "outputs": [],
   "source": [
    "def stats(df, label = None):\n",
    "    print(f'{label} : {df.shape}')\n",
    "    #print(f'Null: {df.isna().sum()}\\nDuplicates: {df.duplicated().sum()}')\n",
    "    for col in df.columns:\n",
    "        print(f'Null in {col}: {df[col].isna().sum()}')\n",
    "        print(f'Duplicates in {col}: {df.duplicated(subset = [col]).sum()}')"
   ]
  },
  {
   "cell_type": "code",
   "execution_count": 251,
   "id": "66ec5c46",
   "metadata": {},
   "outputs": [
    {
     "data": {
      "text/plain": [
       "(14.227476559315122, 14.04011461318052)"
      ]
     },
     "execution_count": 251,
     "metadata": {},
     "output_type": "execute_result"
    }
   ],
   "source": [
    "calc_dims(len(X), 1745, 245)"
   ]
  },
  {
   "cell_type": "code",
   "execution_count": 252,
   "id": "7b19c731",
   "metadata": {},
   "outputs": [],
   "source": [
    "Xtr, Xtest, ytr, ytest = train_test_split(X,y,test_size = .14227,shuffle = True)\n",
    "Xval, Xtest, yval, ytest = train_test_split(Xtest, ytest, test_size = .14040, shuffle = True)"
   ]
  },
  {
   "cell_type": "code",
   "execution_count": 253,
   "id": "197af14e",
   "metadata": {},
   "outputs": [
    {
     "name": "stdout",
     "output_type": "stream",
     "text": [
      "Train data shape : (10520,), (10520,)\n",
      "Validation data shape:(1500,), (1500,)\n",
      "Test data shape: (245,), (245,)\n"
     ]
    }
   ],
   "source": [
    "print(f'Train data shape : {Xtr.shape}, {ytr.shape}\\nValidation data shape:{Xval.shape}, {yval.shape}\\nTest data shape: {Xtest.shape}, {ytest.shape}')"
   ]
  },
  {
   "cell_type": "code",
   "execution_count": 254,
   "id": "5ebbeb12",
   "metadata": {},
   "outputs": [
    {
     "name": "stdout",
     "output_type": "stream",
     "text": [
      "Training Data Dimensions:  (10520,) (10520,)\n",
      "Validation Data Dimensions:  (1500,) (1500,)\n",
      "Testing Data Dimensions:  (245,) (245,)\n"
     ]
    }
   ],
   "source": [
    "print('Training Data Dimensions: ', Xtr.shape, ytr.shape)\n",
    "print('Validation Data Dimensions: ', Xval.shape, yval.shape)\n",
    "print('Testing Data Dimensions: ', Xtest.shape, ytest.shape)"
   ]
  },
  {
   "cell_type": "code",
   "execution_count": 287,
   "id": "cc67b5e2",
   "metadata": {},
   "outputs": [
    {
     "name": "stdout",
     "output_type": "stream",
     "text": [
      "uclean_df : (12265, 2)\n",
      "Null in text: 0\n",
      "Duplicates in text: 0\n",
      "Null in summary: 0\n",
      "Duplicates in summary: 0\n"
     ]
    }
   ],
   "source": [
    "stats(uclean_df, 'uclean_df')"
   ]
  },
  {
   "cell_type": "code",
   "execution_count": 280,
   "id": "78a2abcd",
   "metadata": {},
   "outputs": [],
   "source": [
    "final_train_data = pd.DataFrame({'text':Xtr, 'summary':ytr}).reset_index(drop = True)"
   ]
  },
  {
   "cell_type": "code",
   "execution_count": 281,
   "id": "e6585a86",
   "metadata": {},
   "outputs": [],
   "source": [
    "final_test_data = pd.DataFrame({'text':Xtest, 'summary':ytest}).reset_index(drop = True)"
   ]
  },
  {
   "cell_type": "code",
   "execution_count": 282,
   "id": "abcebd8b",
   "metadata": {},
   "outputs": [],
   "source": [
    "final_val_data = pd.DataFrame({'text':Xval, 'summary':yval}).reset_index(drop = True)"
   ]
  },
  {
   "cell_type": "code",
   "execution_count": 290,
   "id": "3ef3ed46",
   "metadata": {},
   "outputs": [
    {
     "name": "stdout",
     "output_type": "stream",
     "text": [
      "train : (10520, 2)\n",
      "Null in text: 0\n",
      "Duplicates in text: 0\n",
      "Null in summary: 0\n",
      "Duplicates in summary: 0\n"
     ]
    }
   ],
   "source": [
    "stats(final_train_data, 'train')"
   ]
  },
  {
   "cell_type": "code",
   "execution_count": 293,
   "id": "2068ffb9",
   "metadata": {},
   "outputs": [
    {
     "name": "stdout",
     "output_type": "stream",
     "text": [
      "train : (1500, 2)\n",
      "Null in text: 0\n",
      "Duplicates in text: 0\n",
      "Null in summary: 0\n",
      "Duplicates in summary: 0\n"
     ]
    }
   ],
   "source": [
    "stats(final_val_data, 'train')"
   ]
  },
  {
   "cell_type": "code",
   "execution_count": 294,
   "id": "c2d5d295",
   "metadata": {},
   "outputs": [
    {
     "name": "stdout",
     "output_type": "stream",
     "text": [
      "train : (245, 2)\n",
      "Null in text: 0\n",
      "Duplicates in text: 0\n",
      "Null in summary: 0\n",
      "Duplicates in summary: 0\n"
     ]
    }
   ],
   "source": [
    "stats(final_test_data, 'train')"
   ]
  },
  {
   "cell_type": "markdown",
   "id": "b5e96c25",
   "metadata": {},
   "source": [
    "<h3>~14 percent train-test split</h3>\n",
    "<h3>~14 percent val-test split</h3>"
   ]
  },
  {
   "cell_type": "code",
   "execution_count": 295,
   "id": "b74bc066",
   "metadata": {},
   "outputs": [],
   "source": [
    "final_train_data.to_csv('../for_BERT/uclean_data/train.csv', index = False)\n",
    "final_test_data.to_csv('../for_BERT/uclean_data/test.csv', index = False)\n",
    "final_val_data.to_csv('../for_BERT/uclean_data/val.csv', index = False)"
   ]
  },
  {
   "cell_type": "markdown",
   "id": "dd45f4a8",
   "metadata": {},
   "source": [
    "### So, finally, \n",
    "### the training data has 10520 examples, \n",
    "### the validation data has 1500 examples,\n",
    "### the test data has 245 examples"
   ]
  }
 ],
 "metadata": {
  "kernelspec": {
   "display_name": "Python 3 (ipykernel)",
   "language": "python",
   "name": "python3"
  },
  "language_info": {
   "codemirror_mode": {
    "name": "ipython",
    "version": 3
   },
   "file_extension": ".py",
   "mimetype": "text/x-python",
   "name": "python",
   "nbconvert_exporter": "python",
   "pygments_lexer": "ipython3",
   "version": "3.8.10"
  }
 },
 "nbformat": 4,
 "nbformat_minor": 5
}
