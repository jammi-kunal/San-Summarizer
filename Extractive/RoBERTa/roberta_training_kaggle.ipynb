{
 "cells": [
  {
   "cell_type": "markdown",
   "metadata": {
    "id": "9fi-1JReM_cA"
   },
   "source": [
    "## Getting the data\n"
   ]
  },
  {
   "cell_type": "markdown",
   "metadata": {
    "id": "ta0nUaDB9Sex"
   },
   "source": [
    "### Getting data"
   ]
  },
  {
   "cell_type": "code",
   "execution_count": null,
   "metadata": {
    "id": "PTpLXe3-9R11"
   },
   "outputs": [],
   "source": []
  },
  {
   "cell_type": "code",
   "execution_count": null,
   "metadata": {
    "id": "Q9xlvdXd9usB"
   },
   "outputs": [],
   "source": []
  },
  {
   "cell_type": "code",
   "execution_count": null,
   "metadata": {
    "id": "gU9a3dVG9kKD",
    "outputId": "cf37b3a5-6caa-4269-c3a0-ba068bf20ccd"
   },
   "outputs": [],
   "source": [
    "\n"
   ]
  },
  {
   "cell_type": "markdown",
   "metadata": {
    "id": "-xobzE4sM-w0"
   },
   "source": [
    "## Building a tokenizer\n"
   ]
  },
  {
   "cell_type": "code",
   "execution_count": null,
   "metadata": {
    "execution": {
     "iopub.execute_input": "2022-04-24T05:32:08.283225Z",
     "iopub.status.busy": "2022-04-24T05:32:08.282777Z"
    },
    "id": "lM1cxbNvuOm3",
    "outputId": "276bbe1c-e5d8-433d-e82c-e7899f3453b3"
   },
   "outputs": [],
   "source": [
    "!pip install pathlib"
   ]
  },
  {
   "cell_type": "code",
   "execution_count": null,
   "metadata": {
    "id": "oGNaeoH0s19u",
    "outputId": "994d398d-377e-4d50-bae0-74d0c0534f5e"
   },
   "outputs": [],
   "source": [
    "from pathlib import Path #it will be used to get all the file names\n",
    "\n",
    "pths = [str(i) for i in Path('../input/sanskrit-text-corpus/Sankrit_Corpus/').glob('*.txt')]\n",
    "#print(pths)"
   ]
  },
  {
   "cell_type": "code",
   "execution_count": null,
   "metadata": {
    "id": "MB9Ucbuavh2A",
    "outputId": "414bfd94-6b5b-4b1e-b9fc-8364e4be0d34"
   },
   "outputs": [],
   "source": [
    "!pip install tokenizers"
   ]
  },
  {
   "cell_type": "code",
   "execution_count": null,
   "metadata": {
    "id": "fytQ_x4NvaTA"
   },
   "outputs": [],
   "source": [
    "from tokenizers import ByteLevelBPETokenizer\n",
    "\n",
    "tokenizer = ByteLevelBPETokenizer()"
   ]
  },
  {
   "cell_type": "code",
   "execution_count": null,
   "metadata": {
    "id": "iVjbSfd1vvDi"
   },
   "outputs": [],
   "source": [
    "tokenizer.train(files=pths, vocab_size=30_522, min_frequency=2,\n",
    "                special_tokens=['<s>', '<pad>', '</s>', '<unk>', '<mask>'])"
   ]
  },
  {
   "cell_type": "code",
   "execution_count": null,
   "metadata": {
    "id": "pMvZAgSxv-P6"
   },
   "outputs": [],
   "source": [
    "#!mkdir 'content/tok''<s>', '<pad>', '</s>', '<unk>', '<mask>'"
   ]
  },
  {
   "cell_type": "code",
   "execution_count": null,
   "metadata": {
    "id": "wCYg_k7mwDlM",
    "outputId": "96f3229a-f8ea-4024-afd9-fdd9324596e6"
   },
   "outputs": [],
   "source": [
    "import os\n",
    "os.mkdir('./sanskrit_bert')\n",
    "tokenizer.save_model('sanskrit_bert')"
   ]
  },
  {
   "cell_type": "code",
   "execution_count": null,
   "metadata": {
    "execution": {
     "iopub.execute_input": "2022-04-23T15:18:13.669516Z",
     "iopub.status.busy": "2022-04-23T15:18:13.668989Z",
     "iopub.status.idle": "2022-04-23T15:18:13.678019Z",
     "shell.execute_reply": "2022-04-23T15:18:13.677119Z",
     "shell.execute_reply.started": "2022-04-23T15:18:13.669475Z"
    },
    "id": "Yi23EOC7xd3I",
    "outputId": "ca6acec5-4f71-4ba1-d190-289ed45e3b54"
   },
   "outputs": [],
   "source": [
    "print(tokenizer)"
   ]
  },
  {
   "cell_type": "code",
   "execution_count": null,
   "metadata": {
    "execution": {
     "iopub.execute_input": "2022-04-23T15:18:13.680057Z",
     "iopub.status.busy": "2022-04-23T15:18:13.679709Z",
     "iopub.status.idle": "2022-04-23T15:18:42.873961Z",
     "shell.execute_reply": "2022-04-23T15:18:42.87304Z",
     "shell.execute_reply.started": "2022-04-23T15:18:13.680019Z"
    },
    "id": "0Xx8H6o5zUG3",
    "outputId": "3f5b8fad-b542-4f11-a0ee-638ae02af8dc"
   },
   "outputs": [],
   "source": [
    "!pip install transformers"
   ]
  },
  {
   "cell_type": "code",
   "execution_count": null,
   "metadata": {
    "execution": {
     "iopub.execute_input": "2022-04-23T15:18:42.877906Z",
     "iopub.status.busy": "2022-04-23T15:18:42.877658Z",
     "iopub.status.idle": "2022-04-23T15:18:48.817784Z",
     "shell.execute_reply": "2022-04-23T15:18:48.817032Z",
     "shell.execute_reply.started": "2022-04-23T15:18:42.877877Z"
    },
    "id": "IsqRsMnIzNwx",
    "outputId": "c324378a-6ac4-468c-8c4b-e8d727fb6095"
   },
   "outputs": [],
   "source": [
    "from transformers import RobertaTokenizer\n",
    "\n",
    "# initialize the tokenizer using the tokenizer we initialized and saved to file\n",
    "tokenizer = RobertaTokenizer.from_pretrained('./sanskrit_bert', max_len=512)"
   ]
  },
  {
   "cell_type": "code",
   "execution_count": null,
   "metadata": {
    "execution": {
     "iopub.execute_input": "2022-04-23T15:18:48.820788Z",
     "iopub.status.busy": "2022-04-23T15:18:48.820433Z",
     "iopub.status.idle": "2022-04-23T15:18:48.836222Z",
     "shell.execute_reply": "2022-04-23T15:18:48.835433Z",
     "shell.execute_reply.started": "2022-04-23T15:18:48.820744Z"
    },
    "id": "90T_nQyOz4tk",
    "outputId": "7110f0db-de3c-4442-f83d-1b77709200d7"
   },
   "outputs": [],
   "source": [
    "tokens = tokenizer('अस्याः सञ्चिकायाः')\n",
    "print(tokens)\n",
    "tokens = tokenizer('इहापि अनन्तरस्य पितृष्वसुर्विधिर्वा भवतिप्रतिषेधो वा इति लोप एवानन्तरः प्राप्नोति अस्याः')\n",
    "print(tokens)\n",
    "t = 'ॐ नमो भगवते॑ रुद्राय ॥ नम॑स्ते रुद्र म॒न्यव॑ उ॒तोत॒ इष॑वे॒ नमः॑ । नम॑स्ते अस्तु॒ धन्व॑ने बा॒हुभ्या॑मु॒त ते॒ नमः॑ '\n",
    "tokens = tokenizer(t)\n",
    "print(tokens)\n",
    "len(tokens)"
   ]
  },
  {
   "cell_type": "code",
   "execution_count": null,
   "metadata": {
    "execution": {
     "iopub.execute_input": "2022-04-23T15:18:48.837722Z",
     "iopub.status.busy": "2022-04-23T15:18:48.837411Z",
     "iopub.status.idle": "2022-04-23T15:18:48.84167Z",
     "shell.execute_reply": "2022-04-23T15:18:48.840989Z",
     "shell.execute_reply.started": "2022-04-23T15:18:48.837684Z"
    },
    "id": "zzC0IBaGJwRO"
   },
   "outputs": [],
   "source": [
    "import glob\n",
    "lines=[]"
   ]
  },
  {
   "cell_type": "code",
   "execution_count": null,
   "metadata": {
    "execution": {
     "iopub.execute_input": "2022-04-23T15:18:48.843627Z",
     "iopub.status.busy": "2022-04-23T15:18:48.843016Z",
     "iopub.status.idle": "2022-04-23T15:18:51.373252Z",
     "shell.execute_reply": "2022-04-23T15:18:51.372497Z",
     "shell.execute_reply.started": "2022-04-23T15:18:48.843519Z"
    },
    "id": "2m4kscyX2Ymy"
   },
   "outputs": [],
   "source": [
    "for file1 in glob.glob(\"../input/sanskrit-text-corpus/Sankrit_Corpus/*.txt\"):\n",
    "  with open(file1, 'r', encoding='utf-8') as fp:\n",
    "      lines+=(fp.read().split('\\n'))"
   ]
  },
  {
   "cell_type": "code",
   "execution_count": null,
   "metadata": {
    "execution": {
     "iopub.execute_input": "2022-04-23T15:18:51.374664Z",
     "iopub.status.busy": "2022-04-23T15:18:51.374418Z",
     "iopub.status.idle": "2022-04-23T15:18:51.488891Z",
     "shell.execute_reply": "2022-04-23T15:18:51.488054Z",
     "shell.execute_reply.started": "2022-04-23T15:18:51.374631Z"
    },
    "id": "jCQtWBsc2d-Z",
    "outputId": "780cbeff-0c84-420e-e7d8-f2a00d886f39"
   },
   "outputs": [],
   "source": [
    "len(lines)\n",
    "print(lines[230451])\n",
    "lines = lines[int(len(lines)*0.55):int(len(lines)*0.85)]"
   ]
  },
  {
   "cell_type": "code",
   "execution_count": null,
   "metadata": {
    "execution": {
     "iopub.execute_input": "2022-04-23T15:18:51.491396Z",
     "iopub.status.busy": "2022-04-23T15:18:51.490805Z",
     "iopub.status.idle": "2022-04-23T15:18:51.498179Z",
     "shell.execute_reply": "2022-04-23T15:18:51.49732Z",
     "shell.execute_reply.started": "2022-04-23T15:18:51.491356Z"
    },
    "id": "qrzt7wXdq5jU",
    "outputId": "e690b12c-d800-43ca-e99f-7af67d5f9ca2"
   },
   "outputs": [],
   "source": [
    "int(len(lines)*0.2//1)"
   ]
  },
  {
   "cell_type": "code",
   "execution_count": null,
   "metadata": {
    "execution": {
     "iopub.execute_input": "2022-04-23T15:18:51.500531Z",
     "iopub.status.busy": "2022-04-23T15:18:51.499826Z",
     "iopub.status.idle": "2022-04-23T15:25:26.575431Z",
     "shell.execute_reply": "2022-04-23T15:25:26.574663Z",
     "shell.execute_reply.started": "2022-04-23T15:18:51.50044Z"
    },
    "id": "C64QHkuX2oaV"
   },
   "outputs": [],
   "source": [
    "batch = tokenizer(lines[:], max_length=300, padding='max_length', truncation=True)\n"
   ]
  },
  {
   "cell_type": "code",
   "execution_count": null,
   "metadata": {
    "execution": {
     "iopub.execute_input": "2022-04-23T15:25:26.579566Z",
     "iopub.status.busy": "2022-04-23T15:25:26.579352Z",
     "iopub.status.idle": "2022-04-23T15:25:26.588926Z",
     "shell.execute_reply": "2022-04-23T15:25:26.588078Z",
     "shell.execute_reply.started": "2022-04-23T15:25:26.57954Z"
    },
    "id": "CVxjJY-Y_LjK",
    "outputId": "ebd2b06f-7d73-402b-dcb7-d45353b35b57"
   },
   "outputs": [],
   "source": [
    "len(batch[\"input_ids\"])"
   ]
  },
  {
   "cell_type": "code",
   "execution_count": null,
   "metadata": {
    "execution": {
     "iopub.execute_input": "2022-04-23T15:25:26.590727Z",
     "iopub.status.busy": "2022-04-23T15:25:26.59041Z",
     "iopub.status.idle": "2022-04-23T15:25:26.597053Z",
     "shell.execute_reply": "2022-04-23T15:25:26.596299Z",
     "shell.execute_reply.started": "2022-04-23T15:25:26.590692Z"
    },
    "id": "0AAfLLy038br",
    "outputId": "86f3942b-fdb9-4a4d-d49b-6bcd95319628"
   },
   "outputs": [],
   "source": [
    "\n",
    "for x in batch:\n",
    "  print(x)"
   ]
  },
  {
   "cell_type": "code",
   "execution_count": null,
   "metadata": {
    "execution": {
     "iopub.execute_input": "2022-04-23T15:25:26.599152Z",
     "iopub.status.busy": "2022-04-23T15:25:26.598366Z",
     "iopub.status.idle": "2022-04-23T15:26:19.972362Z",
     "shell.execute_reply": "2022-04-23T15:26:19.971598Z",
     "shell.execute_reply.started": "2022-04-23T15:25:26.599116Z"
    },
    "id": "cDG3DgO9-XrO"
   },
   "outputs": [],
   "source": [
    "import torch\n",
    "\n",
    "labels = torch.tensor([x for x in batch[\"input_ids\"]])\n",
    "mask = torch.tensor([x for x in batch[\"attention_mask\"]])"
   ]
  },
  {
   "cell_type": "code",
   "execution_count": null,
   "metadata": {
    "execution": {
     "iopub.execute_input": "2022-04-23T15:26:19.974518Z",
     "iopub.status.busy": "2022-04-23T15:26:19.973631Z",
     "iopub.status.idle": "2022-04-23T15:26:40.667863Z",
     "shell.execute_reply": "2022-04-23T15:26:40.666982Z",
     "shell.execute_reply.started": "2022-04-23T15:26:19.974478Z"
    },
    "id": "D36C3jr6ARIs"
   },
   "outputs": [],
   "source": [
    "# make copy of labels tensor, this will be input_ids\n",
    "input_ids = labels.detach().clone()\n",
    "# create random array of floats with equal dims to input_ids\n",
    "rand = torch.rand(input_ids.shape)\n",
    "# mask random 15% where token is not 0 [PAD], 1 [CLS], or 2 [SEP]\n",
    "mask_arr = (rand < .15) * (input_ids != 0) * (input_ids != 1) * (input_ids != 2)\n",
    "# loop through each row in input_ids tensor (cannot do in parallel)\n",
    "for i in range(input_ids.shape[0]):\n",
    "    # get indices of mask positions from mask array\n",
    "    selection = torch.flatten(mask_arr[i].nonzero()).tolist()\n",
    "    # mask input_ids\n",
    "    input_ids[i, selection] = 3  # our custom [MASK] token == 3"
   ]
  },
  {
   "cell_type": "code",
   "execution_count": null,
   "metadata": {
    "execution": {
     "iopub.execute_input": "2022-04-23T15:26:40.756304Z",
     "iopub.status.busy": "2022-04-23T15:26:40.756024Z",
     "iopub.status.idle": "2022-04-23T15:26:40.764884Z",
     "shell.execute_reply": "2022-04-23T15:26:40.764014Z",
     "shell.execute_reply.started": "2022-04-23T15:26:40.756273Z"
    },
    "id": "ZeoDy-WEAYZU",
    "outputId": "3b6bcade-7004-4436-c683-aaeb85ec8003"
   },
   "outputs": [],
   "source": [
    "input_ids.shape"
   ]
  },
  {
   "cell_type": "code",
   "execution_count": null,
   "metadata": {
    "execution": {
     "iopub.execute_input": "2022-04-23T15:26:40.76742Z",
     "iopub.status.busy": "2022-04-23T15:26:40.766463Z",
     "iopub.status.idle": "2022-04-23T15:26:40.783838Z",
     "shell.execute_reply": "2022-04-23T15:26:40.78306Z",
     "shell.execute_reply.started": "2022-04-23T15:26:40.767382Z"
    },
    "id": "T3A0AxrgAd7u",
    "outputId": "efd0a0cd-4a62-40d8-db3d-2c84d1c9d75a"
   },
   "outputs": [],
   "source": [
    "input_ids[100][:]"
   ]
  },
  {
   "cell_type": "code",
   "execution_count": null,
   "metadata": {
    "execution": {
     "iopub.execute_input": "2022-04-23T15:26:40.785189Z",
     "iopub.status.busy": "2022-04-23T15:26:40.784873Z",
     "iopub.status.idle": "2022-04-23T15:26:40.789355Z",
     "shell.execute_reply": "2022-04-23T15:26:40.788664Z",
     "shell.execute_reply.started": "2022-04-23T15:26:40.78514Z"
    },
    "id": "Ia_3RQdgAnIM"
   },
   "outputs": [],
   "source": [
    "encodings = {'input_ids': input_ids, 'attention_mask': mask, 'labels': labels}\n"
   ]
  },
  {
   "cell_type": "code",
   "execution_count": null,
   "metadata": {
    "execution": {
     "iopub.execute_input": "2022-04-23T15:26:40.790981Z",
     "iopub.status.busy": "2022-04-23T15:26:40.790604Z",
     "iopub.status.idle": "2022-04-23T15:26:40.799732Z",
     "shell.execute_reply": "2022-04-23T15:26:40.799027Z",
     "shell.execute_reply.started": "2022-04-23T15:26:40.790943Z"
    },
    "id": "MVKhHdFyAzBy"
   },
   "outputs": [],
   "source": [
    "class Dataset(torch.utils.data.Dataset):\n",
    "    def __init__(self, encodings):\n",
    "        # store encodings internally\n",
    "        self.encodings = encodings\n",
    "\n",
    "    def __len__(self):\n",
    "        # return the number of samples\n",
    "        return self.encodings['input_ids'].shape[0]\n",
    "\n",
    "    def __getitem__(self, i):\n",
    "        # return dictionary of input_ids, attention_mask, and labels for index i\n",
    "        return {key: tensor[i] for key, tensor in self.encodings.items()}"
   ]
  },
  {
   "cell_type": "code",
   "execution_count": null,
   "metadata": {
    "execution": {
     "iopub.execute_input": "2022-04-23T15:26:40.80193Z",
     "iopub.status.busy": "2022-04-23T15:26:40.80146Z",
     "iopub.status.idle": "2022-04-23T15:26:40.807674Z",
     "shell.execute_reply": "2022-04-23T15:26:40.806875Z",
     "shell.execute_reply.started": "2022-04-23T15:26:40.801897Z"
    },
    "id": "febjBlk9A3UQ"
   },
   "outputs": [],
   "source": [
    "dataset = Dataset(encodings)"
   ]
  },
  {
   "cell_type": "code",
   "execution_count": null,
   "metadata": {
    "execution": {
     "iopub.execute_input": "2022-04-23T15:26:40.809268Z",
     "iopub.status.busy": "2022-04-23T15:26:40.809052Z",
     "iopub.status.idle": "2022-04-23T15:26:40.815839Z",
     "shell.execute_reply": "2022-04-23T15:26:40.815169Z",
     "shell.execute_reply.started": "2022-04-23T15:26:40.809237Z"
    },
    "id": "RoR5UTPtA9tY"
   },
   "outputs": [],
   "source": [
    "loader = torch.utils.data.DataLoader(dataset, batch_size=16, shuffle=True)"
   ]
  },
  {
   "cell_type": "code",
   "execution_count": null,
   "metadata": {
    "execution": {
     "iopub.execute_input": "2022-04-23T15:26:40.817472Z",
     "iopub.status.busy": "2022-04-23T15:26:40.817202Z",
     "iopub.status.idle": "2022-04-23T15:26:40.825598Z",
     "shell.execute_reply": "2022-04-23T15:26:40.824882Z",
     "shell.execute_reply.started": "2022-04-23T15:26:40.817439Z"
    },
    "id": "zCeLDPJvBBPg"
   },
   "outputs": [],
   "source": [
    "from transformers import RobertaConfig\n",
    "\n",
    "config = RobertaConfig(\n",
    "    vocab_size=30_522,  # we align this to the tokenizer vocab_size\n",
    "    max_position_embeddings=514,\n",
    "    hidden_size=768,\n",
    "    num_attention_heads=12,\n",
    "    num_hidden_layers=6,\n",
    "    type_vocab_size=1\n",
    ")"
   ]
  },
  {
   "cell_type": "code",
   "execution_count": null,
   "metadata": {
    "execution": {
     "iopub.execute_input": "2022-04-23T15:26:40.829864Z",
     "iopub.status.busy": "2022-04-23T15:26:40.829676Z",
     "iopub.status.idle": "2022-04-23T15:26:43.26076Z",
     "shell.execute_reply": "2022-04-23T15:26:43.260049Z",
     "shell.execute_reply.started": "2022-04-23T15:26:40.829843Z"
    },
    "id": "ZAWyrWzZBJUZ"
   },
   "outputs": [],
   "source": [
    "from transformers import RobertaForMaskedLM\n",
    "\n",
    "model = RobertaForMaskedLM(config)"
   ]
  },
  {
   "cell_type": "code",
   "execution_count": null,
   "metadata": {
    "execution": {
     "iopub.execute_input": "2022-04-23T15:26:43.262424Z",
     "iopub.status.busy": "2022-04-23T15:26:43.262037Z",
     "iopub.status.idle": "2022-04-23T15:26:43.275241Z",
     "shell.execute_reply": "2022-04-23T15:26:43.273834Z",
     "shell.execute_reply.started": "2022-04-23T15:26:43.262388Z"
    },
    "id": "nPCnHb6FBM2K",
    "outputId": "b163f755-4747-4f4e-f2b4-d94b467b07d1"
   },
   "outputs": [],
   "source": [
    "model\n"
   ]
  },
  {
   "cell_type": "code",
   "execution_count": null,
   "metadata": {
    "execution": {
     "iopub.execute_input": "2022-04-23T15:26:43.278466Z",
     "iopub.status.busy": "2022-04-23T15:26:43.277917Z",
     "iopub.status.idle": "2022-04-23T15:26:48.299406Z",
     "shell.execute_reply": "2022-04-23T15:26:48.297857Z",
     "shell.execute_reply.started": "2022-04-23T15:26:43.27843Z"
    },
    "id": "P3FZKQ3rBYnW",
    "outputId": "67d2e17d-e84e-423c-f862-dd1e58901ec7"
   },
   "outputs": [],
   "source": [
    "device = torch.device('cuda') if torch.cuda.is_available() else torch.device('cpu')\n",
    "# and move our model over to the selected device\n",
    "model.to(device)"
   ]
  },
  {
   "cell_type": "code",
   "execution_count": null,
   "metadata": {
    "execution": {
     "iopub.execute_input": "2022-04-23T15:26:48.302846Z",
     "iopub.status.busy": "2022-04-23T15:26:48.30239Z",
     "iopub.status.idle": "2022-04-23T15:26:48.34254Z",
     "shell.execute_reply": "2022-04-23T15:26:48.341578Z",
     "shell.execute_reply.started": "2022-04-23T15:26:48.302816Z"
    },
    "id": "GGw7kbMfBp6O",
    "outputId": "a62846a6-0436-4102-aa24-f8bf3e51706c"
   },
   "outputs": [],
   "source": [
    "from transformers import AdamW\n",
    "\n",
    "# activate training mode\n",
    "model.train()\n",
    "# initialize optimizer\n",
    "optim = AdamW(model.parameters(), lr=1e-4)"
   ]
  },
  {
   "cell_type": "code",
   "execution_count": null,
   "metadata": {
    "execution": {
     "iopub.execute_input": "2022-04-23T15:40:51.713387Z",
     "iopub.status.busy": "2022-04-23T15:40:51.713104Z",
     "iopub.status.idle": "2022-04-23T15:40:51.71757Z",
     "shell.execute_reply": "2022-04-23T15:40:51.716471Z",
     "shell.execute_reply.started": "2022-04-23T15:40:51.713357Z"
    },
    "id": "78xToDkNuESW"
   },
   "outputs": [],
   "source": [
    "from tqdm.auto import tqdm"
   ]
  },
  {
   "cell_type": "code",
   "execution_count": null,
   "metadata": {
    "execution": {
     "iopub.execute_input": "2022-04-24T05:08:32.499876Z",
     "iopub.status.busy": "2022-04-24T05:08:32.499341Z",
     "iopub.status.idle": "2022-04-24T05:08:32.583335Z",
     "shell.execute_reply": "2022-04-24T05:08:32.58226Z",
     "shell.execute_reply.started": "2022-04-24T05:08:32.499803Z"
    },
    "id": "rW6_AypoBc9K",
    "outputId": "d9d7eae9-8042-494e-f2a0-4607b46f3234"
   },
   "outputs": [],
   "source": [
    "epochs = 10\n",
    "\n",
    "for epoch in range(epochs):\n",
    "    # setup loop with TQDM and dataloader\n",
    "    loop = tqdm(loader, leave=True)\n",
    "    for batch in loop:\n",
    "        # initialize calculated gradients (from prev step)\n",
    "        optim.zero_grad()\n",
    "        # pull all tensor batches required for training\n",
    "        input_ids = batch['input_ids'].to(device)\n",
    "        attention_mask = batch['attention_mask'].to(device)\n",
    "        labels = batch['labels'].to(device)\n",
    "        # process\n",
    "        outputs = model(input_ids, attention_mask=attention_mask,\n",
    "                        labels=labels)\n",
    "        # extract loss\n",
    "        loss = outputs.loss\n",
    "        # calculate loss for every parameter that needs grad update\n",
    "        loss.backward()\n",
    "        # update parameters\n",
    "        optim.step()\n",
    "        # print relevant info to progress bar\n",
    "        loop.set_description(f'Epoch {epoch}')\n",
    "        loop.set_postfix(loss=loss.item())\n",
    "    model.save_pretrained('./sanskrit_bert')     "
   ]
  },
  {
   "cell_type": "code",
   "execution_count": null,
   "metadata": {
    "execution": {
     "iopub.execute_input": "2022-04-23T17:34:07.576943Z",
     "iopub.status.busy": "2022-04-23T17:34:07.576401Z",
     "iopub.status.idle": "2022-04-23T17:34:08.143561Z",
     "shell.execute_reply": "2022-04-23T17:34:08.142683Z",
     "shell.execute_reply.started": "2022-04-23T17:34:07.576907Z"
    },
    "id": "HQgfUxjzHja0"
   },
   "outputs": [],
   "source": [
    "model.save_pretrained('./sanskrit_bert')  "
   ]
  },
  {
   "cell_type": "code",
   "execution_count": null,
   "metadata": {
    "execution": {
     "iopub.execute_input": "2022-04-23T17:34:09.885675Z",
     "iopub.status.busy": "2022-04-23T17:34:09.8851Z",
     "iopub.status.idle": "2022-04-23T17:34:09.89271Z",
     "shell.execute_reply": "2022-04-23T17:34:09.892034Z",
     "shell.execute_reply.started": "2022-04-23T17:34:09.885638Z"
    },
    "id": "NexnXi6k-cHV",
    "outputId": "01dda0ec-7596-4b16-8d72-4ddd07d93773"
   },
   "outputs": [],
   "source": [
    "model"
   ]
  },
  {
   "cell_type": "code",
   "execution_count": null,
   "metadata": {
    "execution": {
     "iopub.execute_input": "2022-04-23T15:04:34.344014Z",
     "iopub.status.busy": "2022-04-23T15:04:34.343136Z",
     "iopub.status.idle": "2022-04-23T15:04:37.436108Z",
     "shell.execute_reply": "2022-04-23T15:04:37.435415Z",
     "shell.execute_reply.started": "2022-04-23T15:04:34.34398Z"
    },
    "id": "JD95yvq9-gXP"
   },
   "outputs": [],
   "source": [
    "from transformers import pipeline"
   ]
  },
  {
   "cell_type": "markdown",
   "metadata": {
    "id": "FVFTKCP4M-_N"
   },
   "source": [
    "## Creating an input pipeline\n"
   ]
  },
  {
   "cell_type": "code",
   "execution_count": null,
   "metadata": {
    "execution": {
     "iopub.execute_input": "2022-04-23T15:04:37.438041Z",
     "iopub.status.busy": "2022-04-23T15:04:37.437692Z",
     "iopub.status.idle": "2022-04-23T15:04:38.452626Z",
     "shell.execute_reply": "2022-04-23T15:04:38.451867Z",
     "shell.execute_reply.started": "2022-04-23T15:04:37.438005Z"
    },
    "id": "z74t4olu-rl-"
   },
   "outputs": [],
   "source": [
    "fill = pipeline('fill-mask', model='sanskrit_bert', tokenizer='sanskrit_bert')"
   ]
  },
  {
   "cell_type": "code",
   "execution_count": null,
   "metadata": {
    "execution": {
     "iopub.execute_input": "2022-04-23T15:04:38.45553Z",
     "iopub.status.busy": "2022-04-23T15:04:38.453754Z",
     "iopub.status.idle": "2022-04-23T15:04:39.614508Z",
     "shell.execute_reply": "2022-04-23T15:04:39.613656Z",
     "shell.execute_reply.started": "2022-04-23T15:04:38.45549Z"
    },
    "id": "YtZtXeEF-3Yh",
    "outputId": "a366b411-b84a-4c26-ddf8-65c7463ef9c6"
   },
   "outputs": [],
   "source": [
    "fill(f'पतत्र श्रीरामं {fill.tokenizer.mask_token} पहिता')\n"
   ]
  },
  {
   "cell_type": "markdown",
   "metadata": {
    "id": "f4JOXPq3OhyH"
   },
   "source": [
    "###loading model"
   ]
  },
  {
   "cell_type": "code",
   "execution_count": null,
   "metadata": {
    "execution": {
     "iopub.execute_input": "2022-04-23T15:04:55.014914Z",
     "iopub.status.busy": "2022-04-23T15:04:55.014647Z",
     "iopub.status.idle": "2022-04-23T15:04:55.019767Z",
     "shell.execute_reply": "2022-04-23T15:04:55.018706Z",
     "shell.execute_reply.started": "2022-04-23T15:04:55.014884Z"
    },
    "id": "0fiZfTdlT7jR"
   },
   "outputs": [],
   "source": [
    "from transformers import RobertaTokenizer, RobertaModel"
   ]
  },
  {
   "cell_type": "code",
   "execution_count": null,
   "metadata": {
    "id": "FEUZurDqThog",
    "outputId": "ae9cd6f5-d649-4809-f9e0-7109d6d3ed65"
   },
   "outputs": [],
   "source": [
    "model = RobertaModel.from_pretrained(\"sanskrit_bert\")\n",
    "\n",
    "model.eval()"
   ]
  },
  {
   "cell_type": "code",
   "execution_count": null,
   "metadata": {
    "id": "8kq2w4WlT_Cd"
   },
   "outputs": [],
   "source": [
    "atokenizer = RobertaTokenizer.from_pretrained(\"sanskrit_bert\")"
   ]
  },
  {
   "cell_type": "code",
   "execution_count": null,
   "metadata": {
    "id": "DUqmjd42UNJp"
   },
   "outputs": [],
   "source": [
    "def get_sen_emb(sen):\n",
    "    try:\n",
    "        enc = atokenizer.encode(sen)\n",
    "        ps = model(torch.tensor(enc).unsqueeze(1))\n",
    "        sentence_embedding = torch.mean(ps[1], dim=0) #mean of all tokens embeddings will be consideres as sentence embedding\n",
    "        s=sentence_embedding.cpu().detach().numpy()\n",
    "        s=s.reshape(s.shape[0])\n",
    "        return(s)\n",
    "\n",
    "    except:\n",
    "        print(1)\n",
    "        if(atokenizer.encode(sen)>500):\n",
    "               print(sen)\n",
    "        \n",
    "        \n",
    "\n",
    "def plot_embd(em_np):\n",
    "    plt.hist(em_np,edgecolor=\"yellow\",bins=20)\n",
    "    plt.show()"
   ]
  },
  {
   "cell_type": "code",
   "execution_count": null,
   "metadata": {
    "id": "5a52AXe-UQLg"
   },
   "outputs": [],
   "source": [
    "s=\"\"\"'ॐ नमो भगवते॑ रुद्राय ॥ नम॑स्ते रुद्र म॒न्यव॑ उ॒तोत॒ इष॑वे॒ नमः॑ । नम॑स्ते अस्तु॒ धन्व॑ने बा॒हुभ्या॑मु॒त ते॒ नमः॑ । या त॒ इषुः॑ शि॒वत॑मा शि॒वं ब॒भूव॑ ते॒ धनुः॑ । शि॒वा श॑र॒व्या॑ या तव॒ तया॑ नो रुद्र मृडय । या ते॑ रुद्र शि॒वा त॒नूरघो॒रा$पा॑पकाशिनी । तया॑ नस्त॒नुवा॒ शन्त॑मया॒ गिरि॑शन्ता॒भिचा॑कशीहि । यामिषुं॑ गिरिशन्त॒ हस्ते॒ बिभ॒र्ष्यस्त॑वे । शि॒वां गि॑रित्र॒ तां कु॑रु॒ मा हिग्ं॑सीः॒ पुरु॑षं॒ जग॑त्। शि॒वेन॒ वच॑सा त्वा॒ गिरि॒शाच्छा॑वदामसि । यथा॑ नः॒ सर्व॒मिज्जग॑दय॒क्ष्मग्ं सु॒मना॒ अस॑त् । अध्य॑वोचदधिव॒क्ता प्र॑थ॒मो दैव्यो॑ भि॒षक् । अहीश्च॒ सर्वां॓ज॒म्भय॒न्त्सर्वा॓श्च यातुधा॒न्यः॑ ।अ॒सौ यस्ता॒म्रो अ॑रु॒ण उ॒त ब॒भ्रुः सु॑म॒ङ्गलः॑ । ये चे॒माग्ं रु॒द्रा अ॒भितो॑ दि॒क्षु श्रि॒ताः स॑हस्र॒शोवैषा॒ग्॒ं॒ हेड॑ ईमहे । अ॒सौ यो॑$वसर्प॑ति॒ नील॑ग्रीवो॒ विलो॑हितः । उ॒तैनं॑ गो॒पा अ॑दृश॒न्-नदृ॑शन्-नुदहा॒र्यः॑ । उ॒तैनं॒ विश्वा॑ भू॒तानि॒ स दृ॒ष्टो मृ॑डयाति नः । नमो॑ अस्तु नील॑ग्रीवाय सहस्रा॒क्षाय॒ मी॒ढुषे॓ । अथो॒ ये अ॑स्य॒ सत्वा॑नो॒$हं तेभ्यो॑$कर॒न्नमः॑ । प्रमुं॑च॒ धन्व॑न॒स्-त्व॒मु॒भयो॒रार्त्नि॑ यो॒र्ज्याम् । याश्च ते॒ हस्त॒ इष॑वः॒ परा॒ ता भ॑गवो वप । अ॒व॒तत्य॒ धनु॒स्त्वग्ं सह॑स्राक्ष॒ शते॑षुधे । नि॒शीर्य॑ श॒ल्यानां॒ मुखा॑ शि॒वो नः॑ सु॒मना॑ भव । विज्यं॒ धनुः॑ कप॒र्दिनो॒ विश॑ल्यो॒ बाण॑वाग्म् उ॒त । अने॑श॒न्-नस्येष॑व आ॒भुर॑स्य निष॒ङ्गथिः॑ ।या ते॑ हे॒तिर्-मी॑डुष्टम॒ हस्ते॑ ब॒भूव॑ ते॒ धनुः॑ । तया॒$स्मान्, वि॒श्वत॒स्-त्वम॑य॒क्ष्मया॒ परि॑ब्भुज । नम॑स्ते अ॒स्त्वायुधा॒याना॑तताय धृ॒ष्णवे॓ । उ॒भाभ्या॑मु॒त ते॒ नमो॑ बा॒हुभ्यां॒ तव॒ धन्व॑ने । परि॑ ते॒ धन्व॑नो हे॒तिर॒स्मान्-वृ॑णक्तु वि॒श्वतः॑ । अथो॒ य इ॑षु॒धिस्तवा॒रे अ॒स्मन्निधे॑हि॒ तम् ॥ 1 ॥नम॑स्ते अस्तु भगवन्-विश्वेश्व॒राय॑ महादे॒वाय॑ त्र्यम्ब॒काय॑ त्रिपुरान्त॒काय॑ त्रिकाग्निका॒लाय॑ कालाग्निरु॒द्राय॑ नील॒कण्ठाय॑ मृत्युञ्ज॒याय॑ सर्वेश्व॑राय॑ सदाशि॒वाय॑ श्रीमन्-महादे॒वाय॒ नमः॑ ॥नमो॒ हिर॑ण्य बाहवे सेना॒न्ये॑ दि॒शां च॒ पत॑ये॒ नमो॒ नमो॑ वृ॒क्षेभ्यो॒ हरि॑केशेभ्यः पशू॒नां पत॑ये॒ नमो॒ नमः॑ स॒स्पिञ्ज॑राय॒ त्विषी॑मते पथी॒नां पत॑ये॒ नमो॒ नमो॑ बभ्लु॒शाय॑ विव्या॒धिने$न्ना॑नां॒ पत॑ये॒ नमो॒ नमो॒ हरि॑केशायोपवी॒तिने॑ पु॒ष्टानां॒ पत॑ये॒ नमो॒ नमो॑ भ॒वस्य॑ हे॒त्यै जग॑तां॒ पत॑ये॒ नमो॒ नमो॑ रु॒द्राया॑तता॒विने॒ क्षेत्रा॑णां॒ पत॑ये॒ नमो॒ नमः॑ सू॒तायाहं॑त्याय॒ वना॑नां॒ पत॑ये॒ नमो॒ नमो॒ रोहि॑ताय स्थ॒पत॑ये वृ॒क्षाणां॒ पत॑ये॒ नमो॒ नमो॑ म॒न्त्रिणे॑ वाणि॒जाय॒ कक्षा॑णां॒ पत॑ये॒ नमो॒ नमो॑ भुव॒न्तये॑ वारिवस्कृ॒ता-यौष॑धीनां॒ पत॑ये॒ नमो॒ नम॑ उ॒च्चैर्-घो॑षायाक्र॒न्दय॑ते पत्ती॒नां पत॑ये॒ नमो॒ नमः॑ कृत्स्नवी॒ताय॒ धाव॑ते॒ सत्त्व॑नां॒ पत॑ये॒ नमः॑ नमः॒ सह॑मानाय निव्या॒धिन॑ आव्या॒धिनी॑नां॒ पत॑ये नमो॒ नमः॑ ककु॒भाय॑ निष॒ङ्गिणे॓ स्ते॒नानां॒ पत॑ये॒ नमो॒ नमो॑ निष॒ङ्गिण॑ इषुधि॒मते॑ तस्क॑राणां॒ पत॑ये॒ नमो॒ नमो॒ वञ्च॑ते परि॒वञ्च॑ते स्तायू॒नां पत॑ये॒ नमो॒ नमो॑ निचे॒रवे॑ परिच॒रायार॑ण्यानां॒ पत॑ये॒ नमो॒ नमः॑ सृका॒विभ्यो॒ जिघाग्ं॑सद्भ्यो मुष्ण॒तां पत॑ये॒ नमो॒ नमो॑$सि॒मद्भ्यो॒ नक्त॒ञ्चर॑द्भ्यः प्रकृ॒न्तानां॒ पत॑ये॒ नमो॒ नम॑ उष्णी॒षिने॑ गिरिच॒राय॑ कुलु॒ञ्चानां॒ पत॑ये॒ नमो॒ नम॒ इषु॑मद्भ्यो धन्वा॒विभ्य॑श्च वो॒ नमो॒ नम॑ आतन्-वा॒नेभ्यः॑ प्रति॒दधा॑नेभ्यश्च वो॒ नमो॒ नम॑ आ॒यच्छ॒॑द्भ्यो विसृ॒जद्-भ्य॑श्च वो॒ नमो॒ नमो$स्स॑द्भ्यो॒ विद्य॑द्-भ्यश्च वो॒ नमो॒ नम॒ आसी॑नेभ्यः॒ शया॑नेभ्यश्च वो॒ नमो॒ नमः॑ स्व॒पद्भ्यो॒ जाग्र॑द्-भ्यश्च वो॒ नमो॒ नम॒स्तिष्ठ॑द्भ्यो॒ धाव॑द्-भ्यश्च वो॒ नमो॒ नमः॑ स॒भाभ्यः॑ स॒भाप॑तिभ्यश्च वो॒ नमो॒ नमो॒ अश्वे॒भ्यो$श्व॑पतिभ्यश्च वो॒ नमः॑नम॑ आव्या॒धिनी॓भ्यो वि॒विध्य॑न्तीभ्यश्च वो॒ नमो॒ नम॒ उग॑णाभ्यस्तृगं-ह॒तीभ्यश्च॑ वो॒ नमो॒ नमो॑ गृ॒त्सेभ्यो॑ गृ॒त्सप॑तिभ्यश्च वो॒ नमो॒ नमो॒ व्राते॓भ्यो॒ व्रात॑पतिभ्यश्च वो॒ नमो॒ नमो॑ ग॒णेभ्यो॑ ग॒णप॑तिभ्यश्च वो॒ नमो॒ नमो॒ विरू॑पेभ्यो वि॒श्वरू॑पेभ्यश्च वो॒ नमो॒ नमो॑ मह॒द्भ्यः॑, क्षुल्ल॒केभ्य॑श्च वो॒ नमो॒ नमो॑ र॒थिभ्यो॒$र॒थेभ्य॑श्च वो॒ नमो॒ नमो॒ रथे॓भ्यो॒ रथ॑पतिभ्यश्च वो॒ नमो॒ नमः॑ सेना॓भ्यः सेना॒निभ्य॑श्च वो॒ नमो॒ नमः॑, क्ष॒त्तृभ्यः॑ सङ्ग्रही॒तृभ्य॑श्च वो॒ नमो॒ नम॒स्तक्ष॑भ्यो रथका॒रेभ्य॑श्च वो॒ नमो॑ नमः॒ कुला॑लेभ्यः क॒र्मारे॓भ्यश्च वो॒ नमो॒ नमः॑ पु॒ञ्जिष्टे॓भ्यो निषा॒देभ्य॑श्च वो॒ नमो॒ नमः॑ इषु॒कृद्भ्यो॑ धन्व॒कृद्-भ्य॑श्च वो॒ नमो॒ नमो॑ मृग॒युभ्यः॑ श्व॒निभ्य॑श्च वो॒ नमो॒ नमः॒ श्वभ्यः॒ श्वप॑तिभ्यश्च वो॒ नमः॑ ॥नमो॑ भ॒वाय॑ च रु॒द्राय॑ च॒ नमः॑ श॒र्वाय॑ च पशु॒पत॑ये च॒ नमो॒ नील॑ग्रीवाय च शिति॒कण्ठा॑य च॒ नमः॑ कप॒र्दिने॑ च॒ व्यु॑प्तकेशाय च॒ नमः॑ सहस्रा॒क्षाय॑ च श॒तध॑न्वने च॒ नमो॑ गिरि॒शाय॑ च शिपिवि॒ष्टाय॑ च॒ नमो॑ मी॒ढुष्ट॑माय॒ चेषु॑मते च॒ नमो᳚ ह्र॒स्वाय॑ च वाम॒नाय॑ च॒ नमो॑ बृह॒ते च॒ वर्षी॑यसे च॒ नमो॑ वृ॒द्धाय॑ च सं॒वृद्व॑ने च॒ नमो॒ अग्रि॑याय च प्रथ॒माय॑ च॒ नम॑ आ॒शवे॑ चाजि॒राय॑ च॒ नमः॒ शीघ्रि॑याय च॒ शीभ्या॑य च॒ नम॑ ऊ॒र्म्या॑य चावस्व॒न्या॑य च॒ नमः॑ स्रोत॒स्या॑य च॒ द्वीप्या॑य च ॥ नम ज्ये॒ष्ठाय॑ च कनि॒ष्ठाय॑ च॒ नमः॑ पूर्व॒जाय॑ चापर॒जाय॑ च॒ नमो॑ मध्य॒माय॑ चापग॒ल्भाय॑ च॒ नमो॑ जघ॒न्या॑य च॒ बुध्नि॑याय च॒ नमः॑ सो॒भ्या॑य च प्रतिस॒र्या॑य च॒ नमो॒ याम्या॑य च॒ क्षेम्या॑य च॒ नम॑ उर्व॒र्या॑य च॒ खल्या॑य च॒ नमः॒ श्लोक्या॑य चाऽवसा॒न्या॑य च॒ नमो॒ वन्या॑य च॒ कक्ष्या॑य च॒ नमः॑ श्र॒वाय॑ च प्रतिश्र॒वाय॑ च॒ नम॑ आ॒शुषे॑णाय चा॒शुर॑थाय च॒ नमः॒ शूरा॑य चावभिन्द॒ते च॒ नमो॑ व॒र्मिणे॑ च वरू॒थिने॑ च॒ नमो॑ बि॒ल्मिने॑ च कव॒चिने॑ च॒ नमः॑ श्रु॒ताय॑ च श्रुतसे॒नाय॑ च ॥नमो॑ दुन्दु॒भ्या॑य चाहन॒न्या॑य च॒ नमो॑ धृ॒ष्णवे॑ च प्रमृ॒शाय॑ च॒ नमो॑ दू॒ताय॑ च॒ प्रहि॑ताय च॒ नमो॑ निष॒ङ्गिणे॑ चेषुधि॒मते॑ च॒ नम॑स्ती॒क्ष्णेष॑वे चायु॒धिने॑ च॒ नमः॑ स्वायु॒धाय॑ च सु॒धन्व॑ने च॒ नमः॒ स्रुत्या॑य च॒ पथ्या॑य च॒ नमः॑ का॒ट्या॑य च नी॒प्या॑य च॒ नमः॒ सूद्या॑य च सर॒स्या॑य च॒ नमो॑ ना॒द्याय॑ च वैश॒न्ताय॑ च॒ नमः॒ कूप्या॑य चाव॒ट्या॑य च॒ नमो॒ वर्ष्या॑य चाव॒र्ष्याय॑ च॒ नमो॑ मे॒घ्या॑य च विद्यु॒त्या॑य च॒ नम॑ ई॒ध्रिया॑य चात॒प्या॑य च॒ नमो॒ वात्या॑य च॒ रेष्मि॑याय च॒ नमो॑ वास्त॒व्या॑य च वास्तु॒पाय॑ च ॥नमः॒ सोमा॑य च रु॒द्राय॑ च॒ नम॑स्ता॒म्राय॑ चारु॒णाय॑ च॒ नमः॑ श॒ङ्गाय॑ च पशु॒पत॑ये च॒ नम॑ उ॒ग्राय॑ च भी॒माय॑ च॒ नमो॑ अग्रेव॒धाय॑ च दूरेव॒धाय॑ च॒ नमो॑ ह॒न्त्रे च॒ हनी॑यसे च॒ नमो॑ वृ॒क्षेभ्यो॒ हरि॑केशेभ्यो॒ नम॑स्ता॒राय॒ नम॑श्शं॒भवे॑ च मयो॒भवे॑ च॒ नमः॑ शंक॒राय॑ च मयस्क॒राय॑ च॒ नमः॑ शि॒वाय॑ च शि॒वत॑राय च॒ नम॒स्तीर्थ्या॑य च॒ कूल्या॑य च॒ नमः॑ पा॒र्या॑य चावा॒र्या॑य च॒ नमः॑ प्र॒तर॑णाय चो॒त्तर॑णाय च॒ नम॑ आता॒र्या॑य चाला॒द्या॑य च॒ नमः॒ शष्प्या॑य च॒ फेन्या॑य च॒ नमः॑ सिक॒त्या॑य च प्रवा॒ह्या॑य च ॥ नम॑ इरि॒ण्या॑य च प्रप॒थ्या॑य च॒ नमः॑ किꣳशि॒लाय च॒ क्षय॑णाय च॒ नमः॑ कप॒र्दिने॑ च पुल॒स्तये॑ च॒ नमो॒ गोष्ठ्या॑य च॒ गृह्या॑य च॒ नम॒स्तल्प्या॑य च॒ गेह्या॑य च॒ नमः॑ का॒ट्या॑य च गह्वरे॒ष्ठाय॑ च॒ नमो᳚ ह्रद॒य्या॑य च निवे॒ष्प्या॑य च॒ नमः॑ पाꣳस॒व्या॑य च रज॒स्या॑य च॒ नमः॒ शुष्क्या॑य च हरि॒त्या॑य च॒ नमो॒ लोप्या॑य चोल॒प्या॑य च॒ नम॑ ऊ॒र्व्या॑य च सू॒र्म्या॑य च॒ नमः॑ प॒र्ण्या॑य च पर्णश॒द्या॑य च॒ नमो॑ऽपगु॒रमा॑णाय चाभिघ्न॒ते च॒ नम॑ आख्खिद॒ते च॑ प्रख्खिद॒ते च॒ नमो॑ वः किरि॒केभ्यो॑ दे॒वाना॒ꣳ॒ हृद॑येभ्यो॒ नमो॑ विक्षीण॒केभ्यो॒ नमो॑ विचिन्व॒त्केभ्यो॒ नम॑ आनिर्ह॒तेभ्यो॒ नम॑ आमीव॒त्केभ्यः॑ ॥द्रापे॒ अन्ध॑सस्पते॒ दरि॑द्र॒न्नील॑लोहित । ए॒षां पुरु॑षाणामे॒षां प॑शू॒नां मा भेर्माऽरो॒ मो ए॑षां॒ किंच॒नाम॑मत् । या ते॑ रुद्र शि॒वा त॒नूः शि॒वा वि॒श्वाह॑ भेषजी । शि॒वा रु॒द्रस्य॑ भेष॒जी तया॑ नो मृड जी॒वसे᳚ । इ॒माꣳ रु॒द्राय॑ त॒वसे॑ कप॒र्दिने᳚ क्ष॒यद्वी॑राय॒ प्रभ॑रामहे म॒तिम् ॥ यथा॑ नः॒ शमस॑द्द्वि॒पदे॒ चतु॑ष्पदे॒ विश्वं॑ पु॒ष्टं ग्रामे॑ अ॒स्मिन्नना॑तुरम् । मृ॒डा नो॑ रुद्रो॒त नो॒ मय॑स्कृधि क्ष॒यद्वी॑राय॒ नम॑सा विधेम ते । यच्छं च॒ योश्च॒ मनु॑राय॒जे पि॒ता तद॑श्याम॒ तव॑ रुद्र॒ प्रणी॑तौ । मा नो॑ म॒हान्त॑मु॒त मा नो॑ अर्भ॒कं मा न॒ उक्ष॑न्त-मु॒त मा न॑ उक्षि॒तम् । मा नो॑ऽवधीः पि॒तरं॒ मोत मा॒तरं॑ प्रि॒या मा न॑स्त॒नुवो॑ रुद्र रीरिषः । मान॑स्तो॒के तन॑ये॒ मा न॒ आयु॑षि॒ मा नो॒ गोषु॒ मा नो॒ अश्वे॑षु रीरिषः । वी॒रान्मा नो॑ रुद्र भामि॒तोऽव॑धी-र्ह॒विष्म॑न्तो॒ नम॑सा विधेम ते ॥आ॒रात्ते॑ गो॒घ्न उ॒त पू॑रुष॒घ्ने क्ष॒यद्वी॑राय सु॒म्नम॒स्मे ते॑ अस्तु । रक्षा॑ च नो॒ अधि॑ च देव ब्रू॒ह्यधा॑ च नः॒ शर्म॑ यच्छ द्वि॒बर्हाः᳚ ॥ स्तु॒हि श्रु॒तं ग॑र्त॒सदं॒ युवा॑नं मृ॒गन्न भी॒म-मु॑पह॒त्नुमु॒ग्रम् । मृ॒डा ज॑रि॒त्रे रु॑द्र॒ स्तवा॑नो अ॒न्यन्ते॑ अ॒स्मन्निव॑पन्तु॒ सेनाः᳚ ॥ परि॑णो रु॒द्रस्य॑ हे॒तिर्वृ॑णक्तु॒ परि॑ त्वे॒षस्य॑ दुर्म॒तिर॑घा॒योः । अव॑ स्थि॒रा म॒घव॑द्भ्यस्तनुष्व॒ मीढ्व॑स्तो॒काय॒ तन॑याय मृउडय ॥ मीढु॑ष्टम॒ शिव॑तम शि॒वो नः॑ सु॒मना॑ भव । प॒र॒मे वृ॒क्ष आयु॑धन्नि॒धाय॒ कृत्तिं॒ वसा॑न॒ आच॑र॒ पिना॑कं॒ बिभ्र॒दाग॑हि ॥ विकि॑रिद॒ विलो॑हित॒ नम॑स्ते अस्तु भगवः । यास्ते॑ स॒हस्रꣳ॑ हे॒तयो॒न्यम॒स्मन्निव॑पन्तु॒ ताः ॥ स॒हस्रा॑णि सहस्र॒धा बा॑हु॒वोस्तव॑ हे॒तयः॑ । तासा॒मीशा॑नो भगवः परा॒चीना॒ मुखा॑ कृधि ॥स॒हस्रा॑णि सहस्र॒शो ये रु॒द्रा अधि॒ भूम्या᳚म् । तेषाꣳ॑ सहस्रयोज॒नेऽव॒धन्वा॑नि तन्मसि ॥ अ॒स्मिन् म॑ह॒त्य॑र्ण॒वे᳚ऽन्तरि॑क्षे भ॒वा अधि॑ ॥ नील॑ग्रीवाः शिति॒कण्ठाः᳚ श॒र्वा अ॒धः क्ष॑माच॒राः ॥ नील॑ग्रीवाः शिति॒कण्ठा॒ दिवꣳ॑ रु॒द्रा उप॑श्रिताः ॥ ये वृ॒क्षेषु॑ स॒स्पिंज॑रा॒ नील॑ग्रीवा॒ विलो॑हिताः ॥ ये भू॒ताना॒मधि॑पतयो विशि॒खासः॑ कप॒र्दिनः॑ ॥ ये अन्ने॑षु वि॒विध्य॑न्ति॒ पात्रे॑षु॒ पिब॑तो॒ जनान्॑ ॥ ये प॒थां प॑थि॒रक्ष॑य ऐलबृ॒दा य॒व्युधः॑ ॥ ये ती॒र्थानि॑ प्र॒चर॑न्ति सृ॒काव॑न्तो निष॒ङ्गिणः॑ ॥ य ए॒ताव॑न्तश्च॒ भूयाꣳ॑सश्च॒ दिशो॑ रु॒द्रा वि॑तस्थि॒रे । तेषाꣳ॑ सहस्र-योज॒नेऽव॒धन्वा॑नि तन्मसि ॥ नमो॑ रु॒द्रेभ्यो॒ ये पृ॑थि॒व्यां ऽन्तरि॑क्षे॒ ये दि॒वि येषा॒मन्नं॒ वातो॑ व॒र्षमिष॑व॒स्तेभ्यो॒ दश॒ प्राची॒र्दश॑ दक्षि॒णा दश॑ प्र॒तीची॒र्दशोदी॑चीर्दशो॒र्ध्वास्तेभ्यो॒ नम॒स्ते नो॑ मृडयन्तु॒ ते यं द्वि॒ष्मो यश्च॑ नो॒ द्वेष्टि॒ तं वो॒ जम्भे॑ दधामि ॥'\"\"\"\n"
   ]
  },
  {
   "cell_type": "code",
   "execution_count": null,
   "metadata": {
    "id": "6d3n9qxfUTER",
    "outputId": "911957e4-194f-4c03-a8dd-4d56b8428ef1"
   },
   "outputs": [],
   "source": [
    "li = s.split(\"।\")[0:-1]\n",
    "\n",
    "li = [i+\"।\" for i in li] \n",
    "\n",
    "li =[re.sub(\"\\n\",\"\",i) for i in li]\n",
    "\n",
    "print(len(li))"
   ]
  },
  {
   "cell_type": "code",
   "execution_count": null,
   "metadata": {
    "id": "FNeHT1kEUV3S",
    "outputId": "16bc5a57-8e39-4a78-aee7-002a8e7665c3"
   },
   "outputs": [],
   "source": [
    "emb_li=[]\n",
    "\n",
    "for i in li:\n",
    "    emb_li.append(get_sen_emb(i))\n",
    "\n",
    "print(emb_li[0].shape)"
   ]
  },
  {
   "cell_type": "code",
   "execution_count": null,
   "metadata": {
    "id": "D0gz3Ve_UdHZ"
   },
   "outputs": [],
   "source": [
    "import numpy as np\n",
    "from numpy import dot\n",
    "from numpy.linalg import norm"
   ]
  },
  {
   "cell_type": "code",
   "execution_count": null,
   "metadata": {
    "id": "h-uCJ9TkUZS6"
   },
   "outputs": [],
   "source": [
    "t=np.array(emb_li)"
   ]
  },
  {
   "cell_type": "code",
   "execution_count": null,
   "metadata": {
    "id": "MHonkEkOUoze"
   },
   "outputs": [],
   "source": [
    "from sklearn.decomposition import PCA\n",
    "from sklearn.cluster import KMeans"
   ]
  },
  {
   "cell_type": "code",
   "execution_count": null,
   "metadata": {
    "id": "vcsQqmbkUjiY",
    "outputId": "e04e160b-0b40-4ad7-c7de-ccdfc802c42b"
   },
   "outputs": [],
   "source": [
    "\n",
    "pca_dim = PCA(n_components=10)\n",
    "p_dims = pca_dim.fit_transform(t)\n",
    "pc_kmeans = KMeans(n_clusters=2)\n",
    "pc_kmeans.fit(p_dims)"
   ]
  },
  {
   "cell_type": "code",
   "execution_count": null,
   "metadata": {
    "id": "Xmi-6gHMUkFC",
    "outputId": "c5abc641-5cf3-4d68-a14c-f76f6f70a65d"
   },
   "outputs": [],
   "source": [
    "pc_lab =pc_kmeans.labels_\n",
    "print(pc_lab,\"\\n\")"
   ]
  },
  {
   "cell_type": "code",
   "execution_count": null,
   "metadata": {
    "id": "89OPlHOkU4Lk"
   },
   "outputs": [],
   "source": [
    "pc_cen = pc_kmeans.cluster_centers_"
   ]
  },
  {
   "cell_type": "code",
   "execution_count": null,
   "metadata": {
    "id": "mhpqrHL-U-Zl"
   },
   "outputs": [],
   "source": [
    "clus,count = {},0\n",
    "for i in range(len(t)):\n",
    "    if (pc_lab[i] == 0):\n",
    "        clus[count]= (dot(pc_cen[0], p_dims[i])/(norm(pc_cen[0])*norm(p_dims[i])))\n",
    "    elif(pc_lab[i] ==1):\n",
    "        clus[count] = (dot(pc_cen[1], p_dims[i])/(norm(pc_cen[1])*norm(p_dims[i])))\n",
    "    count+=1   "
   ]
  },
  {
   "cell_type": "code",
   "execution_count": null,
   "metadata": {
    "id": "-0IRU00sVNlD",
    "outputId": "22ae58a9-3260-44b2-9016-fedafdf9a76f"
   },
   "outputs": [],
   "source": [
    "clus"
   ]
  },
  {
   "cell_type": "code",
   "execution_count": null,
   "metadata": {
    "id": "35EiNKk_VRn2"
   },
   "outputs": [],
   "source": [
    "a=sorted(clus.items(), key = lambda kv:[kv[1], kv[0]])"
   ]
  },
  {
   "cell_type": "code",
   "execution_count": null,
   "metadata": {
    "id": "lC_TfvjiVTQs"
   },
   "outputs": [],
   "source": [
    "top_sen =[]\n",
    "for i in range(7):\n",
    "    top_sen.append(a[i][0])"
   ]
  },
  {
   "cell_type": "code",
   "execution_count": null,
   "metadata": {
    "id": "kF9M0QrDVU8A"
   },
   "outputs": [],
   "source": [
    "to =top_sen.sort()"
   ]
  },
  {
   "cell_type": "code",
   "execution_count": null,
   "metadata": {
    "id": "FMMoC8gLVVlY"
   },
   "outputs": [],
   "source": [
    "to = sorted(top_sen)"
   ]
  },
  {
   "cell_type": "code",
   "execution_count": null,
   "metadata": {
    "id": "5_ZC8U0fVYfc",
    "outputId": "c4737708-0b1b-4991-c1d5-0006665c69ab"
   },
   "outputs": [],
   "source": [
    "to"
   ]
  },
  {
   "cell_type": "code",
   "execution_count": null,
   "metadata": {
    "id": "QxSPhPyqVajU",
    "outputId": "ceee0dbd-47c1-48e2-8f63-c8ca6870d9c6"
   },
   "outputs": [],
   "source": [
    "for  i in to:\n",
    "    print(li[i])"
   ]
  },
  {
   "cell_type": "code",
   "execution_count": null,
   "metadata": {
    "id": "qKmcOSfzVXLe",
    "outputId": "a87ec39f-fec8-4506-84aa-da1a23023c19"
   },
   "outputs": [],
   "source": [
    "import shutil\n",
    "shutil.make_archive('/content/sanskrit_Robert1', 'zip', '/content/sanskrit_bert')"
   ]
  },
  {
   "cell_type": "markdown",
   "metadata": {
    "id": "FOzKHw_wM_M7"
   },
   "source": [
    "## Training the model"
   ]
  },
  {
   "cell_type": "code",
   "execution_count": null,
   "metadata": {
    "id": "7QhVKMAIXT5T",
    "outputId": "c716ac45-0835-4a65-8690-aa530b8dc774"
   },
   "outputs": [],
   "source": [
    "type(model)"
   ]
  },
  {
   "cell_type": "code",
   "execution_count": null,
   "metadata": {
    "id": "X8vfxfWBX0B-",
    "outputId": "772ffdb1-32a8-4a89-f285-e5ec6483f20b"
   },
   "outputs": [],
   "source": [
    "a=tokenizer.encode(\"पतत्र श्रीरामंमन पहिता\")\n",
    "model.extract_features(a)"
   ]
  },
  {
   "cell_type": "code",
   "execution_count": null,
   "metadata": {
    "id": "Jtop2kpIYI6I",
    "outputId": "5a74482d-3966-4d45-8787-a18219d2eb21"
   },
   "outputs": [],
   "source": [
    "model(a)"
   ]
  },
  {
   "cell_type": "code",
   "execution_count": null,
   "metadata": {
    "id": "l4rLT1iOZyLz",
    "outputId": "4f93a11a-50b8-43e1-fd24-3dce1d7f57de"
   },
   "outputs": [],
   "source": [
    "\n",
    "emb = pipeline('feature-extraction', model='sanskrit_bert', tokenizer='sanskrit_bert')"
   ]
  },
  {
   "cell_type": "code",
   "execution_count": null,
   "metadata": {
    "id": "n37pGviNdKK7"
   },
   "outputs": [],
   "source": [
    "te = (emb(\"भारतदेशः\"))"
   ]
  },
  {
   "cell_type": "code",
   "execution_count": null,
   "metadata": {
    "id": "pzksdPF6eUF4",
    "outputId": "1853c1e2-0cd0-47ff-9c6e-1580d79f2cfe"
   },
   "outputs": [],
   "source": [
    "print(emb(\"तत्र न\"))"
   ]
  },
  {
   "cell_type": "code",
   "execution_count": null,
   "metadata": {
    "id": "csk-hn5Nea5a",
    "outputId": "13ef90f8-633d-417d-9f1a-12af78b998bd"
   },
   "outputs": [],
   "source": [
    "type(te)"
   ]
  },
  {
   "cell_type": "code",
   "execution_count": null,
   "metadata": {
    "id": "mrUSTGr7eqnl",
    "outputId": "1e3c61b3-9a05-4821-9660-40b8e28542db"
   },
   "outputs": [],
   "source": [
    "len(te[0])"
   ]
  },
  {
   "cell_type": "code",
   "execution_count": null,
   "metadata": {
    "id": "eDHPn5VsetXs",
    "outputId": "79db0c3d-2906-43de-85ca-3363f02d89d9"
   },
   "outputs": [],
   "source": [
    "te"
   ]
  },
  {
   "cell_type": "code",
   "execution_count": null,
   "metadata": {
    "id": "cR565UuCfJjx",
    "outputId": "1d58bbac-566e-430d-f01f-9cdd20599469"
   },
   "outputs": [],
   "source": [
    "\n",
    "sm = pipeline('summarization', model='sanskrit_bert', tokenizer='sanskrit_bert')"
   ]
  },
  {
   "cell_type": "code",
   "execution_count": null,
   "metadata": {
    "id": "oj0Aa7vRgPwL",
    "outputId": "38621b0b-4d25-43ce-e2f7-1e4aab9f84b9"
   },
   "outputs": [],
   "source": [
    "!pip install sentence-transformers"
   ]
  },
  {
   "cell_type": "code",
   "execution_count": null,
   "metadata": {
    "id": "SnjhEsWpgvnS"
   },
   "outputs": [],
   "source": [
    "from sentence_transformers import SentenceTransformer"
   ]
  },
  {
   "cell_type": "code",
   "execution_count": null,
   "metadata": {
    "id": "c3sDYEXwgzoS",
    "outputId": "6e3f43b8-f23e-4bd2-e6b7-972f7ff9de4b"
   },
   "outputs": [],
   "source": [
    "model_st = SentenceTransformer(sanskrit_bert)\n",
    "ems = model_st.encode(\"श्रीधरस्वामी कर्णाटकस्य शिवमोग्गमण्डलस्य सागरजनपदस्य स्मीपे वरदपुरम्\")\n",
    "print(ems)"
   ]
  },
  {
   "cell_type": "code",
   "execution_count": null,
   "metadata": {
    "id": "eUW6Wr9UhNbE"
   },
   "outputs": [],
   "source": [
    "model.encode"
   ]
  }
 ],
 "metadata": {
  "kernelspec": {
   "display_name": "Python 3",
   "language": "python",
   "name": "python3"
  },
  "language_info": {
   "codemirror_mode": {
    "name": "ipython",
    "version": 3
   },
   "file_extension": ".py",
   "mimetype": "text/x-python",
   "name": "python",
   "nbconvert_exporter": "python",
   "pygments_lexer": "ipython3",
   "version": "3.7.6"
  }
 },
 "nbformat": 4,
 "nbformat_minor": 4
}
