{
 "cells": [
  {
   "cell_type": "code",
   "execution_count": 1,
   "id": "7817e388",
   "metadata": {},
   "outputs": [],
   "source": [
    "import torch\n",
    "import numpy as np\n",
    "import matplotlib.pyplot as plt\n",
    "from sklearn.cluster import KMeans\n",
    "import re\n",
    "from sklearn.decomposition import PCA"
   ]
  },
  {
   "cell_type": "code",
   "execution_count": 2,
   "id": "e6fb83ac",
   "metadata": {},
   "outputs": [
    {
     "name": "stderr",
     "output_type": "stream",
     "text": [
      "2022-04-24 10:45:18.648894: W tensorflow/stream_executor/platform/default/dso_loader.cc:64] Could not load dynamic library 'libcudart.so.11.0'; dlerror: libcudart.so.11.0: cannot open shared object file: No such file or directory\n",
      "2022-04-24 10:45:18.648913: I tensorflow/stream_executor/cuda/cudart_stub.cc:29] Ignore above cudart dlerror if you do not have a GPU set up on your machine.\n",
      "Some weights of the model checkpoint at sanskrit_albert were not used when initializing AlbertModel: ['predictions.dense.weight', 'predictions.dense.bias', 'predictions.LayerNorm.bias', 'predictions.bias', 'predictions.decoder.weight', 'predictions.LayerNorm.weight', 'predictions.decoder.bias']\n",
      "- This IS expected if you are initializing AlbertModel from the checkpoint of a model trained on another task or with another architecture (e.g. initializing a BertForSequenceClassification model from a BertForPreTraining model).\n",
      "- This IS NOT expected if you are initializing AlbertModel from the checkpoint of a model that you expect to be exactly identical (initializing a BertForSequenceClassification model from a BertForSequenceClassification model).\n",
      "Some weights of AlbertModel were not initialized from the model checkpoint at sanskrit_albert and are newly initialized: ['albert.pooler.bias', 'albert.pooler.weight']\n",
      "You should probably TRAIN this model on a down-stream task to be able to use it for predictions and inference.\n"
     ]
    }
   ],
   "source": [
    "from transformers import *\n",
    "\n",
    "model = AlbertModel.from_pretrained(\"sanskrit_albert\")"
   ]
  },
  {
   "cell_type": "code",
   "execution_count": 3,
   "id": "63c9db8b",
   "metadata": {
    "scrolled": true
   },
   "outputs": [
    {
     "data": {
      "text/plain": [
       "AlbertModel(\n",
       "  (embeddings): AlbertEmbeddings(\n",
       "    (word_embeddings): Embedding(32001, 128, padding_idx=0)\n",
       "    (position_embeddings): Embedding(514, 128)\n",
       "    (token_type_embeddings): Embedding(1, 128)\n",
       "    (LayerNorm): LayerNorm((128,), eps=1e-05, elementwise_affine=True)\n",
       "    (dropout): Dropout(p=0.1, inplace=False)\n",
       "  )\n",
       "  (encoder): AlbertTransformer(\n",
       "    (embedding_hidden_mapping_in): Linear(in_features=128, out_features=768, bias=True)\n",
       "    (albert_layer_groups): ModuleList(\n",
       "      (0): AlbertLayerGroup(\n",
       "        (albert_layers): ModuleList(\n",
       "          (0): AlbertLayer(\n",
       "            (full_layer_layer_norm): LayerNorm((768,), eps=1e-05, elementwise_affine=True)\n",
       "            (attention): AlbertAttention(\n",
       "              (query): Linear(in_features=768, out_features=768, bias=True)\n",
       "              (key): Linear(in_features=768, out_features=768, bias=True)\n",
       "              (value): Linear(in_features=768, out_features=768, bias=True)\n",
       "              (attention_dropout): Dropout(p=0.1, inplace=False)\n",
       "              (output_dropout): Dropout(p=0.1, inplace=False)\n",
       "              (dense): Linear(in_features=768, out_features=768, bias=True)\n",
       "              (LayerNorm): LayerNorm((768,), eps=1e-05, elementwise_affine=True)\n",
       "            )\n",
       "            (ffn): Linear(in_features=768, out_features=3072, bias=True)\n",
       "            (ffn_output): Linear(in_features=3072, out_features=768, bias=True)\n",
       "            (dropout): Dropout(p=0.1, inplace=False)\n",
       "          )\n",
       "        )\n",
       "      )\n",
       "    )\n",
       "  )\n",
       "  (pooler): Linear(in_features=768, out_features=768, bias=True)\n",
       "  (pooler_activation): Tanh()\n",
       ")"
      ]
     },
     "execution_count": 3,
     "metadata": {},
     "output_type": "execute_result"
    }
   ],
   "source": [
    "model.eval()"
   ]
  },
  {
   "cell_type": "code",
   "execution_count": 4,
   "id": "112bbc5a",
   "metadata": {},
   "outputs": [],
   "source": [
    "atokenizer = AlbertTokenizer.from_pretrained(\"sanskrit_albert\")"
   ]
  },
  {
   "cell_type": "code",
   "execution_count": 5,
   "id": "e300470e",
   "metadata": {},
   "outputs": [],
   "source": [
    "def get_sen_emb(sen):\n",
    "    enc = atokenizer.encode(sen)\n",
    "    ps = model(torch.tensor(enc).unsqueeze(1))\n",
    "    sentence_embedding = torch.mean(ps[1], dim=0) #mean of all tokens embeddings will be consideres as sentence embedding\n",
    "    s=sentence_embedding.cpu().detach().numpy()\n",
    "    s=s.reshape(s.shape[0])\n",
    "    return(s)"
   ]
  },
  {
   "cell_type": "code",
   "execution_count": 6,
   "id": "f0c39f46",
   "metadata": {},
   "outputs": [],
   "source": [
    "def plot_embd(em_np):\n",
    "    plt.hist(em_np,edgecolor=\"yellow\",bins=20)\n",
    "    plt.show()\n",
    "    "
   ]
  },
  {
   "cell_type": "code",
   "execution_count": 7,
   "id": "18d8acac",
   "metadata": {},
   "outputs": [
    {
     "name": "stdout",
     "output_type": "stream",
     "text": [
      "(768,)\n"
     ]
    }
   ],
   "source": [
    "s1=get_sen_emb(\"अपि स्वर्णमयी लङ्का न मे लक्ष्मण रोचते । जननी जन्मभूमिश्च स्वर्गादपि गरीयसी ॥\")\n",
    "print(s1.shape)\n",
    "#print(s1)"
   ]
  },
  {
   "cell_type": "code",
   "execution_count": 8,
   "id": "4b4a6491",
   "metadata": {},
   "outputs": [
    {
     "data": {
      "image/png": "[encoded data removed]",
      "text/plain": [
       "<Figure size 432x288 with 1 Axes>"
      ]
     },
     "metadata": {
      "needs_background": "light"
     },
     "output_type": "display_data"
    }
   ],
   "source": [
    "plot_embd(s1)"
   ]
  },
  {
   "cell_type": "code",
   "execution_count": 9,
   "id": "d5820cdb",
   "metadata": {},
   "outputs": [],
   "source": [
    "s= \"\"\"तावदेव राजा सिंहरथः केवलम् अध्यापने एव पुरुषार्थं कर्तुं विचारयति स्म । सः राजप्रासादे निवसन् अपि साधुः इव जीवति स्म । अवसरं प्राप्य तेन स्वस्मै अधिकारिणे राज्यस्य दायित्वं प्रदत्तम् आसीत् । अनन्तरं विमलवाहनात् तेन दीक्षा अङ्गीकृता । दीक्षानन्तरं सः आत्मशुद्धौ एव स्वस्य सम्पूर्णं जीवनं योजितवान् । घोरतपस्यां कृत्वा तेन तीर्थङ्करगोत्रस्य बन्धनं कृतम् आसीत् । अन्ते भगवान् धर्मनाथः आराधकपदं प्राप्य स्वर्गलोकं गतवान् आसीत् ।\n",
    "भगवतः धर्मनाथस्य जन्मनः एकादशदिनानाम् अवसाने राज्ञा भानुना नामकरणसंस्कारविधिः आयोजितः । तस्मिन् दिने जनैः उत्सवः अपि आचरितः आसीत् । स्वर्गलोकात् अपि बहवः देवाः समागताः । लोकान्तिकदेवैः चापि उत्सवम् आचरितम् आसीत् । उत्सवे तेषां देवानाम् उपस्थितिः आवश्यकी वर्तते । राज्यस्य नागरिकाः अपि प्रसन्नाः आसन् ।\n",
    "नामकरणोत्सवे बालकस्य नामकरणं क्रियते । अतः राजा नामकरणाय देवतानां, जनानां च परामर्शं पृष्टवान् । सुव्रता बालकं नीत्वा आयोजितं स्थलं प्राप्तवती । बालकं दृष्ट्वा जनाः स्तब्धाः अभवन् । बालकस्य शरीरे महत्तेजः दृश्यते स्म । नामकरणाय सर्वैः स्वमतानि प्रदत्तानि आसन् ।\n",
    "गर्भकालस्य घटनां विचार्य राज्ञा स्वस्य विचारः उक्तः यत् – “गर्भकालसमये सुव्रतायाः मनसि धार्मिकविचाराः आगताः । तस्याः मनसि धार्मिकोपासनां कर्तुम् इच्छा उद्भूता । तया प्रयत्नपूर्वकम् उपासना कृता । अतः अस्य बालकस्य नाम धर्मकुमारः इति करणीयम् । सर्वैः जनैः, देवैः च समर्थनं प्रदत्तम् । ततः आरभ्य एषः धर्मनाथः इति नाम्ना ख्यातः अस्ति ।\"\"\""
   ]
  },
  {
   "cell_type": "code",
   "execution_count": 10,
   "id": "21d8c179",
   "metadata": {},
   "outputs": [],
   "source": [
    "li = s.split(\"।\")[0:-1]"
   ]
  },
  {
   "cell_type": "code",
   "execution_count": 11,
   "id": "626c9069",
   "metadata": {},
   "outputs": [],
   "source": [
    "li = [i+\"।\" for i in li] "
   ]
  },
  {
   "cell_type": "code",
   "execution_count": 12,
   "id": "61201298",
   "metadata": {},
   "outputs": [],
   "source": [
    "li =[re.sub(\"\\n\",\"\",i) for i in li]"
   ]
  },
  {
   "cell_type": "code",
   "execution_count": 13,
   "id": "09dee458",
   "metadata": {},
   "outputs": [
    {
     "name": "stdout",
     "output_type": "stream",
     "text": [
      "25\n"
     ]
    }
   ],
   "source": [
    "print(len(li))"
   ]
  },
  {
   "cell_type": "markdown",
   "id": "aa0ab711",
   "metadata": {},
   "source": [
    "#### embeddings of all sentences"
   ]
  },
  {
   "cell_type": "code",
   "execution_count": 14,
   "id": "06fba63b",
   "metadata": {},
   "outputs": [],
   "source": [
    "emb_li=[]"
   ]
  },
  {
   "cell_type": "code",
   "execution_count": 15,
   "id": "bb8afeba",
   "metadata": {},
   "outputs": [],
   "source": [
    "for i in li:\n",
    "    emb_li.append(get_sen_emb(i))"
   ]
  },
  {
   "cell_type": "code",
   "execution_count": 16,
   "id": "d6a625da",
   "metadata": {},
   "outputs": [
    {
     "name": "stdout",
     "output_type": "stream",
     "text": [
      "(768,)\n"
     ]
    }
   ],
   "source": [
    "print(emb_li[24].shape)"
   ]
  },
  {
   "cell_type": "code",
   "execution_count": 17,
   "id": "bc82d755",
   "metadata": {},
   "outputs": [
    {
     "data": {
      "text/plain": [
       "numpy.ndarray"
      ]
     },
     "execution_count": 17,
     "metadata": {},
     "output_type": "execute_result"
    }
   ],
   "source": [
    "type(emb_li[0])"
   ]
  },
  {
   "cell_type": "code",
   "execution_count": 18,
   "id": "7c18771d",
   "metadata": {},
   "outputs": [
    {
     "data": {
      "image/png": "[encoded data removed]",
      "text/plain": [
       "<Figure size 432x288 with 1 Axes>"
      ]
     },
     "metadata": {
      "needs_background": "light"
     },
     "output_type": "display_data"
    },
    {
     "data": {
      "image/png": "[encoded data removed]",
      "text/plain": [
       "<Figure size 432x288 with 1 Axes>"
      ]
     },
     "metadata": {
      "needs_background": "light"
     },
     "output_type": "display_data"
    },
    {
     "data": {
      "image/png": "[encoded data removed]",
      "text/plain": [
       "<Figure size 432x288 with 1 Axes>"
      ]
     },
     "metadata": {
      "needs_background": "light"
     },
     "output_type": "display_data"
    },
    {
     "data": {
      "image/png": "[encoded data removed]",
      "text/plain": [
       "<Figure size 432x288 with 1 Axes>"
      ]
     },
     "metadata": {
      "needs_background": "light"
     },
     "output_type": "display_data"
    },
    {
     "data": {
      "image/png": "[encoded data removed]",
      "text/plain": [
       "<Figure size 432x288 with 1 Axes>"
      ]
     },
     "metadata": {
      "needs_background": "light"
     },
     "output_type": "display_data"
    },
    {
     "data": {
      "image/png": "[encoded data removed]",
      "text/plain": [
       "<Figure size 432x288 with 1 Axes>"
      ]
     },
     "metadata": {
      "needs_background": "light"
     },
     "output_type": "display_data"
    },
    {
     "data": {
      "image/png": "[encoded data removed]",
      "text/plain": [
       "<Figure size 432x288 with 1 Axes>"
      ]
     },
     "metadata": {
      "needs_background": "light"
     },
     "output_type": "display_data"
    },
    {
     "data": {
      "image/png": "[encoded data removed]",
      "text/plain": [
       "<Figure size 432x288 with 1 Axes>"
      ]
     },
     "metadata": {
      "needs_background": "light"
     },
     "output_type": "display_data"
    },
    {
     "data": {
      "image/png": "[encoded data removed]",
      "text/plain": [
       "<Figure size 432x288 with 1 Axes>"
      ]
     },
     "metadata": {
      "needs_background": "light"
     },
     "output_type": "display_data"
    },
    {
     "data": {
      "image/png": "[encoded data removed]",
      "text/plain": [
       "<Figure size 432x288 with 1 Axes>"
      ]
     },
     "metadata": {
      "needs_background": "light"
     },
     "output_type": "display_data"
    },
    {
     "data": {
      "image/png": "[encoded data removed]",
      "text/plain": [
       "<Figure size 432x288 with 1 Axes>"
      ]
     },
     "metadata": {
      "needs_background": "light"
     },
     "output_type": "display_data"
    },
    {
     "data": {
      "image/png": "[encoded data removed]",
      "text/plain": [
       "<Figure size 432x288 with 1 Axes>"
      ]
     },
     "metadata": {
      "needs_background": "light"
     },
     "output_type": "display_data"
    },
    {
     "data": {
      "image/png": "[encoded data removed]",
      "text/plain": [
       "<Figure size 432x288 with 1 Axes>"
      ]
     },
     "metadata": {
      "needs_background": "light"
     },
     "output_type": "display_data"
    },
    {
     "data": {
      "image/png": "[encoded data removed]",
      "text/plain": [
       "<Figure size 432x288 with 1 Axes>"
      ]
     },
     "metadata": {
      "needs_background": "light"
     },
     "output_type": "display_data"
    },
    {
     "data": {
      "image/png": "[encoded data removed]",
      "text/plain": [
       "<Figure size 432x288 with 1 Axes>"
      ]
     },
     "metadata": {
      "needs_background": "light"
     },
     "output_type": "display_data"
    },
    {
     "data": {
      "image/png": "[encoded data removed]",
      "text/plain": [
       "<Figure size 432x288 with 1 Axes>"
      ]
     },
     "metadata": {
      "needs_background": "light"
     },
     "output_type": "display_data"
    },
    {
     "data": {
      "image/png": "[encoded data removed]",
      "text/plain": [
       "<Figure size 432x288 with 1 Axes>"
      ]
     },
     "metadata": {
      "needs_background": "light"
     },
     "output_type": "display_data"
    },
    {
     "data": {
      "image/png": "[encoded data removed]",
      "text/plain": [
       "<Figure size 432x288 with 1 Axes>"
      ]
     },
     "metadata": {
      "needs_background": "light"
     },
     "output_type": "display_data"
    },
    {
     "data": {
      "image/png": "[encoded data removed]",
      "text/plain": [
       "<Figure size 432x288 with 1 Axes>"
      ]
     },
     "metadata": {
      "needs_background": "light"
     },
     "output_type": "display_data"
    },
    {
     "data": {
      "image/png": "[encoded data removed]",
      "text/plain": [
       "<Figure size 432x288 with 1 Axes>"
      ]
     },
     "metadata": {
      "needs_background": "light"
     },
     "output_type": "display_data"
    },
    {
     "data": {
      "image/png": "[encoded data removed]",
      "text/plain": [
       "<Figure size 432x288 with 1 Axes>"
      ]
     },
     "metadata": {
      "needs_background": "light"
     },
     "output_type": "display_data"
    },
    {
     "data": {
      "image/png": "[encoded data removed]",
      "text/plain": [
       "<Figure size 432x288 with 1 Axes>"
      ]
     },
     "metadata": {
      "needs_background": "light"
     },
     "output_type": "display_data"
    },
    {
     "data": {
      "image/png": "[encoded data removed]",
      "text/plain": [
       "<Figure size 432x288 with 1 Axes>"
      ]
     },
     "metadata": {
      "needs_background": "light"
     },
     "output_type": "display_data"
    },
    {
     "data": {
      "image/png": "[encoded data removed]",
      "text/plain": [
       "<Figure size 432x288 with 1 Axes>"
      ]
     },
     "metadata": {
      "needs_background": "light"
     },
     "output_type": "display_data"
    },
    {
     "data": {
      "image/png": "[encoded data removed]",
      "text/plain": [
       "<Figure size 432x288 with 1 Axes>"
      ]
     },
     "metadata": {
      "needs_background": "light"
     },
     "output_type": "display_data"
    }
   ],
   "source": [
    "for i in emb_li:\n",
    "    plot_embd(i)"
   ]
  },
  {
   "cell_type": "code",
   "execution_count": 19,
   "id": "2c0c8e30",
   "metadata": {},
   "outputs": [],
   "source": [
    "t=np.array(emb_li)"
   ]
  },
  {
   "cell_type": "code",
   "execution_count": 20,
   "id": "da1f91c7",
   "metadata": {},
   "outputs": [
    {
     "data": {
      "text/plain": [
       "(25, 768)"
      ]
     },
     "execution_count": 20,
     "metadata": {},
     "output_type": "execute_result"
    }
   ],
   "source": [
    "t.shape"
   ]
  },
  {
   "cell_type": "code",
   "execution_count": 21,
   "id": "842536c0",
   "metadata": {},
   "outputs": [],
   "source": [
    "X = np.array([[5,3],\n",
    "     [10,15],\n",
    "     [15,12],\n",
    "     [24,10],\n",
    "     [30,45],\n",
    "     [85,70],\n",
    "     [71,80],\n",
    "     [60,78],\n",
    "     [55,52],\n",
    "     [80,91],])"
   ]
  },
  {
   "cell_type": "code",
   "execution_count": 22,
   "id": "926e29a6",
   "metadata": {},
   "outputs": [
    {
     "data": {
      "text/plain": [
       "(2,)"
      ]
     },
     "execution_count": 22,
     "metadata": {},
     "output_type": "execute_result"
    }
   ],
   "source": [
    "X[0].shape"
   ]
  },
  {
   "cell_type": "code",
   "execution_count": 23,
   "id": "71e02c1e",
   "metadata": {},
   "outputs": [
    {
     "data": {
      "text/plain": [
       "(768,)"
      ]
     },
     "execution_count": 23,
     "metadata": {},
     "output_type": "execute_result"
    }
   ],
   "source": [
    "t[0].shape"
   ]
  },
  {
   "cell_type": "code",
   "execution_count": 24,
   "id": "9659701f",
   "metadata": {},
   "outputs": [
    {
     "data": {
      "text/plain": [
       "KMeans(n_clusters=2)"
      ]
     },
     "execution_count": 24,
     "metadata": {},
     "output_type": "execute_result"
    }
   ],
   "source": [
    "kmeans = KMeans(n_clusters=2)\n",
    "kmeans.fit(t)"
   ]
  },
  {
   "cell_type": "code",
   "execution_count": 25,
   "id": "7f6192e3",
   "metadata": {},
   "outputs": [],
   "source": [
    "cen = kmeans.cluster_centers_"
   ]
  },
  {
   "cell_type": "code",
   "execution_count": 26,
   "id": "c3ed491c",
   "metadata": {},
   "outputs": [
    {
     "name": "stdout",
     "output_type": "stream",
     "text": [
      "[0 0 0 0 0 0 1 0 0 0 0 0 0 0 1 1 1 0 0 0 0 0 0 1 0]\n"
     ]
    }
   ],
   "source": [
    "lab =kmeans.labels_\n",
    "print(lab)"
   ]
  },
  {
   "cell_type": "markdown",
   "id": "50cee3c0",
   "metadata": {},
   "source": [
    "### finding cosine similarity"
   ]
  },
  {
   "cell_type": "code",
   "execution_count": 27,
   "id": "290318f8",
   "metadata": {},
   "outputs": [],
   "source": [
    "from numpy import dot\n",
    "from numpy.linalg import norm\n",
    "\n"
   ]
  },
  {
   "cell_type": "code",
   "execution_count": null,
   "id": "47531f55",
   "metadata": {},
   "outputs": [],
   "source": [
    "\n"
   ]
  },
  {
   "cell_type": "code",
   "execution_count": 28,
   "id": "4cb1eb56",
   "metadata": {},
   "outputs": [],
   "source": [
    "cos_sim_li =[]\n",
    "for i in range(len(t)):\n",
    "    cos_sim_li.append(dot(cen[1], t[i])/(norm(cen[1])*norm(t[i])))"
   ]
  },
  {
   "cell_type": "code",
   "execution_count": 29,
   "id": "37dabdba",
   "metadata": {},
   "outputs": [
    {
     "data": {
      "text/plain": [
       "[0.98714167,\n",
       " 0.9903673,\n",
       " 0.9780981,\n",
       " 0.965277,\n",
       " 0.9663197,\n",
       " 0.9784635,\n",
       " 0.9776842,\n",
       " 0.9724893,\n",
       " 0.9918515,\n",
       " 0.99413943,\n",
       " 0.9828515,\n",
       " 0.9842521,\n",
       " 0.9808099,\n",
       " 0.95785993,\n",
       " 0.9522243,\n",
       " 0.959477,\n",
       " 0.9824399,\n",
       " 0.9817298,\n",
       " 0.98409116,\n",
       " 0.96510565,\n",
       " 0.9494663,\n",
       " 0.9872397,\n",
       " 0.9710168,\n",
       " 0.9680359,\n",
       " 0.9900147]"
      ]
     },
     "execution_count": 29,
     "metadata": {},
     "output_type": "execute_result"
    }
   ],
   "source": [
    "cos_sim_li"
   ]
  },
  {
   "cell_type": "code",
   "execution_count": 30,
   "id": "9c2d27c3",
   "metadata": {},
   "outputs": [
    {
     "data": {
      "text/plain": [
       "0.9744219"
      ]
     },
     "execution_count": 30,
     "metadata": {},
     "output_type": "execute_result"
    }
   ],
   "source": [
    "(dot(cen[0], s1)/(norm(cen[0])*norm(s1)))"
   ]
  },
  {
   "cell_type": "code",
   "execution_count": 31,
   "id": "6b49671d",
   "metadata": {},
   "outputs": [],
   "source": [
    "s1=get_sen_emb(\"werf vfg rth fghtrj  rrfety\")"
   ]
  },
  {
   "cell_type": "code",
   "execution_count": 32,
   "id": "2ee7a1b1",
   "metadata": {},
   "outputs": [
    {
     "data": {
      "text/plain": [
       "array([-3.46108407e-01, -3.22425854e-03, -1.02638938e-01,  1.45340338e-01,\n",
       "       -1.09345391e-02, -1.50730178e-01,  5.30229986e-01, -2.14082420e-01,\n",
       "       -4.74139959e-01,  1.35158867e-01, -7.03713000e-02,  3.20124596e-01,\n",
       "       -2.85587400e-01,  3.78769755e-01, -5.00640631e-01, -3.15147161e-01,\n",
       "        3.53482574e-01, -8.25179294e-02, -2.96920866e-01,  5.77422678e-01,\n",
       "       -1.84278980e-01,  2.49512687e-01, -4.08614397e-01,  1.75207987e-01,\n",
       "       -7.21282661e-01, -2.11113200e-01,  1.75481096e-01,  7.33939484e-02,\n",
       "        2.95417458e-01, -4.22039598e-01,  3.38127851e-01,  2.72631615e-01,\n",
       "        6.40399083e-02,  4.14879292e-01,  1.79825604e-01, -1.44152492e-01,\n",
       "        3.12794954e-01, -2.64817089e-01,  9.65274051e-02,  2.67474085e-01,\n",
       "        4.34058271e-02,  2.46948913e-01,  1.34899886e-02, -4.28590387e-01,\n",
       "        9.47800279e-02, -3.42522383e-01, -5.90951145e-02, -2.05184460e-01,\n",
       "        6.65634453e-01, -5.54647744e-01, -1.09917186e-01, -3.83918062e-02,\n",
       "       -1.78276882e-01, -4.90225673e-01, -5.02272427e-01,  7.50596598e-02,\n",
       "        5.93355834e-01, -5.53911984e-01, -1.44233182e-01, -2.01101422e-01,\n",
       "        4.32757139e-01, -1.40511349e-01,  2.87290722e-01, -6.63285315e-01,\n",
       "       -2.27074623e-02,  2.45373845e-01,  1.40723987e-02,  2.51296312e-01,\n",
       "        1.86227467e-02, -6.70013055e-02,  1.13775082e-01,  2.37030149e-01,\n",
       "        2.13630453e-01,  3.89029771e-01, -1.72694493e-02,  6.11017942e-01,\n",
       "       -5.30554466e-02, -2.09629580e-01, -1.39776198e-02,  2.50010878e-01,\n",
       "       -2.72453785e-01, -6.41649723e-01, -3.30931813e-01,  2.97712177e-01,\n",
       "       -1.30879119e-01, -8.15959796e-02,  7.83758834e-02,  4.53517474e-02,\n",
       "       -1.54001459e-01,  4.76799518e-01,  6.10309362e-01, -9.21725631e-02,\n",
       "       -3.02141011e-01,  1.03514276e-01, -2.73268014e-01, -9.78024602e-02,\n",
       "       -5.94496965e-01, -3.32605571e-01,  3.64683241e-01, -1.28299847e-01,\n",
       "        2.43086472e-01,  1.76198373e-03, -6.76117599e-01, -4.40669537e-01,\n",
       "       -1.21157505e-01, -8.86425599e-02,  5.72069995e-02,  7.09673986e-02,\n",
       "        5.65154493e-01,  4.36640471e-01,  2.96771139e-01,  4.33265455e-02,\n",
       "       -4.90656286e-01, -1.76377535e-01, -3.33029777e-01, -2.07341895e-01,\n",
       "       -4.47528362e-01, -1.08625233e-01,  6.02662330e-03,  3.49776112e-02,\n",
       "        5.84201992e-01, -2.26172611e-01,  2.01136991e-01, -7.42656231e-01,\n",
       "       -3.01167041e-01,  4.46519941e-01, -7.24020675e-02, -2.37311348e-01,\n",
       "       -1.57704547e-01, -3.58642608e-01,  3.82129163e-01,  5.60557902e-01,\n",
       "       -1.79503605e-01,  1.92912519e-01,  2.86515594e-01, -3.70350838e-01,\n",
       "       -4.57403697e-02,  3.65903735e-01, -3.02157197e-02, -2.97694951e-01,\n",
       "        5.66963553e-02,  3.63555461e-01,  7.67338216e-01,  2.79185534e-01,\n",
       "        2.53434867e-01, -3.28295678e-01,  1.40469238e-01, -4.55684036e-01,\n",
       "       -2.65253007e-01, -6.67052949e-03, -2.98795551e-02,  9.07506570e-02,\n",
       "       -2.47595832e-01,  3.95731688e-01, -2.24760056e-01, -1.75326928e-01,\n",
       "        4.60218377e-02, -5.24449758e-02, -2.70948857e-01,  4.06574272e-02,\n",
       "       -3.67842704e-01, -2.39267871e-01,  6.98545933e-01,  6.46666884e-02,\n",
       "        4.78181869e-01,  1.55415460e-02,  1.12026669e-01, -1.87397137e-01,\n",
       "        3.04730147e-01,  3.12810779e-01, -7.72722885e-02,  4.18155402e-01,\n",
       "        4.24526453e-01,  7.04946518e-02,  3.93940024e-02,  2.79262632e-01,\n",
       "        5.77561818e-02, -9.51788723e-02, -9.58941579e-02,  4.56057072e-01,\n",
       "       -4.20712680e-01,  7.55073488e-01, -5.17938375e-01, -4.14168835e-01,\n",
       "       -2.71846280e-02,  5.11949003e-01,  3.87991756e-01,  2.59938657e-01,\n",
       "        5.77957891e-02,  1.35101676e-01,  3.26525494e-02,  1.40516713e-01,\n",
       "       -7.58635774e-02, -1.03430778e-01, -6.24794781e-01,  1.47643104e-01,\n",
       "        3.92210841e-01, -4.88926768e-02,  1.27316162e-01, -1.73195899e-01,\n",
       "        7.27093443e-02, -5.21788061e-01,  4.00146097e-02,  1.66806746e-02,\n",
       "       -5.58484614e-01, -4.69735712e-01,  1.55098841e-01, -6.87760293e-01,\n",
       "       -2.31114388e-01, -3.16251785e-01,  9.71054509e-02,  9.47570577e-02,\n",
       "        6.63993120e-01, -2.32296064e-01, -1.81841722e-03, -6.69875383e-01,\n",
       "       -2.41894126e-02,  3.88546377e-01,  2.21652210e-01,  4.16223258e-02,\n",
       "        3.23683023e-01, -2.54062921e-01, -4.73472476e-01,  3.29541713e-01,\n",
       "       -7.70415127e-01,  1.40170390e-02,  1.05571188e-02, -4.21406001e-01,\n",
       "       -1.28084973e-01,  2.07272172e-02, -5.83371699e-01, -5.75931370e-01,\n",
       "        1.57502159e-01, -4.55123067e-01, -4.26172107e-01, -5.00765622e-01,\n",
       "        1.06997572e-01, -9.69376788e-02, -1.84072569e-01,  1.96661234e-01,\n",
       "       -2.46890262e-01, -4.19238657e-01,  2.30299905e-01, -3.13569456e-01,\n",
       "        2.27735579e-01,  5.68553925e-01, -7.16922283e-01, -1.39745951e-01,\n",
       "        1.67997498e-02,  2.00834069e-02, -3.84720474e-01, -1.60440996e-01,\n",
       "       -2.15574458e-01,  6.29600063e-02, -6.65706575e-01, -3.17698568e-01,\n",
       "       -1.92391530e-01, -2.26488993e-01,  1.01436742e-01, -4.23215143e-02,\n",
       "        1.57467097e-01, -1.43888131e-01, -4.92741674e-01, -2.47153446e-01,\n",
       "       -1.00556672e-01,  4.65373158e-01, -3.45097631e-01,  5.79791963e-01,\n",
       "        3.46455425e-02, -3.17869514e-01,  5.18549621e-01, -5.68038583e-01,\n",
       "        2.97007114e-01,  8.54888484e-02, -3.68012816e-01, -3.05472225e-01,\n",
       "       -2.71402687e-01,  3.85830015e-01, -8.40221271e-02, -3.12037975e-01,\n",
       "        1.11482166e-01, -7.13496953e-02,  2.63885826e-01,  1.87273875e-01,\n",
       "        1.27240494e-01, -7.94758141e-01,  1.09956823e-01,  2.75311042e-02,\n",
       "       -4.18700844e-01,  1.79158330e-01, -3.91376108e-01, -2.38442376e-01,\n",
       "       -6.49714470e-02,  2.50726193e-01,  1.61040023e-01,  2.32838109e-01,\n",
       "        3.43568921e-01, -3.75882030e-01,  3.44974995e-01, -5.65051258e-01,\n",
       "       -1.03069603e-01,  1.50739357e-01, -1.62854835e-01, -2.75161508e-02,\n",
       "       -2.51801521e-01, -2.07845509e-01,  2.83751577e-01,  4.91172314e-01,\n",
       "        1.70898855e-01, -3.83192569e-01,  2.71383703e-01, -4.23468560e-01,\n",
       "        4.57165271e-01,  4.54696417e-01, -1.58313498e-01, -6.58982575e-01,\n",
       "        2.11085126e-01,  2.77960747e-01,  3.98746014e-01, -4.05519158e-01,\n",
       "       -5.56525767e-01,  6.76828623e-02,  1.36528939e-01,  5.31481743e-01,\n",
       "       -2.62941450e-01, -2.51196414e-01, -1.38338536e-01, -1.03469998e-01,\n",
       "       -3.58833671e-02, -1.24376737e-01, -1.66985318e-01, -1.83795884e-01,\n",
       "       -5.89897096e-01, -1.53032854e-01,  3.35706025e-01,  6.38845190e-02,\n",
       "       -3.10947537e-01,  4.25159149e-02, -5.18613160e-01, -2.36779645e-01,\n",
       "       -5.21326624e-02,  1.79916307e-01,  2.97504943e-02, -4.01364654e-01,\n",
       "        2.59106547e-01, -7.05711767e-02, -1.83738524e-03, -2.30138734e-01,\n",
       "       -4.15566832e-01, -2.58220464e-01,  5.86519986e-02, -3.55064303e-01,\n",
       "       -4.80290502e-01,  3.64249319e-01,  3.94341022e-01,  6.82306588e-01,\n",
       "       -5.80229424e-02, -1.10181175e-01, -2.40616143e-01,  2.73272663e-01,\n",
       "        1.90259829e-01,  6.81751788e-01,  5.08646190e-01,  1.12281017e-01,\n",
       "       -4.38654162e-02,  3.18147808e-01, -4.11869317e-01,  5.24542071e-02,\n",
       "        2.11634621e-01,  2.07474098e-01,  1.57105610e-01, -2.25804582e-01,\n",
       "        2.73595333e-01, -3.51540476e-01, -3.40425372e-02, -3.43212515e-01,\n",
       "        6.64456859e-02,  7.66266212e-02, -2.13394329e-01, -2.41224945e-01,\n",
       "       -4.95366424e-01, -1.12005562e-01,  2.18839511e-01,  1.05176866e-02,\n",
       "        2.62046903e-01,  3.32088500e-01,  3.76278788e-01,  1.25366509e-01,\n",
       "        6.24239981e-01, -8.78869072e-02,  2.18460396e-01,  3.55883718e-01,\n",
       "       -5.09224355e-01, -3.96126270e-01, -5.06759286e-01,  1.34718150e-01,\n",
       "       -1.25182614e-01, -5.59785783e-01,  7.34766424e-02,  1.27190724e-01,\n",
       "        4.38108683e-01,  5.02696276e-01, -1.28848478e-01, -1.86277524e-01,\n",
       "       -8.46486092e-02,  7.43258297e-01,  3.23092788e-01,  5.48748612e-01,\n",
       "       -1.76629111e-01,  1.28734037e-01,  4.12939548e-01,  5.26762158e-02,\n",
       "        4.69941705e-01, -4.92323250e-01, -2.06304014e-01,  3.52636606e-01,\n",
       "       -2.61055231e-01,  2.24110767e-01,  2.06592903e-01, -2.53913552e-01,\n",
       "       -3.70762020e-01,  8.02160025e-01,  1.14194781e-01,  1.50182331e-03,\n",
       "        2.61302114e-01,  2.83862770e-01,  3.73565525e-01, -3.06990415e-01,\n",
       "        1.05316468e-01, -1.05908833e-01,  6.49250031e-01,  1.62236579e-02,\n",
       "       -4.98712957e-02,  2.84215897e-01,  3.59735042e-01,  5.75953424e-02,\n",
       "       -3.34510207e-01, -1.87028036e-01,  6.47519529e-01,  3.46935578e-02,\n",
       "        7.13068485e-01, -2.98741329e-02,  2.48427153e-01, -2.36876115e-01,\n",
       "       -1.10809155e-01, -1.61902711e-01, -4.21993583e-01,  4.74836320e-01,\n",
       "       -2.78498799e-01, -1.14682289e-02, -4.26863164e-01,  1.61867321e-01,\n",
       "        1.95430756e-01,  4.72517133e-01,  2.35795259e-01, -5.83921731e-01,\n",
       "       -2.46260837e-02, -2.98191637e-01,  4.86930221e-01, -4.19753194e-02,\n",
       "       -1.75503671e-01,  1.17333926e-01,  3.09521854e-02, -4.16172862e-01,\n",
       "        3.77250761e-01,  5.25352836e-01, -2.92853236e-01, -1.72487274e-01,\n",
       "        2.92381197e-01,  9.80629325e-02,  6.31292239e-02,  1.62197962e-01,\n",
       "        2.09868714e-01, -3.02492678e-02,  2.50529438e-01,  5.00565290e-01,\n",
       "        2.13383257e-01, -3.63677591e-01,  4.71585125e-01,  2.22341999e-01,\n",
       "       -5.09060733e-02,  3.72773409e-01, -1.74378142e-01, -1.45893976e-01,\n",
       "        1.00914299e-01, -1.34738654e-01,  2.63350993e-01,  5.92222035e-01,\n",
       "       -5.03386497e-01, -4.04459208e-01,  4.08216333e-03, -4.76431459e-01,\n",
       "        7.70075560e-01,  3.22218210e-01, -2.38635540e-01, -1.61395259e-02,\n",
       "        1.96715757e-01, -4.95776348e-02, -6.98042691e-01,  2.04446837e-01,\n",
       "        3.13232154e-01,  3.60495359e-01, -2.91733202e-02, -1.51891233e-02,\n",
       "        2.15311155e-01,  2.88704365e-01, -1.15539670e-01, -6.34847879e-02,\n",
       "        3.05581391e-01,  1.97355170e-02,  4.33861166e-01,  1.22242332e-01,\n",
       "       -1.76460147e-01, -6.79730102e-02,  6.79202080e-02,  3.77327532e-01,\n",
       "       -7.29113221e-02, -1.41932070e-01, -6.60958767e-01,  1.04014762e-01,\n",
       "       -5.80827653e-01,  3.84491652e-01,  1.81500077e-01,  3.27605009e-01,\n",
       "        2.56889284e-01,  4.24318552e-01,  2.61303008e-01,  4.01688188e-01,\n",
       "       -4.12793428e-01, -5.54922402e-01, -7.01559842e-01,  1.88596442e-01,\n",
       "        3.68318915e-01, -2.96822265e-02,  9.16070342e-02, -1.73343778e-01,\n",
       "       -1.35930881e-01, -2.71289404e-02, -3.52978736e-01, -5.40346503e-01,\n",
       "        8.47119167e-02, -5.22059202e-02,  5.45436330e-02,  7.63882324e-02,\n",
       "       -8.60713959e-01,  2.95497835e-01, -2.05845702e-02, -3.66041139e-02,\n",
       "       -8.88045132e-02, -2.61411726e-01, -5.08347809e-01, -5.14203608e-01,\n",
       "        3.65702897e-01,  5.47823720e-02,  1.45876288e-01, -2.66082227e-01,\n",
       "        8.37720837e-03,  5.16024113e-01,  3.41130137e-01, -7.99041688e-01,\n",
       "        3.99819821e-01,  4.76605266e-01, -2.69016743e-01, -1.77768290e-01,\n",
       "       -9.60562825e-02, -2.11372110e-03,  2.48225451e-01, -2.60654658e-01,\n",
       "        2.80202597e-01, -2.12233007e-01, -2.72785395e-01,  3.41770679e-01,\n",
       "        2.69083321e-01, -7.45720625e-01,  4.75832492e-01,  1.21742569e-01,\n",
       "       -5.68117946e-02, -1.02087349e-01,  7.34810680e-02, -2.29266405e-01,\n",
       "       -2.49252260e-01,  5.72541058e-01,  6.46677852e-01, -9.17235240e-02,\n",
       "       -3.16908270e-01, -3.82510930e-01,  4.33823586e-01,  1.19118989e-01,\n",
       "        4.82510120e-01,  5.27044296e-01,  7.07497776e-01,  3.62038136e-01,\n",
       "        1.25778317e-01,  4.05626029e-01,  4.20038223e-01,  1.66861221e-01,\n",
       "       -9.55163762e-02,  2.77596802e-01, -3.25150162e-01,  2.83624947e-01,\n",
       "       -1.01923496e-01, -2.67101526e-01, -7.09228814e-02,  2.57915765e-01,\n",
       "       -3.45825940e-01,  4.01264668e-01, -3.08655083e-01, -1.69493735e-01,\n",
       "        4.16500658e-01,  4.34894830e-01, -4.64006551e-02,  6.70064151e-01,\n",
       "       -4.92306739e-01,  3.84331256e-01,  5.63486256e-02,  2.49239370e-01,\n",
       "        3.55170012e-01, -4.37220372e-02, -3.73989105e-01,  7.89260045e-02,\n",
       "        1.17605753e-01,  7.10118040e-02, -3.54741901e-01,  2.45846510e-01,\n",
       "        3.49777788e-01,  2.27906201e-02,  2.54773408e-01, -6.45484636e-03,\n",
       "        2.09185388e-02,  3.79355818e-01, -3.34483892e-01,  4.36271340e-01,\n",
       "        3.74993920e-01, -3.59134346e-01, -2.53887445e-01, -3.68165523e-02,\n",
       "        2.53605634e-01,  2.80474454e-01, -2.81929731e-01,  2.35273883e-01,\n",
       "       -4.34236526e-02,  6.38069153e-01, -3.37400943e-01,  3.00286084e-01,\n",
       "       -1.42762765e-01,  4.93738323e-01,  2.45625257e-01, -1.59147993e-01,\n",
       "        2.52222478e-01, -1.44385263e-01,  5.23253195e-02, -9.63344947e-02,\n",
       "       -3.50642323e-01,  1.92501113e-01,  2.33987436e-01, -5.34358919e-01,\n",
       "        1.94097564e-01, -3.84145290e-01,  3.68974954e-01, -5.26867211e-01,\n",
       "        1.76274609e-02, -6.94194853e-01,  1.73960790e-01, -7.79243052e-01,\n",
       "        2.66030461e-01,  7.32944235e-02, -3.98432732e-01, -3.16625267e-01,\n",
       "        1.57552108e-01, -3.26915562e-01, -4.56591725e-01, -2.46641040e-01,\n",
       "       -5.13976812e-01, -3.03985208e-01, -1.03825361e-01, -1.93639323e-01,\n",
       "        3.14798445e-01, -1.69539198e-01, -1.80692393e-02, -2.01186776e-01,\n",
       "        2.82309920e-01, -3.10279459e-01, -4.23897624e-01,  1.64037004e-01,\n",
       "        4.59274441e-01, -3.45522851e-01, -7.13171721e-01, -4.68416572e-01,\n",
       "       -7.26204813e-01, -2.47622561e-02,  4.51992184e-01, -1.64219767e-01,\n",
       "        8.73321295e-02, -2.07764372e-01, -4.29847203e-02,  3.82992588e-02,\n",
       "       -6.53160140e-02, -4.82628673e-01, -4.66693074e-01, -1.12490930e-01,\n",
       "        4.60319668e-01, -1.24355458e-01, -1.89192250e-01, -9.22007561e-02,\n",
       "       -3.69693667e-01, -2.86588222e-01,  3.44803303e-01, -4.82006639e-01,\n",
       "       -7.97714218e-02, -1.12659402e-01, -5.24715602e-01, -2.74413794e-01,\n",
       "       -1.06142990e-01, -3.60954255e-01, -3.04097682e-01,  4.55262423e-01,\n",
       "        5.12722373e-01, -2.93768555e-01, -3.95359844e-01, -2.15547726e-01,\n",
       "        2.14497462e-01, -4.61100340e-02,  3.55487578e-02,  5.36116183e-01,\n",
       "        2.40222946e-01, -7.00959936e-02, -2.29143515e-01,  1.43183812e-01,\n",
       "       -6.00767024e-02, -1.10379517e-01,  4.88849193e-01, -2.83277422e-01,\n",
       "       -6.19693637e-01, -4.32203673e-02,  4.91095424e-01,  3.11251730e-02,\n",
       "        4.80042368e-01,  4.38014954e-01, -2.69069191e-04, -1.70217291e-01,\n",
       "        6.01550527e-02, -1.84162259e-01,  3.82430226e-01, -2.72767991e-01,\n",
       "       -2.87662178e-01,  4.53618526e-01, -2.18992338e-01, -5.39317913e-03,\n",
       "       -4.76540327e-02,  1.22346974e-03,  5.79593778e-01,  8.52738693e-02,\n",
       "       -3.30335975e-01,  3.50416809e-01,  1.85092941e-01,  6.19971097e-01,\n",
       "       -7.93561563e-02, -6.28247261e-02,  1.90710612e-02,  1.23964153e-01,\n",
       "        3.19426924e-01, -3.99783611e-01,  4.53296572e-01,  3.88215035e-01,\n",
       "       -9.00146589e-02,  1.65693268e-01,  2.25051045e-02,  6.00117981e-01],\n",
       "      dtype=float32)"
      ]
     },
     "execution_count": 32,
     "metadata": {},
     "output_type": "execute_result"
    }
   ],
   "source": [
    "s1"
   ]
  },
  {
   "cell_type": "markdown",
   "id": "a11631e3",
   "metadata": {},
   "source": [
    "#### Finding Eucledian distance measure"
   ]
  },
  {
   "cell_type": "code",
   "execution_count": 33,
   "id": "5fc17a55",
   "metadata": {},
   "outputs": [],
   "source": [
    "edist_li=[]\n",
    "for i in range(len(t)):\n",
    "    edist_li.append(np.linalg.norm(cen[0]-t[i]))"
   ]
  },
  {
   "cell_type": "code",
   "execution_count": null,
   "id": "82761810",
   "metadata": {},
   "outputs": [],
   "source": []
  },
  {
   "cell_type": "code",
   "execution_count": 34,
   "id": "a113d12e",
   "metadata": {},
   "outputs": [],
   "source": [
    "li_dis=[]\n",
    "for i in zip(edist_li,lab):\n",
    "    li_dis.append(list(i))"
   ]
  },
  {
   "cell_type": "code",
   "execution_count": 35,
   "id": "63794412",
   "metadata": {},
   "outputs": [],
   "source": [
    "npli = np.array(li_dis).T"
   ]
  },
  {
   "cell_type": "code",
   "execution_count": 37,
   "id": "b0da5277",
   "metadata": {},
   "outputs": [
    {
     "data": {
      "image/png": "[encoded data removed]",
      "text/plain": [
       "<Figure size 432x288 with 1 Axes>"
      ]
     },
     "metadata": {
      "needs_background": "light"
     },
     "output_type": "display_data"
    }
   ],
   "source": [
    "\n",
    "#print(x)\n",
    "plt.title(\"Eucledian distance\")\n",
    "plt.scatter(npli[0],npli[1])\n",
    "plt.xlabel(\"Distance from centroid 0\")\n",
    "plt.ylabel(\"cluster number\")\n",
    "plt.show()"
   ]
  },
  {
   "cell_type": "code",
   "execution_count": null,
   "id": "349cf8e4",
   "metadata": {},
   "outputs": [],
   "source": []
  },
  {
   "cell_type": "code",
   "execution_count": 38,
   "id": "f701a4e6",
   "metadata": {},
   "outputs": [],
   "source": [
    "from math import sqrt\n",
    "\n",
    "#create function to calculate Manhattan distance \n",
    "def manhattan(a, b):\n",
    "    return sum(abs(val1-val2) for val1, val2 in zip(a,b))"
   ]
  },
  {
   "cell_type": "code",
   "execution_count": 39,
   "id": "88c9a359",
   "metadata": {},
   "outputs": [
    {
     "data": {
      "text/plain": [
       "0.22487208247184753"
      ]
     },
     "execution_count": 39,
     "metadata": {},
     "output_type": "execute_result"
    }
   ],
   "source": [
    "manhattan([0],t[0])"
   ]
  },
  {
   "cell_type": "code",
   "execution_count": 40,
   "id": "d25b6125",
   "metadata": {},
   "outputs": [],
   "source": [
    "man_dis_li =[]\n",
    "for i in range(len(t)):\n",
    "    man_dis_li.append(manhattan(cen[0],t[i]))"
   ]
  },
  {
   "cell_type": "code",
   "execution_count": 41,
   "id": "a2d74674",
   "metadata": {},
   "outputs": [],
   "source": [
    "man_dis=[]\n",
    "for i in zip(man_dis_li,lab):\n",
    "    man_dis.append(list(i))"
   ]
  },
  {
   "cell_type": "code",
   "execution_count": 42,
   "id": "0c8ea105",
   "metadata": {},
   "outputs": [],
   "source": [
    "m_np_li = np.array(man_dis).T"
   ]
  },
  {
   "cell_type": "code",
   "execution_count": 44,
   "id": "68673e8c",
   "metadata": {},
   "outputs": [
    {
     "data": {
      "image/png": "[encoded data removed]",
      "text/plain": [
       "<Figure size 432x288 with 1 Axes>"
      ]
     },
     "metadata": {
      "needs_background": "light"
     },
     "output_type": "display_data"
    }
   ],
   "source": [
    "\n",
    "plt.title(\"Manhattan distance\")\n",
    "plt.scatter(m_np_li[0],m_np_li[1])\n",
    "plt.xlabel(\"Distance from centroid 0\")\n",
    "plt.ylabel(\"cluster number\")\n",
    "plt.show()"
   ]
  },
  {
   "cell_type": "markdown",
   "id": "3df35f41",
   "metadata": {},
   "source": [
    "### PCA"
   ]
  },
  {
   "cell_type": "code",
   "execution_count": 45,
   "id": "c044fe17",
   "metadata": {},
   "outputs": [],
   "source": [
    "\n",
    "pca_dim = PCA(n_components=4)\n",
    "p_dims = pca_dim.fit_transform(t)\n"
   ]
  },
  {
   "cell_type": "code",
   "execution_count": 46,
   "id": "94cfad14",
   "metadata": {},
   "outputs": [
    {
     "data": {
      "text/plain": [
       "(25, 4)"
      ]
     },
     "execution_count": 46,
     "metadata": {},
     "output_type": "execute_result"
    }
   ],
   "source": [
    "p_dims.shape"
   ]
  },
  {
   "cell_type": "markdown",
   "id": "9172092f",
   "metadata": {},
   "source": [
    "#### kmeans"
   ]
  },
  {
   "cell_type": "code",
   "execution_count": 102,
   "id": "a5590098",
   "metadata": {},
   "outputs": [
    {
     "data": {
      "text/plain": [
       "KMeans(n_clusters=2)"
      ]
     },
     "execution_count": 102,
     "metadata": {},
     "output_type": "execute_result"
    }
   ],
   "source": [
    "pc_kmeans = KMeans(n_clusters=2)\n",
    "pc_kmeans.fit(p_dims)"
   ]
  },
  {
   "cell_type": "code",
   "execution_count": 103,
   "id": "558c22f0",
   "metadata": {},
   "outputs": [
    {
     "name": "stdout",
     "output_type": "stream",
     "text": [
      "[0 1 0 0 0 0 0 0 1 1 1 0 1 0 0 0 1 1 1 0 0 1 0 0 1] \n",
      " [0 1 0 0 0 0 0 0 1 1 1 0 1 0 0 0 1 1 1 0 0 0 0 0 1]\n"
     ]
    }
   ],
   "source": [
    "pc_lab =pc_kmeans.labels_\n",
    "print(pc_lab,\"\\n\",lab)"
   ]
  },
  {
   "cell_type": "code",
   "execution_count": 104,
   "id": "f82af2c1",
   "metadata": {},
   "outputs": [],
   "source": [
    "pc_cen = pc_kmeans.cluster_centers_"
   ]
  },
  {
   "cell_type": "code",
   "execution_count": 105,
   "id": "9241b073",
   "metadata": {},
   "outputs": [
    {
     "data": {
      "text/plain": [
       "(2, 4)"
      ]
     },
     "execution_count": 105,
     "metadata": {},
     "output_type": "execute_result"
    }
   ],
   "source": [
    "pc_cen.shape"
   ]
  },
  {
   "cell_type": "code",
   "execution_count": 141,
   "id": "453c0102",
   "metadata": {},
   "outputs": [
    {
     "data": {
      "text/plain": [
       "array([[-0.6323386 ,  0.0288893 ,  0.11372276,  0.03462077],\n",
       "       [ 0.9485077 , -0.04333395, -0.17058405, -0.05193121]],\n",
       "      dtype=float32)"
      ]
     },
     "execution_count": 141,
     "metadata": {},
     "output_type": "execute_result"
    }
   ],
   "source": [
    "pc_cen"
   ]
  },
  {
   "cell_type": "code",
   "execution_count": 106,
   "id": "94e4b85a",
   "metadata": {},
   "outputs": [],
   "source": [
    "pc_cos_sim_li =[]\n",
    "for i in range(len(t)):\n",
    "    pc_cos_sim_li.append(dot(pc_cen[0], p_dims[i])/(norm(pc_cen[0])*norm(p_dims[i])))"
   ]
  },
  {
   "cell_type": "code",
   "execution_count": 120,
   "id": "fb98f419",
   "metadata": {},
   "outputs": [],
   "source": [
    "dic={}\n",
    "\n",
    "\n"
   ]
  },
  {
   "cell_type": "code",
   "execution_count": 121,
   "id": "df01680b",
   "metadata": {},
   "outputs": [
    {
     "data": {
      "text/plain": [
       "[0.005489677,\n",
       " -0.4261848,\n",
       " 0.5624271,\n",
       " 0.49022648,\n",
       " 0.91321903,\n",
       " 0.41313344,\n",
       " 0.4526885,\n",
       " 0.38990393,\n",
       " -0.70333135,\n",
       " -0.7570472,\n",
       " -0.7077284,\n",
       " 0.008862369,\n",
       " -0.62665796,\n",
       " 0.8639304,\n",
       " 0.8106701,\n",
       " 0.4978293,\n",
       " -0.6927776,\n",
       " -0.52484936,\n",
       " -0.5332395,\n",
       " 0.36252433,\n",
       " 0.6843878,\n",
       " -0.35386515,\n",
       " 0.16037975,\n",
       " 0.29263973,\n",
       " -0.9265161]"
      ]
     },
     "execution_count": 121,
     "metadata": {},
     "output_type": "execute_result"
    }
   ],
   "source": [
    "pc_cos_sim_li"
   ]
  },
  {
   "cell_type": "code",
   "execution_count": 122,
   "id": "1d9efa0f",
   "metadata": {},
   "outputs": [],
   "source": [
    "for i  in range(len(p_dims)):\n",
    "    dic[i] = pc_cos_sim_li[i]"
   ]
  },
  {
   "cell_type": "code",
   "execution_count": 123,
   "id": "28be3c7e",
   "metadata": {},
   "outputs": [
    {
     "data": {
      "text/plain": [
       "{0: 0.005489677,\n",
       " 1: -0.4261848,\n",
       " 2: 0.5624271,\n",
       " 3: 0.49022648,\n",
       " 4: 0.91321903,\n",
       " 5: 0.41313344,\n",
       " 6: 0.4526885,\n",
       " 7: 0.38990393,\n",
       " 8: -0.70333135,\n",
       " 9: -0.7570472,\n",
       " 10: -0.7077284,\n",
       " 11: 0.008862369,\n",
       " 12: -0.62665796,\n",
       " 13: 0.8639304,\n",
       " 14: 0.8106701,\n",
       " 15: 0.4978293,\n",
       " 16: -0.6927776,\n",
       " 17: -0.52484936,\n",
       " 18: -0.5332395,\n",
       " 19: 0.36252433,\n",
       " 20: 0.6843878,\n",
       " 21: -0.35386515,\n",
       " 22: 0.16037975,\n",
       " 23: 0.29263973,\n",
       " 24: -0.9265161}"
      ]
     },
     "execution_count": 123,
     "metadata": {},
     "output_type": "execute_result"
    }
   ],
   "source": [
    "dic"
   ]
  },
  {
   "cell_type": "code",
   "execution_count": null,
   "id": "843cd367",
   "metadata": {},
   "outputs": [],
   "source": []
  },
  {
   "cell_type": "code",
   "execution_count": 137,
   "id": "7f055d2e",
   "metadata": {},
   "outputs": [],
   "source": [
    "dic0,dic1 ={},{}\n",
    "for i,v in dic.items():\n",
    "    #print(i,v)\n",
    "    if(pc_lab[i] == 0):\n",
    "        dic0[i] = v\n",
    "    elif(pc_lab[i] == 1):\n",
    "        dic1[i] = v\n"
   ]
  },
  {
   "cell_type": "code",
   "execution_count": 140,
   "id": "b721a5f4",
   "metadata": {},
   "outputs": [
    {
     "data": {
      "text/plain": [
       "{0: 0.005489677,\n",
       " 2: 0.5624271,\n",
       " 3: 0.49022648,\n",
       " 4: 0.91321903,\n",
       " 5: 0.41313344,\n",
       " 6: 0.4526885,\n",
       " 7: 0.38990393,\n",
       " 11: 0.008862369,\n",
       " 13: 0.8639304,\n",
       " 14: 0.8106701,\n",
       " 15: 0.4978293,\n",
       " 19: 0.36252433,\n",
       " 20: 0.6843878,\n",
       " 22: 0.16037975,\n",
       " 23: 0.29263973}"
      ]
     },
     "execution_count": 140,
     "metadata": {},
     "output_type": "execute_result"
    }
   ],
   "source": [
    "dic0"
   ]
  },
  {
   "cell_type": "markdown",
   "id": "aefc6195",
   "metadata": {},
   "source": [
    "### "
   ]
  },
  {
   "cell_type": "code",
   "execution_count": 117,
   "id": "2aaa82ad",
   "metadata": {},
   "outputs": [
    {
     "name": "stdout",
     "output_type": "stream",
     "text": [
      "0\n",
      "1\n",
      "2\n",
      "3\n",
      "4\n",
      "5\n",
      "6\n",
      "7\n",
      "8\n",
      "9\n"
     ]
    }
   ],
   "source": [
    "for i in range(10):\n",
    "    print(i)"
   ]
  },
  {
   "cell_type": "code",
   "execution_count": 86,
   "id": "add650ed",
   "metadata": {},
   "outputs": [],
   "source": [
    "#### pca manhattan"
   ]
  },
  {
   "cell_type": "code",
   "execution_count": 87,
   "id": "d5796334",
   "metadata": {},
   "outputs": [],
   "source": [
    "pman_dis_li =[]\n",
    "for i in range(len(t)):\n",
    "    pman_dis_li.append(manhattan(pc_cen[0],p_dims[i]))"
   ]
  },
  {
   "cell_type": "code",
   "execution_count": 88,
   "id": "3ff3f2a1",
   "metadata": {},
   "outputs": [],
   "source": [
    "pman_dis=[]\n",
    "for i in zip(pman_dis_li,pc_lab):\n",
    "    pman_dis.append(list(i))"
   ]
  },
  {
   "cell_type": "code",
   "execution_count": 89,
   "id": "deae7869",
   "metadata": {},
   "outputs": [],
   "source": [
    "pm_np_li = np.array(pman_dis).T"
   ]
  },
  {
   "cell_type": "code",
   "execution_count": 90,
   "id": "afa59411",
   "metadata": {
    "scrolled": true
   },
   "outputs": [
    {
     "data": {
      "image/png": "[encoded data removed]",
      "text/plain": [
       "<Figure size 432x288 with 1 Axes>"
      ]
     },
     "metadata": {
      "needs_background": "light"
     },
     "output_type": "display_data"
    }
   ],
   "source": [
    "\n",
    "plt.title(\"Manhattan distance\")\n",
    "plt.scatter(pm_np_li[0],pm_np_li[1])\n",
    "plt.xlabel(\"Distance from centroid 0\")\n",
    "plt.ylabel(\"cluster number\")\n",
    "plt.show()"
   ]
  },
  {
   "cell_type": "markdown",
   "id": "02bec3c8",
   "metadata": {},
   "source": [
    "#### Finding Eucledian distance measure"
   ]
  },
  {
   "cell_type": "code",
   "execution_count": 91,
   "id": "08035994",
   "metadata": {},
   "outputs": [],
   "source": [
    "pedist_li=[]\n",
    "for i in range(len(p_dims)):\n",
    "    pedist_li.append(np.linalg.norm(pc_cen[0]-p_dims[i]))"
   ]
  },
  {
   "cell_type": "code",
   "execution_count": null,
   "id": "440be450",
   "metadata": {},
   "outputs": [],
   "source": []
  },
  {
   "cell_type": "code",
   "execution_count": 92,
   "id": "b1d1d1b7",
   "metadata": {},
   "outputs": [],
   "source": [
    "pli_dis=[]\n",
    "for i in zip(pedist_li,pc_lab):\n",
    "    pli_dis.append(list(i))"
   ]
  },
  {
   "cell_type": "code",
   "execution_count": 93,
   "id": "510c0429",
   "metadata": {},
   "outputs": [],
   "source": [
    "pnpli = np.array(pli_dis).T"
   ]
  },
  {
   "cell_type": "code",
   "execution_count": 94,
   "id": "dd249c7e",
   "metadata": {},
   "outputs": [
    {
     "data": {
      "image/png": "[encoded data removed]",
      "text/plain": [
       "<Figure size 432x288 with 1 Axes>"
      ]
     },
     "metadata": {
      "needs_background": "light"
     },
     "output_type": "display_data"
    }
   ],
   "source": [
    "\n",
    "plt.title(\"Eucledian distance\")\n",
    "plt.scatter(pnpli[0],pnpli[1])\n",
    "plt.xlabel(\"Distance from centroid 0\")\n",
    "plt.ylabel(\"cluster number\")\n",
    "plt.show()"
   ]
  },
  {
   "cell_type": "code",
   "execution_count": null,
   "id": "fe784714",
   "metadata": {},
   "outputs": [],
   "source": []
  },
  {
   "cell_type": "code",
   "execution_count": null,
   "id": "c8e879a4",
   "metadata": {},
   "outputs": [],
   "source": []
  },
  {
   "cell_type": "code",
   "execution_count": null,
   "id": "a1099bb3",
   "metadata": {},
   "outputs": [],
   "source": []
  }
 ],
 "metadata": {
  "kernelspec": {
   "display_name": "Python 3 (ipykernel)",
   "language": "python",
   "name": "python3"
  },
  "language_info": {
   "codemirror_mode": {
    "name": "ipython",
    "version": 3
   },
   "file_extension": ".py",
   "mimetype": "text/x-python",
   "name": "python",
   "nbconvert_exporter": "python",
   "pygments_lexer": "ipython3",
   "version": "3.8.10"
  }
 },
 "nbformat": 4,
 "nbformat_minor": 5
}
